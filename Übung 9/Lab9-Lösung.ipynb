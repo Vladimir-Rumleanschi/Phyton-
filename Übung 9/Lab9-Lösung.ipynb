{
 "cells": [
  {
   "cell_type": "markdown",
   "metadata": {},
   "source": [
    "# Lab Nr. 9 - Datenstrukturen und Algorithmen\n",
    "## WiSe2021/22"
   ]
  },
  {
   "cell_type": "markdown",
   "metadata": {},
   "source": [
    "**Aufgabe 1** (Sortieren)\n",
    "\n",
    "Bewerten Sie folgenden Aussagen mit Wahr oder Falsch.\n",
    "\n",
    "\n",
    "(a) Das beste allgemein anwendbare Sortierverfahren hat eine asymptotische worst-case Laufzeitkomplexität von O(n). (Allgemein anwendbar bedeutet, dass man die Liste nicht vorher kennt)\n",
    "\n",
    "(b) In-place Sortieralgorithmen haben eine asymptotisch höhere Laufzeitkomplexität als Sortieralgorithmen, die für die gleiche Strategie Hilfsarrays nutzen. \n",
    "\n"
   ]
  },
  {
   "cell_type": "markdown",
   "metadata": {},
   "source": [
    "**Lösung** \n",
    "\n",
    "a) Falsch, Vergleichsbasierte sind allgemein und die Laufzeit ist $\\mathcal{O}(n\\log(n))$, Radixsort ist nicht allgemein anwendbar. \n",
    "\n",
    "b) Falsch. Sie haben gleiche asymptotische Komplexität. Nachteil ist oft Stabilität und Komplexität des Algorithmus."
   ]
  },
  {
   "cell_type": "markdown",
   "metadata": {},
   "source": [
    "**Aufgabe 2** (Sortieren)\n",
    "\n",
    "(a) Ein Datensatz soll anhand des Datums sortiert werden. Die Sortierung soll mit Radixsort stattfinden. \n",
    "Wie oft muss Countingsort ausgeführt werden, falls das Datumformat TT.MM.JJJJ entspricht?\n",
    "Geben Sie zwei Möglichkeiten an und diskutieren Sie Vor-und Nachteile. \n",
    "\n",
    "(b) Wir sortieren eine Menge von $n$ Zahlen, die aus dem Wertebereich von $[n^\\frac{k}{2},n^k]$ bestehen. Was ist die erwartete Laufzeitkomplexität von Radixsort?\n",
    "\n",
    "(c) Welcher Algorithmus hat die beste Laufzeitkomplexität für die Sortierung einer Liste von einer Millionen ASCII-Symbolen? "
   ]
  },
  {
   "cell_type": "markdown",
   "metadata": {},
   "source": [
    "**Lösung:**\n",
    "\n",
    "a) Countingsortaufruf für jede Ziffer bzw. für jede Datumskomponente. Vorteil für jede Ziffer: kleinerer Speicher erforderlich, da alle Ziffern von 0-9 gehen. Vorteil für Datumskomponente: Weniger Countingsort-Aufrufe. Nachteile sind analog. Ein weiterer Nachteil der Sortierung der Datumskomponenten ist, dass jeweils unterschiedliche Hilfsarrays mitmodelliert werden müssen.\n",
    "\n",
    "b) Radixsort hat die Komplexität $\\mathcal{O}((n+k)d$). $k=10$, $d = \\log(n^k)$\n",
    "\n",
    "c) Countingsort. $\\mathcal{O}(n+255)$"
   ]
  },
  {
   "cell_type": "markdown",
   "metadata": {},
   "source": [
    "**Aufgabe 3** (Algorithmus-Design/Sortieren)\n",
    "\n",
    "Entwerfen Sie einen Algorithmus, welcher für ein gegebenes Array **a** von ganzen Zahlen folgende Ungleichungen erfüllt:\n",
    "\n",
    "\n",
    "I. a[i] < a[i+1] für gerade Indexpositionen i\n",
    "\n",
    "und \n",
    "\n",
    "II. a[i] > a[i+1] für ungerade Indexpositionen i\n",
    "\n",
    "Ihre Lösung soll eine asymptotische Laufzeit von $\\mathcal{O}(n \\log(n))$ nicht übersteigen.\n"
   ]
  },
  {
   "cell_type": "code",
   "execution_count": 6,
   "metadata": {},
   "outputs": [
    {
     "data": {
      "text/plain": [
       "[1, 6, 2, 5, 3, 4]"
      ]
     },
     "execution_count": 6,
     "metadata": {},
     "output_type": "execute_result"
    }
   ],
   "source": [
    "#Lösung\n",
    "def sort_in_waves(a):\n",
    "    a.sort()#initiales Sortieren\n",
    "    size = len(a)\n",
    "    b=[]\n",
    "    for i in range(len(a)//2):#tausche jede zweite Position mit einer Position vom Ende des Arrays\n",
    "        b.append(a[i])\n",
    "        b.append(a[size-1])\n",
    "        size = size -1\n",
    "    if len(a) % 2:\n",
    "        b.append(a[len(a)//2])\n",
    "    return b\n",
    "sort_in_waves([1,2,3,4,5,6])"
   ]
  },
  {
   "cell_type": "markdown",
   "metadata": {},
   "source": [
    "**Aufgabe 4**\n",
    "\n",
    "Besprechen Sie die Programmieraufgaben aus den Hausaufgabenblättern 6 und 7. "
   ]
  }
 ],
 "metadata": {
  "kernelspec": {
   "display_name": "Python 3",
   "language": "python",
   "name": "python3"
  },
  "language_info": {
   "codemirror_mode": {
    "name": "ipython",
    "version": 3
   },
   "file_extension": ".py",
   "mimetype": "text/x-python",
   "name": "python",
   "nbconvert_exporter": "python",
   "pygments_lexer": "ipython3",
   "version": "3.8.8"
  }
 },
 "nbformat": 4,
 "nbformat_minor": 4
}
