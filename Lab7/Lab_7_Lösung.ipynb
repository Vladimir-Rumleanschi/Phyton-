{
 "cells": [
  {
   "cell_type": "markdown",
   "metadata": {},
   "source": [
    "# Lab Nr. 7 - Datenstrukturen und Algorithmen\n",
    "## WiSe2021/22"
   ]
  },
  {
   "cell_type": "markdown",
   "metadata": {},
   "source": [
    "### 1. Aufgabe (B-Bäume) \n",
    "Begründen Sie ihre Antworten jeweils in 2 - 3 Sätzen.\n",
    "\n",
    "\n",
    "(a) Sind alle B-Bäume der Ordnung 4, nach den Definitionen aus der Vorlesung, auch (2,4)-Bäume?"
   ]
  },
  {
   "cell_type": "markdown",
   "metadata": {},
   "source": [
    "**Lösung:** Ja, denn laut der Vorlesung haben wir B-Bäume so definiert, dass jeder Knoten mindestens $\\lceil\\frac{d}{2}\\rceil$ und max. d Kinder hat. Zusätzlich besitzt ein solcher Baum zwischen $(\\lceil\\frac{d}{2}\\rceil - 1)$ und $d - 1$ Schlüssel pro Knoten. Alle Blätter haben das gleiche Level. Dies entspricht genau der Definition von (2,4)-Bäumen: Jeder interne Knoten hat 2 bis 4 Abzweigungen, 1 bis 3 Schlüssel und alle Blätter haben das gleiche Level.\n",
    "\n"
   ]
  },
  {
   "cell_type": "markdown",
   "metadata": {},
   "source": [
    "(b) Warum sind Mehrwege-Suchbäume sinnvolle Datenstrukturen zur Verwaltung von großen Datensätzen, die teilweise auf externen Speichern abgelegt\n",
    "werden?"
   ]
  },
  {
   "cell_type": "markdown",
   "metadata": {},
   "source": [
    "**Lösung:** Knoten eines Mehrwege-Suchbaums verwalten jeweils eine Partition der Schlüsselmenge.\n",
    "Es müssen immer nur gezielte Teile der Daten aus dem Hauptspeicher gelesen werden. Befinden sich die gesuchten Daten nicht an der aktuellen Stelle, existiert ein Verweis wo die Suche fortgesetzt werden muss. \n"
   ]
  },
  {
   "cell_type": "markdown",
   "metadata": {},
   "source": [
    "### 2. Aufgabe (B-Bäume)\n",
    "\n",
    "Zeichnen Sie den Baum vor und nach jeder Split-Operation!\n",
    "Gegeben ist einen Klasse BTreeNode, die zur Abbildung von B-Bäumen benutzt werden soll.\n",
    "Sie können entweder die draw()-Methode aufrufen oder ein eigenes Bild hinzufügen. \n",
    "\n"
   ]
  },
  {
   "cell_type": "code",
   "execution_count": 1,
   "metadata": {},
   "outputs": [],
   "source": [
    "class BTreeNode(object): \n",
    "\tdef __init__(self, keys): \n",
    "\t\tself.keys = keys\n",
    "\t\tself.children = []\n",
    "\t\n",
    "\tdef add_child(self, child_keyss):\n",
    "\t\tself.children.append(BTreeNode(child_keyss))\n",
    "\t\tself.children.sort()\n",
    "\n",
    "\tdef add_key(self, key):\n",
    "\t\tself.keys.append(key)\n",
    "\t\tself.keys.sort()\n",
    "\n",
    "\tdef remove_key(self, key):\n",
    "\t\tself.keys.remove(key)\n",
    "\t\n",
    "\tdef __lt__(self, other):\n",
    "\t\treturn self.keys[-1] < other.keys[-1]\n",
    "\n",
    "\tdef draw(self, root_node=True):\n",
    "\t\tmy_str=''\n",
    "\t\tif root_node:\n",
    "\t\t\tmy_str = '''\n",
    "\t\t\t          \t<!DOCTYPE html>\n",
    "\t\t\t\t\t<html lang=\"en\">\n",
    "\t\t\t\t\t  <head>\n",
    "\t\t\t\t\t    <meta charset=\"utf-8\">\n",
    "\n",
    "\t\t\t\t\t    <title>Collapsible Tree Example</title>\n",
    "\n",
    "\t\t\t\t\t    <style>\n",
    "\n",
    "\t\t\t\t\t\t.node circle {\n",
    "\t\t\t\t\t\t  fill: #fff;\n",
    "\t\t\t\t\t\t  stroke: steelblue;\n",
    "\t\t\t\t\t\t  stroke-width: 3px;\n",
    "\t\t\t\t\t\t}\n",
    "\n",
    "\t\t\t\t\t\t.node text { font: 12px sans-serif; }\n",
    "\n",
    "\t\t\t\t\t\t.link {\n",
    "\t\t\t\t\t\t  fill: none;\n",
    "\t\t\t\t\t\t  stroke: #ccc;\n",
    "\t\t\t\t\t\t  stroke-width: 2px;\n",
    "\t\t\t\t\t\t}\n",
    "\t\t\t\t\t\t\n",
    "\t\t\t\t\t    </style>\n",
    "\n",
    "\t\t\t\t\t  </head>\n",
    "\n",
    "\t\t\t\t\t  <body>\n",
    "\n",
    "\t\t\t\t\t<!-- load the d3.js library -->\t\n",
    "\t\t\t\t\t<script src=\"https://cdnjs.cloudflare.com/ajax/libs/d3/3.5.17/d3.min.js\"></script>\n",
    "\t\t\t\t\t\t\n",
    "\t\t\t\t\t<script>\n",
    "\n",
    "\t\t\t\t\tvar treeData = [\n",
    "\t\t\t\t\t  '''\n",
    "\t\n",
    "\t\tmy_str += '{\"name\": \"'\n",
    "\t\tfor k in self.keys:\n",
    "\t\t\tmy_str += str(k) + ', '\n",
    "\t\tmy_str = my_str[:-2]\n",
    "\t\tmy_str += '\" '\n",
    "\n",
    "\t\tif len(self.children) > 0:\n",
    "\t\t\tmy_str += ', \"children\": ['\n",
    "\n",
    "\t\tvalue_id = 0\t\t\n",
    "\t\tfor child in self.children:\n",
    "\t\t\tmy_str += child.draw(root_node=False) + ', '\n",
    "\t\t\n",
    "\t\tif len(self.children) > 0:\n",
    "\t\t\tmy_str += ']'\n",
    "\t\t\n",
    "\t\tmy_str += '}'\n",
    "\n",
    "\t\t\n",
    "\t\tif root_node:\n",
    "\t\t\tmy_str += '''\n",
    "\t\t\t];\n",
    "\n",
    "\t\t\t// ************** Generate the tree diagram\t *****************\n",
    "\t\t\tvar margin = {top: 40, right: 120, bottom: 20, left: 120},\n",
    "\t\t\t\twidth = 1500 - margin.right - margin.left,\n",
    "\t\t\t\theight = 800 - margin.top - margin.bottom;\n",
    "\t\t\t\t\n",
    "\t\t\tvar i = 0;\n",
    "\n",
    "\t\t\tvar tree = d3.layout.tree()\n",
    "\t\t\t\t.size([height, width]);\n",
    "\n",
    "\t\t\tvar diagonal = d3.svg.diagonal()\n",
    "\t\t\t\t.projection(function(d) { return [d.x, d.y]; });\n",
    "\n",
    "\t\t\tvar svg = d3.select(\"body\").append(\"svg\")\n",
    "\t\t\t\t.attr(\"width\", width + margin.right + margin.left)\n",
    "\t\t\t\t.attr(\"height\", height + margin.top + margin.bottom)\n",
    "\t\t\t  .append(\"g\")\n",
    "\t\t\t\t.attr(\"transform\", \"translate(\" + margin.left + \",\" + margin.top + \")\");\n",
    "\n",
    "\t\t\troot = treeData[0];\n",
    "\t\t\t  \n",
    "\t\t\tupdate(root);\n",
    "\n",
    "\t\t\tfunction update(source) {\n",
    "\n",
    "\t\t\t  // Compute the new tree layout.\n",
    "\t\t\t  var nodes = tree.nodes(root).reverse(),\n",
    "\t\t\t\t  links = tree.links(nodes);\n",
    "\n",
    "\t\t\t  // Normalize for fixed-depth.\n",
    "\t\t\t  nodes.forEach(function(d) { d.y = d.depth * 100; });\n",
    "\n",
    "\t\t\t  // Declare the nodes…\n",
    "\t\t\t  var node = svg.selectAll(\"g.node\")\n",
    "\t\t\t\t  .data(nodes, function(d) { return d.id || (d.id = ++i); });\n",
    "\n",
    "\t\t\t  // Enter the nodes.\n",
    "\t\t\t  var nodeEnter = node.enter().append(\"g\")\n",
    "\t\t\t\t  .attr(\"class\", \"node\")\n",
    "\t\t\t\t  .attr(\"transform\", function(d) { \n",
    "\t\t\t\t\t  return \"translate(\" + d.x + \",\" + d.y + \")\"; });\n",
    "\n",
    "\t\t\t  nodeEnter.append(\"circle\")\n",
    "\t\t\t\t  .attr(\"r\", 10)\n",
    "\t\t\t\t  .style(\"fill\", \"#fff\");\n",
    "\n",
    "\t\t\t  nodeEnter.append(\"text\")\n",
    "\t\t\t\t  .attr(\"y\", function(d) { \n",
    "\t\t\t\t\t  return d.children || d._children ? -18 : 18; })\n",
    "\t\t\t\t  .attr(\"dy\", \".35em\")\n",
    "\t\t\t\t  .attr(\"text-anchor\", \"middle\")\n",
    "\t\t\t\t  .text(function(d) { return d.name; })\n",
    "\t\t\t\t  .style(\"fill-opacity\", 1);\n",
    "\n",
    "\t\t\t  // Declare the links…\n",
    "\t\t\t  var link = svg.selectAll(\"path.link\")\n",
    "\t\t\t\t  .data(links, function(d) { return d.target.id; });\n",
    "\n",
    "\t\t\t  // Enter the links.\n",
    "\t\t\t  link.enter().insert(\"path\", \"g\")\n",
    "\t\t\t\t  .attr(\"class\", \"link\")\n",
    "\t\t\t\t  .attr(\"d\", diagonal);\n",
    "\n",
    "\t\t\t}\n",
    "\n",
    "\t\t\t</script>\n",
    "\t\t\t\t\n",
    "\t\t\t  </body>\n",
    "\t\t\t</html>\n",
    "\n",
    "\t\t\t'''\n",
    "\t\t\n",
    "\t\t\twith open('tree.html', 'w+') as fp:\n",
    "    \t\t\t\tfp.write(my_str)\n",
    "\t\t\tfrom IPython.display import IFrame\n",
    "\n",
    "\t\t\treturn IFrame(src='./tree.html', width=1500, height=400)\n",
    "\t\telse:\n",
    "\t\t\treturn my_str\n",
    "    \n",
    "    \n"
   ]
  },
  {
   "cell_type": "markdown",
   "metadata": {},
   "source": [
    "a) Fügen Sie in den folgenden B-Baum der Ordnung 4 den Schlüssel 75 ein."
   ]
  },
  {
   "cell_type": "code",
   "execution_count": 2,
   "metadata": {
    "scrolled": true
   },
   "outputs": [
    {
     "data": {
      "text/html": [
       "\n",
       "        <iframe\n",
       "            width=\"1500\"\n",
       "            height=\"400\"\n",
       "            src=\"./tree.html\"\n",
       "            frameborder=\"0\"\n",
       "            allowfullscreen\n",
       "        ></iframe>\n",
       "        "
      ],
      "text/plain": [
       "<IPython.lib.display.IFrame at 0x7fb1f8a3d4f0>"
      ]
     },
     "execution_count": 2,
     "metadata": {},
     "output_type": "execute_result"
    }
   ],
   "source": [
    "tree = BTreeNode([44])\n",
    "tree.add_child([15, 22, 30])\n",
    "tree.add_child([55, 60, 77])\n",
    "\n",
    "tree.children[0].add_child([1,5,10])\n",
    "tree.children[0].add_child([17])\n",
    "tree.children[0].add_child([25,28])\n",
    "tree.children[0].add_child([39,41])\n",
    "\n",
    "tree.children[1].add_child([47, 51])\n",
    "tree.children[1].add_child([56, 58])\n",
    "tree.children[1].add_child([66, 69, 72])\n",
    "tree.children[1].add_child([79, 91])\n",
    "\n",
    "tree.draw()"
   ]
  },
  {
   "cell_type": "markdown",
   "metadata": {},
   "source": [
    "**Lösung:**"
   ]
  },
  {
   "cell_type": "code",
   "execution_count": 3,
   "metadata": {},
   "outputs": [
    {
     "data": {
      "text/html": [
       "\n",
       "        <iframe\n",
       "            width=\"1500\"\n",
       "            height=\"400\"\n",
       "            src=\"./tree.html\"\n",
       "            frameborder=\"0\"\n",
       "            allowfullscreen\n",
       "        ></iframe>\n",
       "        "
      ],
      "text/plain": [
       "<IPython.lib.display.IFrame at 0x7fb1f8a3d790>"
      ]
     },
     "execution_count": 3,
     "metadata": {},
     "output_type": "execute_result"
    }
   ],
   "source": [
    "import copy\n",
    "new_tree = copy.deepcopy(tree)\n",
    "new_tree.children[1].children[2].add_key(75)\n",
    "\n",
    "new_tree.draw()"
   ]
  },
  {
   "cell_type": "code",
   "execution_count": 4,
   "metadata": {},
   "outputs": [
    {
     "data": {
      "text/html": [
       "\n",
       "        <iframe\n",
       "            width=\"1500\"\n",
       "            height=\"400\"\n",
       "            src=\"./tree.html\"\n",
       "            frameborder=\"0\"\n",
       "            allowfullscreen\n",
       "        ></iframe>\n",
       "        "
      ],
      "text/plain": [
       "<IPython.lib.display.IFrame at 0x7fb1f8aa37f0>"
      ]
     },
     "execution_count": 4,
     "metadata": {},
     "output_type": "execute_result"
    }
   ],
   "source": [
    "new_tree = copy.deepcopy(tree)\n",
    "new_tree.children[1].children[2].remove_key(72)\n",
    "new_tree.children[1].add_key(72)\n",
    "new_tree.children[1].add_child([75])\n",
    "\n",
    "new_tree.draw()"
   ]
  },
  {
   "cell_type": "code",
   "execution_count": 5,
   "metadata": {},
   "outputs": [
    {
     "data": {
      "text/html": [
       "\n",
       "        <iframe\n",
       "            width=\"1500\"\n",
       "            height=\"400\"\n",
       "            src=\"./tree.html\"\n",
       "            frameborder=\"0\"\n",
       "            allowfullscreen\n",
       "        ></iframe>\n",
       "        "
      ],
      "text/plain": [
       "<IPython.lib.display.IFrame at 0x7fb1f8aa3af0>"
      ]
     },
     "execution_count": 5,
     "metadata": {},
     "output_type": "execute_result"
    }
   ],
   "source": [
    "tree = BTreeNode([44, 72])\n",
    "tree.add_child([15, 22, 30])\n",
    "tree.add_child([55, 60])\n",
    "tree.add_child([77])\n",
    "\n",
    "tree.children[0].add_child([1,5,10])\n",
    "tree.children[0].add_child([17])\n",
    "tree.children[0].add_child([25,28])\n",
    "tree.children[0].add_child([39,41])\n",
    "\n",
    "tree.children[1].add_child([47, 51])\n",
    "tree.children[1].add_child([56, 58])\n",
    "tree.children[1].add_child([66, 69])\n",
    "\n",
    "tree.children[2].add_child([75])\n",
    "tree.children[2].add_child([79, 91])\n",
    "\n",
    "tree.draw()"
   ]
  },
  {
   "cell_type": "markdown",
   "metadata": {},
   "source": [
    "(b) Konstruieren Sie einen B-Baum der Ordnung 4 duch schrittweises Einfügen der Schlüssel B, E, R, G, H, A, I, N. "
   ]
  },
  {
   "cell_type": "code",
   "execution_count": 19,
   "metadata": {},
   "outputs": [
    {
     "data": {
      "text/html": [
       "\n",
       "        <iframe\n",
       "            width=\"1500\"\n",
       "            height=\"400\"\n",
       "            src=\"./tree.html\"\n",
       "            frameborder=\"0\"\n",
       "            allowfullscreen\n",
       "        ></iframe>\n",
       "        "
      ],
      "text/plain": [
       "<IPython.lib.display.IFrame at 0x7fb1f8aa36d0>"
      ]
     },
     "execution_count": 19,
     "metadata": {},
     "output_type": "execute_result"
    }
   ],
   "source": [
    "tree = BTreeNode(['B'])\n",
    "\n",
    "tree.draw()"
   ]
  },
  {
   "cell_type": "code",
   "execution_count": 20,
   "metadata": {},
   "outputs": [
    {
     "data": {
      "text/html": [
       "\n",
       "        <iframe\n",
       "            width=\"1500\"\n",
       "            height=\"400\"\n",
       "            src=\"./tree.html\"\n",
       "            frameborder=\"0\"\n",
       "            allowfullscreen\n",
       "        ></iframe>\n",
       "        "
      ],
      "text/plain": [
       "<IPython.lib.display.IFrame at 0x7fb1f8aafb50>"
      ]
     },
     "execution_count": 20,
     "metadata": {},
     "output_type": "execute_result"
    }
   ],
   "source": [
    "tree.add_key('E')\n",
    "tree.draw()"
   ]
  },
  {
   "cell_type": "code",
   "execution_count": 21,
   "metadata": {},
   "outputs": [
    {
     "data": {
      "text/html": [
       "\n",
       "        <iframe\n",
       "            width=\"1500\"\n",
       "            height=\"400\"\n",
       "            src=\"./tree.html\"\n",
       "            frameborder=\"0\"\n",
       "            allowfullscreen\n",
       "        ></iframe>\n",
       "        "
      ],
      "text/plain": [
       "<IPython.lib.display.IFrame at 0x7fb1f8aaf310>"
      ]
     },
     "execution_count": 21,
     "metadata": {},
     "output_type": "execute_result"
    }
   ],
   "source": [
    "tree.add_key('R')\n",
    "tree.draw()"
   ]
  },
  {
   "cell_type": "code",
   "execution_count": 22,
   "metadata": {},
   "outputs": [
    {
     "data": {
      "text/html": [
       "\n",
       "        <iframe\n",
       "            width=\"1500\"\n",
       "            height=\"400\"\n",
       "            src=\"./tree.html\"\n",
       "            frameborder=\"0\"\n",
       "            allowfullscreen\n",
       "        ></iframe>\n",
       "        "
      ],
      "text/plain": [
       "<IPython.lib.display.IFrame at 0x7fb1f8a7a640>"
      ]
     },
     "execution_count": 22,
     "metadata": {},
     "output_type": "execute_result"
    }
   ],
   "source": [
    "tree = BTreeNode(['G'])\n",
    "tree.add_child(['B', 'E'])\n",
    "tree.add_child(['R'])\n",
    "\n",
    "tree.draw()"
   ]
  },
  {
   "cell_type": "code",
   "execution_count": 23,
   "metadata": {},
   "outputs": [
    {
     "data": {
      "text/html": [
       "\n",
       "        <iframe\n",
       "            width=\"1500\"\n",
       "            height=\"400\"\n",
       "            src=\"./tree.html\"\n",
       "            frameborder=\"0\"\n",
       "            allowfullscreen\n",
       "        ></iframe>\n",
       "        "
      ],
      "text/plain": [
       "<IPython.lib.display.IFrame at 0x7fb1f8aaf1c0>"
      ]
     },
     "execution_count": 23,
     "metadata": {},
     "output_type": "execute_result"
    }
   ],
   "source": [
    "tree.children[1].add_key('H')\n",
    "tree.draw()"
   ]
  },
  {
   "cell_type": "code",
   "execution_count": 24,
   "metadata": {},
   "outputs": [
    {
     "data": {
      "text/html": [
       "\n",
       "        <iframe\n",
       "            width=\"1500\"\n",
       "            height=\"400\"\n",
       "            src=\"./tree.html\"\n",
       "            frameborder=\"0\"\n",
       "            allowfullscreen\n",
       "        ></iframe>\n",
       "        "
      ],
      "text/plain": [
       "<IPython.lib.display.IFrame at 0x7fb1f8aaf460>"
      ]
     },
     "execution_count": 24,
     "metadata": {},
     "output_type": "execute_result"
    }
   ],
   "source": [
    "tree.children[0].add_key('A')\n",
    "tree.draw()"
   ]
  },
  {
   "cell_type": "code",
   "execution_count": 25,
   "metadata": {},
   "outputs": [
    {
     "data": {
      "text/html": [
       "\n",
       "        <iframe\n",
       "            width=\"1500\"\n",
       "            height=\"400\"\n",
       "            src=\"./tree.html\"\n",
       "            frameborder=\"0\"\n",
       "            allowfullscreen\n",
       "        ></iframe>\n",
       "        "
      ],
      "text/plain": [
       "<IPython.lib.display.IFrame at 0x7fb1b88ab4f0>"
      ]
     },
     "execution_count": 25,
     "metadata": {},
     "output_type": "execute_result"
    }
   ],
   "source": [
    "tree.children[1].add_key('I')\n",
    "tree.draw()"
   ]
  },
  {
   "cell_type": "code",
   "execution_count": 26,
   "metadata": {},
   "outputs": [
    {
     "data": {
      "text/html": [
       "\n",
       "        <iframe\n",
       "            width=\"1500\"\n",
       "            height=\"400\"\n",
       "            src=\"./tree.html\"\n",
       "            frameborder=\"0\"\n",
       "            allowfullscreen\n",
       "        ></iframe>\n",
       "        "
      ],
      "text/plain": [
       "<IPython.lib.display.IFrame at 0x7fb1f8aaf4f0>"
      ]
     },
     "execution_count": 26,
     "metadata": {},
     "output_type": "execute_result"
    }
   ],
   "source": [
    "tree.children[1].add_key('N')\n",
    "tree.draw()"
   ]
  },
  {
   "cell_type": "code",
   "execution_count": 27,
   "metadata": {},
   "outputs": [
    {
     "data": {
      "text/html": [
       "\n",
       "        <iframe\n",
       "            width=\"1500\"\n",
       "            height=\"400\"\n",
       "            src=\"./tree.html\"\n",
       "            frameborder=\"0\"\n",
       "            allowfullscreen\n",
       "        ></iframe>\n",
       "        "
      ],
      "text/plain": [
       "<IPython.lib.display.IFrame at 0x7fb1f8aafca0>"
      ]
     },
     "execution_count": 27,
     "metadata": {},
     "output_type": "execute_result"
    }
   ],
   "source": [
    "tree = BTreeNode(['G', 'N'])\n",
    "tree.add_child(['A', 'B', 'E'])\n",
    "tree.add_child(['H', 'I'])\n",
    "tree.add_child(['R'])\n",
    "\n",
    "tree.draw()"
   ]
  },
  {
   "cell_type": "markdown",
   "metadata": {},
   "source": [
    "(c) Löschen Sie aus dem abgebildeten B-Baum der Ordnung 4 nacheinander die\n",
    "Schlüssel 82 und 28. Zeichnen Sie den Baum nach jeder Löschung und Re-\n",
    "strukturierung!"
   ]
  },
  {
   "cell_type": "code",
   "execution_count": 28,
   "metadata": {},
   "outputs": [
    {
     "data": {
      "text/html": [
       "\n",
       "        <iframe\n",
       "            width=\"1500\"\n",
       "            height=\"400\"\n",
       "            src=\"./tree.html\"\n",
       "            frameborder=\"0\"\n",
       "            allowfullscreen\n",
       "        ></iframe>\n",
       "        "
      ],
      "text/plain": [
       "<IPython.lib.display.IFrame at 0x7fb1f8aafbe0>"
      ]
     },
     "execution_count": 28,
     "metadata": {},
     "output_type": "execute_result"
    }
   ],
   "source": [
    "tree = BTreeNode([55])\n",
    "tree.add_child([22, 35])\n",
    "tree.add_child([66, 76, 90])\n",
    "\n",
    "tree.children[0].add_child([2, 9, 16])\n",
    "tree.children[0].add_child([27, 28])\n",
    "tree.children[0].add_child([44, 47, 50])\n",
    "\n",
    "tree.children[1].add_child([58, 62])\n",
    "tree.children[1].add_child([67, 70])\n",
    "tree.children[1].add_child([78, 82, 86])\n",
    "tree.children[1].add_child([95, 97, 99])\n",
    "\n",
    "tree.draw()"
   ]
  },
  {
   "cell_type": "markdown",
   "metadata": {},
   "source": [
    "**Lösung:**"
   ]
  },
  {
   "cell_type": "code",
   "execution_count": 29,
   "metadata": {},
   "outputs": [
    {
     "data": {
      "text/html": [
       "\n",
       "        <iframe\n",
       "            width=\"1500\"\n",
       "            height=\"400\"\n",
       "            src=\"./tree.html\"\n",
       "            frameborder=\"0\"\n",
       "            allowfullscreen\n",
       "        ></iframe>\n",
       "        "
      ],
      "text/plain": [
       "<IPython.lib.display.IFrame at 0x7fb1f8aa3eb0>"
      ]
     },
     "execution_count": 29,
     "metadata": {},
     "output_type": "execute_result"
    }
   ],
   "source": [
    "tree.children[1].children[2].remove_key(82)\n",
    "tree.draw()"
   ]
  },
  {
   "cell_type": "code",
   "execution_count": 30,
   "metadata": {},
   "outputs": [
    {
     "data": {
      "text/html": [
       "\n",
       "        <iframe\n",
       "            width=\"1500\"\n",
       "            height=\"400\"\n",
       "            src=\"./tree.html\"\n",
       "            frameborder=\"0\"\n",
       "            allowfullscreen\n",
       "        ></iframe>\n",
       "        "
      ],
      "text/plain": [
       "<IPython.lib.display.IFrame at 0x7fb1f8a968e0>"
      ]
     },
     "execution_count": 30,
     "metadata": {},
     "output_type": "execute_result"
    }
   ],
   "source": [
    "tree.children[0].children[1].remove_key(28)\n",
    "tree.draw()"
   ]
  },
  {
   "cell_type": "markdown",
   "metadata": {},
   "source": [
    "c) Passen Sie die Baumstruktur BTreeNode so an, dass für festgelegte Ordnungen \"k\", die B-Baum Eigenschaft, über minimale/maximale Anzahl von Knoten und Schlüsseln sichergestellt ist. Kopieren Sie die BTreeNode Klasse von oben und ändern Sie den Code so, dass in den Methoden __init__, add_child, add_key und remove_key, Warnungen durch print() ausgegeben werden, die auf Verletzung der Ordnung hinweisen."
   ]
  },
  {
   "cell_type": "code",
   "execution_count": 24,
   "metadata": {},
   "outputs": [],
   "source": [
    "class BTreeNode(object):\n",
    "    def __init__(self, keys, k):\n",
    "        self.k = k\n",
    "        if (len(keys)>k-1):\n",
    "            print(\"Error: The number of keys are greater than {}.\".format(k-1))\n",
    "        else:\n",
    "            self.keys = keys\n",
    "            self.children = []\n",
    "        \n",
    "    def __lt__(self, other):\n",
    "        return self.keys[-1] < other.keys[-1]\n",
    "\n",
    "    def add_child(self, child_keyss):\n",
    "        if (len(self.children) + 1 > len(self.keys) + 1):\n",
    "            print(\"Error: The number of children will be greater than the number of parent keys + 1\")\n",
    "        elif(len(child_keyss) > self.k-1):\n",
    "            print(\"Error: The number of keys are greater than {}.\".format(k-1))\n",
    "        else:\n",
    "            self.children.append(BTreeNode(child_keyss, self.k))\n",
    "            self.children.sort()\n",
    "\n",
    "    def add_key(self, key):\n",
    "        if (key and len(self.keys)+1 > self.k-1):\n",
    "            print(\"Error: The number of keys will be greater than {}.\".format(self.k-1))\n",
    "        else:\n",
    "            self.keys.append(key)\n",
    "            self.keys.sort()\n",
    "\n",
    "    def remove_key(self, key):\n",
    "        if key in self.keys:\n",
    "            if len(self.keys)<2:\n",
    "                print(\"Error: This node only has one key.\")\n",
    "            else:\n",
    "                self.keys.remove(key)\n",
    "        else:\n",
    "            print(\"Error: The key does not exist.\")"
   ]
  },
  {
   "cell_type": "code",
   "execution_count": 25,
   "metadata": {},
   "outputs": [],
   "source": [
    "tree = []\n",
    "tree = BTreeNode([14,16,20], k=4)"
   ]
  },
  {
   "cell_type": "code",
   "execution_count": 26,
   "metadata": {},
   "outputs": [],
   "source": [
    "tree.add_child([12])"
   ]
  },
  {
   "cell_type": "code",
   "execution_count": 27,
   "metadata": {},
   "outputs": [],
   "source": [
    "tree.add_child([10])"
   ]
  },
  {
   "cell_type": "code",
   "execution_count": 28,
   "metadata": {},
   "outputs": [],
   "source": [
    "tree.add_child([15])"
   ]
  },
  {
   "cell_type": "code",
   "execution_count": 29,
   "metadata": {},
   "outputs": [],
   "source": [
    "tree.add_child([21])"
   ]
  },
  {
   "cell_type": "code",
   "execution_count": 30,
   "metadata": {},
   "outputs": [
    {
     "name": "stdout",
     "output_type": "stream",
     "text": [
      "Error: This node only has one key.\n"
     ]
    }
   ],
   "source": [
    "tree.children[3].remove_key(21)"
   ]
  }
 ],
 "metadata": {
  "kernelspec": {
   "display_name": "Python 3",
   "language": "python",
   "name": "python3"
  },
  "language_info": {
   "codemirror_mode": {
    "name": "ipython",
    "version": 3
   },
   "file_extension": ".py",
   "mimetype": "text/x-python",
   "name": "python",
   "nbconvert_exporter": "python",
   "pygments_lexer": "ipython3",
   "version": "3.8.8"
  }
 },
 "nbformat": 4,
 "nbformat_minor": 4
}
