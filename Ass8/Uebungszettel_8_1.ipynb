{
 "cells": [
  {
   "cell_type": "markdown",
   "metadata": {},
   "source": [
    "# Übungszettel Nr. 8 - Datenstrukturen und Algorithmen\n",
    "## WiSe2021/22"
   ]
  },
  {
   "cell_type": "markdown",
   "metadata": {},
   "source": [
    "**Hinweise**: Bitte reichen Sie Ihre Lösung zum Übungszettel unter Einhaltung der\n",
    "nachfolgenden Regeln ein! Bitte beachten Sie: Nur dann wird der Übungszettel\n",
    "geprüft, ansonsten gilt er als nicht abgegeben!\n",
    "1. Sie können ihre Abgaben auch zu zweit abgeben\n",
    "2. Sie reichen **genau eine Jupyter-Notebook** in einem ZIP-File mit den Lösungen pro Übungszettel ein. Bennenen Sie diese mit Ihrer LUH-ID (z.B. bsp-123). Verwenden Sie bei der Bennenung der Dateien keine Umlaute. Sollten Sie zu zweit abgeben, dann muss nur ein Teilnehmender die Datei hochladen. Tragen Sie auf Ihrer Abgabe beide Namen ein. Bitte beachten Sie, dass bei dem ersten Übungsblatt beide Teilnehmende die selbe Lösung hochladen. (Lesen Sie sich die Hinweise zur Abgabe im Stud.IP durch!)\n",
    "3. Tragen Sie sich im HCI-Abgabetool in die entsprechende Übungsgruppe, die sie besuchen möchten, ein.\n",
    "4. Sie laden Ihre Lösung bis zum nächsten Donnerstag Abend nach Ausgabe des Übungszettels, 23:59 Uhr, in dem HCI-Abgabetool unter der Veranstaltung Datenstrukturen und Algorithmen hoch.\n",
    "5. Erreichen Sie mehr als 66% der zu erreichenden Gesamtpunkte aller Übungszettel, so erhalten Sie einen 10% Bonus auf die erreichten Punkte in der Klausur.\n",
    "\n",
    "Link zum HCI-Abgabetool: https://assignments.hci.uni-hannover.de/"
   ]
  },
  {
   "cell_type": "markdown",
   "metadata": {},
   "source": [
    "### Bohdan Bohdanchenko 10041121\n",
    "\n",
    "### Vladimir Rumelanschi 10037218"
   ]
  },
  {
   "cell_type": "markdown",
   "metadata": {},
   "source": [
    "### 1.  Theoretische Fragen <div style=\"text-align: right\">(6 Punkte)</div>\n"
   ]
  },
  {
   "cell_type": "markdown",
   "metadata": {},
   "source": [
    "a) Wahr/Falsch Fragen: (begründen Sie kurz)\n",
    "\n",
    "I. Ein Sortieralgorithmus hat im schlimmsten Fall eine Zeitkomplexität von $O(nlog (n))$.\\\n",
    "II. Die Pivot-Position hat keinen Einfluss auf die Laufzeit des Quicksort-Algorithmus.\\\n",
    "III. Wenn zwei Elemente in einer Prioritätswarteschlange den gleichen Prioritätswert haben, werden sie nach dem LIFO-Prinzip entfernt.\\\n",
    "IV. Wenn wir das Array in 3 Arrays statt in 2 Arrays bei der Merge-Sortierung aufteilen, haben wir einen schnelleren Algorithmus. "
   ]
  },
  {
   "cell_type": "markdown",
   "metadata": {},
   "source": [
    "a) I. Falsch: Begründung durch Widerspruch - Bubblesort hat eine Zeitkomplexität von $O( n^2)$.\n",
    "\n",
    "   II. Falsch: Best-Case Aufwand wenn das Pivot-Element ist der Median, also array wird immer halbiert, bis zu länge 1. \n",
    "   \n",
    "   Pivot-Element ist der Median, wenn das Pivot-Element ist das Maximum, also jedes Element des Teil-Arrays wird mit dem Pivot-Element verglichen.\n",
    "   \n",
    "   III. Wahr: Die Warteschlange entfert der zweite Element, wenn die die gleichen Prioritätwert haben.\n",
    "   \n",
    "   IV.  Falsch: Aus der Recherche gefunden, dass das Laufkomplexität bei 3-Array-Aufteilung ist $O(n log_3(n)$, also die ist geringer als bei 2-Array-Aufteilung, was das Laufzeitkomplexität $O(n log(n)$ von hat. Allerdings kann die benötigte Zeit tatsächlich länger werden, da die Anzahl der Vergleiche in der Merge-Funktion höher wird.  \n",
    "                \n",
    "    \n",
    "   \n",
    "   "
   ]
  },
  {
   "cell_type": "markdown",
   "metadata": {},
   "source": [
    "b) Welche der folgenden Sequenzen erfüllen die in der Vorlesung vorgestellte MaxHeap Ordnung:\n",
    "\n",
    "1) [10, 12, 13, 14, 15, 16, 17]\n",
    "\n",
    "2) [17, 12, 15, 10, 11, 14, 13]\n",
    "\n",
    "3) [17, 14, 15, 10, 13, 16, 11]\n",
    "\n",
    "4) [17, 15, 16, 14, 13, 11, 10]\n"
   ]
  },
  {
   "cell_type": "code",
   "execution_count": null,
   "metadata": {},
   "outputs": [],
   "source": [
    "4, da wir dort die folgende Struktur bekommen:\n",
    "                                                #       17\n",
    "                                               #      /    \\\n",
    "                                               #    15     16\n",
    "                                               #   /  \\   /  \\\n",
    "                                               #  14  13 11  10\n",
    "2, da wir dort den folgenden Baum bekommen:\n",
    "                                            #          __17___\n",
    "                                            #          /      \\\n",
    "                                            #        12_      15_\n",
    "                                            #       /  \\     /   \\\n",
    "                                            #     10   11   14   13\n",
    "# => Aus den Bäume lässt sich ablesen, dass die Elterknoten sind groesser als\n",
    "# die Kinderknoten, was MaxHeap Ordnung entspricht."
   ]
  },
  {
   "cell_type": "markdown",
   "metadata": {},
   "source": [
    "### 2. Aufgabe (Merge-Sort) <div style=\"text-align: right\">(4 Punkte)</div>\n",
    "\n",
    "Gegegeben sei folgende Liste mit Zahlenwerten: [21, 34, 5, 17, 18, 90, 32, 8, 34, 12, 6]. Führen Sie auf der gegebenen Liste den Merge-Sort Algorithmus, der in der Vorlesung vorgestellt wurde, aus. Geben Sie hierbei die jeweiligen Teillisten nach jedem Schritt an!\n",
    "\n",
    "<b>Hinweis: Bitte die Ausgaben manuell durchführen. Sie brauchen keinen Algorithmus zu implementieren. Es sollen sowohl die Aufteilungsschritte als auch die Merge-Schritte dargestellt werden.</b>"
   ]
  },
  {
   "cell_type": "code",
   "execution_count": 1,
   "metadata": {},
   "outputs": [],
   "source": [
    "#Schritt 1\n",
    "teillisten =  [21, 34, 5, 17, 18, 90, 32, 8, 34, 12, 6]\n",
    "\n",
    "#Schritt 2\n",
    "teillisten =  [[21, 34, 5, 17, 18], [90, 32, 8, 34, 12, 6]]"
   ]
  },
  {
   "cell_type": "code",
   "execution_count": 2,
   "metadata": {},
   "outputs": [],
   "source": [
    "#Schritt 3\n",
    "teillisten = [[21, 34], [5, 17, 18]], [[90, 32, 8], [34, 12, 6]]"
   ]
  },
  {
   "cell_type": "code",
   "execution_count": 4,
   "metadata": {},
   "outputs": [],
   "source": [
    "#Schritt 4\n",
    "teillisten = [[[21, 34]], [[5], [17, 18]]],[[[90], [32, 8]], [[34], [12, 6]]]"
   ]
  },
  {
   "cell_type": "code",
   "execution_count": 6,
   "metadata": {},
   "outputs": [],
   "source": [
    "#Schritt 5\n",
    "teillisten =[[[[21], [34]], [[5], [[17], [18]]]],[[[90], [[32], [[8]]], [[34], [[12], [6]]]]"
   ]
  },
  {
   "cell_type": "code",
   "execution_count": 8,
   "metadata": {},
   "outputs": [],
   "source": [
    "#Schritt 6\n",
    "teillisten =  [[[21, 34]], [[5], [17, 18]]],[[[90], [8, 32]], [[34], [6, 12]]]"
   ]
  },
  {
   "cell_type": "code",
   "execution_count": 10,
   "metadata": {},
   "outputs": [],
   "source": [
    "#Schritt 7\n",
    "teillisten = [[21, 34], [5, 17, 18]], [[8, 32, 90], [6, 12, 34]]"
   ]
  },
  {
   "cell_type": "code",
   "execution_count": 12,
   "metadata": {},
   "outputs": [],
   "source": [
    "#Schritt 8\n",
    "teillisten = [[5, 17, 18, 21, 34], [6, 8, 12, 32, 90]]"
   ]
  },
  {
   "cell_type": "code",
   "execution_count": 14,
   "metadata": {},
   "outputs": [],
   "source": [
    "#Schritt 9\n",
    "teillisten = [5, 6, 8, 12, 17, 18, 21, 32, 34, 90 ]"
   ]
  },
  {
   "cell_type": "markdown",
   "metadata": {},
   "source": [
    "### 3. Aufgabe (Quick-Sort) <div style=\"text-align: right\">(5 Punkte)</div>\n",
    "\n",
    "Gegegeben sei folgende Liste mit Zahlenwerten: [23, 89, 21, 9, 0, 32, 12, 88, 94, 37, 60]. Führen Sie auf dieser Liste den Quicksort-Sort Algorithmus nach dem vorgestellten Algorithmus aus der Vorlesung aus. Geben Sie hierbei die jeweiligen Teillisten nach jedem Schritt an! Nutzen Sie als Pivot-Element das letzte Element der Liste/Teilliste.\n",
    "\n",
    "<b>Hinweis: Bitte die Ausgaben manuell durchführen. Sie brauchen keinen Algorithmus zu implementieren. Es sollen sowohl die Aufteilungsschritte als auch die Merge-Schritte dargestellt werden.</b>"
   ]
  },
  {
   "cell_type": "code",
   "execution_count": 16,
   "metadata": {},
   "outputs": [],
   "source": [
    "#Schritt 1\n",
    "teillisten = [23, 89, 21, 9, 0, 32, 12, 88, 94, 37, 60] # Anzahl der Elemente wird durch 2 geteilt und das Median wird auf die Stelle 6 gesetzt"
   ]
  },
  {
   "cell_type": "code",
   "execution_count": 17,
   "metadata": {},
   "outputs": [],
   "source": [
    "#Schritt 2\n",
    "teillisten = [89, 21, 9, 0, 32, 23, 12, 88, 94, 37, 60] # Auf die Stelle des Medians wird den ersten Element des Arrays gesetzt. "
   ]
  },
  {
   "cell_type": "code",
   "execution_count": 19,
   "metadata": {},
   "outputs": [],
   "source": [
    "#Schritt 3\n",
    "teillisten = [21, 9, 0, 12 | 23 | 89, 32, 88, 94, 37, 60] # wir sortieren die Zahlen, so dass links nur die Zahlen kleiner 23 und rechts nur Zahlen\n",
    "\n",
    "                                                          # grosser 23 bleiben, damit wir Array mit 23 in 2 Teile gesplitet."
   ]
  },
  {
   "cell_type": "code",
   "execution_count": 21,
   "metadata": {},
   "outputs": [],
   "source": [
    "#Schritt 4\n",
    "teillisten = [21, 9, 0, 12 | 23 | 89, 32, 88, 94, 37, 60] # wir setzen demnächst zwei Pivots: Pivot_1: 21 Pivot_2 : 89"
   ]
  },
  {
   "cell_type": "code",
   "execution_count": 23,
   "metadata": {},
   "outputs": [],
   "source": [
    "#Schritt 5\n",
    "teillisten = [9, 21, 0, 12 | 23 | 32, 88, 89, 94, 37, 60] # die Pivots werden auf die Medians des einzelne Teile des Array."
   ]
  },
  {
   "cell_type": "code",
   "execution_count": 25,
   "metadata": {},
   "outputs": [],
   "source": [
    "#Schritt 6\n",
    "teillisten = [9, 0, 12| 21 | 23 | 32, 88, 37, 60| 89 | 94] # Schritt 4  fur einzelne Teile des Arrays."
   ]
  },
  {
   "cell_type": "code",
   "execution_count": 27,
   "metadata": {},
   "outputs": [],
   "source": [
    "#Schritt 7\n",
    "teillisten = [9, 0, 12| 21 | 23 | 32, 88, 37, 60| 89 | 94] # Da zwischen 21 und 23 keine Elemente mehr sind müssen wir demnächst nur 3 Pivots setzen:\n",
    "                                                           # Pivot_1: 9, Pivot_2: 32 und Pivot_3: 94"
   ]
  },
  {
   "cell_type": "code",
   "execution_count": 29,
   "metadata": {},
   "outputs": [],
   "source": [
    "#Schritt 8\n",
    "teillisten = [0| 9 |12| 21 | 23 | 32 | 88, 37, 60| 89 | 94] # Schritt 7"
   ]
  },
  {
   "cell_type": "code",
   "execution_count": 31,
   "metadata": {},
   "outputs": [],
   "source": [
    "#Schritt 9\n",
    "teillisten = [0| 9 |12| 21 | 23 | 32 | 88, 37, 60| 89 | 94] # Pivot:  88 setzen"
   ]
  },
  {
   "cell_type": "code",
   "execution_count": 33,
   "metadata": {},
   "outputs": [],
   "source": [
    "#Schritt 10\n",
    "teillisten = [0| 9 |12| 21 | 23 | 32 | 37| 60| 88| 89 | 94] # Pivot:  88 in die Mitte der geblibene Teil des Arrays setzen und Schritt 3"
   ]
  },
  {
   "cell_type": "markdown",
   "metadata": {},
   "source": [
    "### 4. Aufgabe (Heapsort) <div style=\"text-align: right\">(5 Punkte)</div>\n",
    "\n",
    "Gegeben sei folgender **MinHeap**. Führen Sie den Heapsort-Algorithmus gemäß dem vorgestellten Verfahren aus der Vorlesung aus, um die Liste aufsteigend zu sortieren und zeichnen Sie nach jedem Entfernen eines Knotens die aktuelle Sequenz und den aktuellen Heap. Im Unterschied zu der Folie aus der Vorlesung benutzen wir hier einen **MinHeap**. Die Sequenz muss nicht in-place sortiert werden. Das heißt, dass Sie eine Extrasequenz nur für sortierte Werte anzeigen können."
   ]
  },
  {
   "cell_type": "code",
   "execution_count": 56,
   "metadata": {},
   "outputs": [
    {
     "name": "stdout",
     "output_type": "stream",
     "text": [
      "Aktuelle Sequenz: []\n",
      "\n",
      "    __13___   \n",
      "   /       \\  \n",
      "  25_     17_ \n",
      " /   \\   /   \\\n",
      "32  26  19  22\n",
      "Aktuelle Sequenz: [13]\n",
      "\n",
      "    __22___ \n",
      "   /       \\\n",
      "  25_     17\n",
      " /   \\   /  \n",
      "32  26  19  \n",
      "\n",
      "SortedHeap:\n",
      "    __17___ \n",
      "   /       \\\n",
      "  25_     19\n",
      " /   \\   /  \n",
      "32  26  22  \n",
      "\n",
      "Aktuelle Sequenz: [13, 17]\n",
      "\n",
      "    __22_ \n",
      "   /     \\\n",
      "  25_   19\n",
      " /   \\    \n",
      "32  26    \n",
      "\n",
      "SortedHeap:\n",
      "    __19_ \n",
      "   /     \\\n",
      "  25_   22\n",
      " /   \\    \n",
      "32  26    \n",
      "\n",
      "Aktuelle Sequenz: [13, 17, 19]\n",
      "\n",
      "    26_ \n",
      "   /   \\\n",
      "  25  22\n",
      " /      \n",
      "32      \n",
      "\n",
      "SortedHeap:\n",
      "    22_ \n",
      "   /   \\\n",
      "  25  26\n",
      " /      \n",
      "32      \n",
      "\n",
      "Aktuelle Sequenz: [13, 17, 19, 22]\n",
      "\n",
      "  32_ \n",
      " /   \\\n",
      "25  26\n",
      "\n",
      "SortedHeap:\n",
      "  25_ \n",
      " /   \\\n",
      "32  26\n",
      "\n",
      "Aktuelle Sequenz: [13, 17, 19, 22, 25]\n",
      "\n",
      "  26\n",
      " /  \n",
      "32  \n",
      "\n",
      "SortedHeap:\n",
      "  26\n",
      " /  \n",
      "32  \n",
      "\n",
      "Aktuelle Sequenz: [13, 17, 19, 22, 25, 26]\n",
      "\n",
      "32\n",
      "\n",
      "SortedHeap:\n",
      "32\n",
      "\n",
      "Aktuelle Sequenz: [13, 17, 19, 22, 25, 26, 32]\n",
      "\n"
     ]
    }
   ],
   "source": [
    "from TreeNode import TreeNode\n",
    "\n",
    "def minValueNode(heap):\n",
    "    current = heap\n",
    "    \n",
    "    while(current.left is not None):\n",
    "        current = current.left\n",
    " \n",
    "    return current\n",
    "\n",
    "def deleteVal(heap, val):\n",
    "    \n",
    "  \n",
    "\n",
    "    if heap is None:\n",
    "        return None\n",
    "        \n",
    "    if not heap.left and heap.right:\n",
    "        temp = heap.right\n",
    "        heap = None\n",
    "        return temp\n",
    "\n",
    "    elif not heap.right and heap.left:\n",
    "        heap.left = None\n",
    "        return heap\n",
    "    if val < heap.val:\n",
    "\n",
    "        heap.left = deleteVal(heap.left, val)\n",
    "        heap.right = deleteVal(heap.right, val)\n",
    "    elif val > heap.val:\n",
    "\n",
    "        heap.right = deleteVal(heap.right, val)\n",
    "        heap.left = deleteVal(heap.left, val)\n",
    "    else:\n",
    "    \n",
    "        if heap.left is None:\n",
    "            temp = heap.right\n",
    "            heap = None\n",
    "            return temp\n",
    " \n",
    "        elif heap.right is None:\n",
    "           \n",
    "            temp = heap.left\n",
    "            heap = None\n",
    "            return temp\n",
    " \n",
    "    return heap\n",
    " \n",
    "\n",
    "def longestPath(heap):\n",
    "     \n",
    "    if (heap == None):\n",
    "        return []\n",
    " \n",
    "    rightvect = longestPath(heap.right)\n",
    "    \n",
    "    \n",
    "    leftvect = longestPath(heap.left)\n",
    " \n",
    "    if (len(leftvect) > len(rightvect)):\n",
    "        leftvect.append(heap.val)\n",
    "    else:\n",
    "        rightvect.append(heap.val)\n",
    "\n",
    "    if len(leftvect) > len(rightvect):\n",
    "        return leftvect\n",
    " \n",
    "    return rightvect\n",
    "\n",
    "\n",
    "def remove(heap,arr):\n",
    "    arr.append(heap.val)\n",
    "    print(f\"Aktuelle Sequenz: {arr}\")\n",
    "    print()\n",
    "    temp = longestPath(heap)\n",
    "    newval = temp[0]\n",
    "    if not heap.left and not heap.right:\n",
    "        heap = None\n",
    "    else:\n",
    "        deleteVal(heap,newval)\n",
    "        heap.val = newval\n",
    "    return heap\n",
    "    \n",
    "\n",
    "    \n",
    "def sortHeap(heap):\n",
    "\n",
    "    if not heap:\n",
    "        return heap\n",
    "    # heap.display()\n",
    "    if heap.right and heap.left:\n",
    "        if (heap.val < heap.right.val) and (heap.val < heap.left.val): \n",
    "            return heap\n",
    "\n",
    "    if not heap.left and not heap.right:\n",
    "        return heap\n",
    "    \n",
    "    if heap.right and not heap.left:\n",
    "        if heap.val < heap.right.val: \n",
    "            return heap\n",
    "    \n",
    "    if heap.left and not heap.right:\n",
    "         if heap.val < heap.left.val: \n",
    "            return heap\n",
    "        \n",
    "    if heap.right and heap.left:\n",
    "        if heap.right.val < heap.left.val:\n",
    "            temp = heap.val\n",
    "            heap.val = heap.right.val\n",
    "            heap.right.val = temp\n",
    "            return sortHeap(heap.right)\n",
    "        else:\n",
    "            temp = heap.val\n",
    "            heap.val = heap.left.val\n",
    "            heap.left.val = temp\n",
    "            return sortHeap(heap.left)\n",
    "    \n",
    "    if heap.right and not heap.left:\n",
    "        if heap.right.val < heap.val:\n",
    "            temp = heap.val\n",
    "            heap.val = heap.right.val\n",
    "            heap.right.val = temp\n",
    "    else:\n",
    "        if heap.left.val < heap.val:\n",
    "            temp = heap.val\n",
    "            heap.val = heap.left.val\n",
    "            heap.left.val = temp\n",
    "        \n",
    "#Sequenz für die sortierte Liste:\n",
    "sortList = []\n",
    "#Gegebener MinHeap\n",
    "tree = TreeNode(13)\n",
    "tree.left = TreeNode(25)\n",
    "tree.right = TreeNode(17)\n",
    "tree.left.left = TreeNode(32)\n",
    "tree.left.right = TreeNode(26)\n",
    "tree.right.left = TreeNode(19)\n",
    "tree.right.right = TreeNode(22)\n",
    "print(f\"Aktuelle Sequenz: {sortList}\")\n",
    "print()\n",
    "tree.display()\n",
    "\n",
    "while tree:\n",
    "    tree = remove(tree, sortList)\n",
    "    if not tree: \n",
    "        break\n",
    "    tree.display()\n",
    "    sortHeap(tree)\n",
    "    print()\n",
    "    print(\"SortedHeap:\")\n",
    "    tree.display()\n",
    "    print()"
   ]
  },
  {
   "cell_type": "code",
   "execution_count": null,
   "metadata": {},
   "outputs": [],
   "source": []
  }
 ],
 "metadata": {
  "kernelspec": {
   "display_name": "Python 3",
   "language": "python",
   "name": "python3"
  },
  "language_info": {
   "codemirror_mode": {
    "name": "ipython",
    "version": 3
   },
   "file_extension": ".py",
   "mimetype": "text/x-python",
   "name": "python",
   "nbconvert_exporter": "python",
   "pygments_lexer": "ipython3",
   "version": "3.8.8"
  }
 },
 "nbformat": 4,
 "nbformat_minor": 4
}
