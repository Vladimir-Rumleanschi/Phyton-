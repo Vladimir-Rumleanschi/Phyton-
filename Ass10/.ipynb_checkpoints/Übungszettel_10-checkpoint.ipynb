{
 "cells": [
  {
   "cell_type": "markdown",
   "metadata": {},
   "source": [
    "# Übungszettel Nr. 10 - Datenstrukturen und Algorithmen\n",
    "## WiSe2021/22"
   ]
  },
  {
   "cell_type": "markdown",
   "metadata": {},
   "source": [
    "**Hinweise**: Bitte reichen Sie Ihre Lösung zum Übungszettel unter Einhaltung der\n",
    "nachfolgenden Regeln ein! Bitte beachten Sie: Nur dann wird der Übungszettel\n",
    "geprüft, ansonsten gilt er als nicht abgegeben!\n",
    "1. Sie müssen ihre Abgaben auch zu zweit abgeben\n",
    "2. Sie reichen **genau eine Jupyter-Notebook** in einem ZIP-File mit den Lösungen pro Übungszettel ein. Bennenen Sie diese mit Ihrer LUH-ID (z.B. bsp-123). Verwenden Sie bei der Bennenung der Dateien keine Umlaute. Sollten Sie zu zweit abgeben, dann muss nur ein Teilnehmender die Datei hochladen. Tragen Sie auf Ihrer Abgabe beide Namen ein. Bitte beachten Sie, dass bei dem ersten Übungsblatt beide Teilnehmende die selbe Lösung hochladen. (Lesen Sie sich die Hinweise zur Abgabe im Stud.IP durch!)\n",
    "3. Tragen Sie sich im HCI-Abgabetool in die entsprechende Übungsgruppe, die sie besuchen möchten, ein.\n",
    "4. Sie laden Ihre Lösung bis zum nächsten Donnerstag Abend nach Ausgabe des Übungszettels, 23:59 Uhr, in dem HCI-Abgabetool unter der Veranstaltung Datenstrukturen und Algorithmen hoch.\n",
    "5. Erreichen Sie mehr als 66% der zu erreichenden Gesamtpunkte aller Übungszettel, so erhalten Sie einen 10% Bonus auf die erreichten Punkte in der Klausur.\n",
    "\n",
    "Link zum HCI-Abgabetool: https://assignments.hci.uni-hannover.de/"
   ]
  },
  {
   "cell_type": "markdown",
   "metadata": {},
   "source": [
    "### 1. Aufgabe (Graphen-Durchläufe) <div style=\"text-align: right\">(5 Punkte)</div>\n",
    "\n",
    "(a) Geben Sie für den gegebenen Graphen den Breiten- und Tiefen-Durchlauf an. Starten Sie jeweils bei Knoten A. Ausgehende Kanten werden nach der lexikografischen Ordnung der Inzidenzknoten ausgewählt.\\\n",
    "**Sie brauchen keine Algorithmen zu implementieren. Wenden Sie einfach manuell die Algorithmenschritte an und ermitteln Sie die Ausgabe.**"
   ]
  },
  {
   "cell_type": "markdown",
   "metadata": {},
   "source": [
    "<img src=\"graph1.png\" alt=\"drawing\" width=\"400\"/>"
   ]
  },
  {
   "cell_type": "code",
   "execution_count": null,
   "metadata": {},
   "outputs": [],
   "source": [
    "#Breiten-Durchlauf\n",
    "bd = []\n",
    "\n",
    "#Tiefen-Durchlauf\n",
    "td = []"
   ]
  },
  {
   "cell_type": "markdown",
   "metadata": {},
   "source": [
    "(b) Wie sehen die von diesen Durchläufen erzeugten Spannbäume aus? Zeichnen Sie beide. Sie dürfen ein Bild einbinden oder die BTreeNode Klasse nutzen. Die Wurzel beider Bäume soll A sein. "
   ]
  },
  {
   "cell_type": "code",
   "execution_count": null,
   "metadata": {},
   "outputs": [],
   "source": [
    "from BTreeNode import BTreeNode"
   ]
  },
  {
   "cell_type": "code",
   "execution_count": null,
   "metadata": {},
   "outputs": [],
   "source": [
    "#Breiten-Durchlauf\n",
    "tree = BTreeNode('A')\n",
    "tree.draw()"
   ]
  },
  {
   "cell_type": "code",
   "execution_count": null,
   "metadata": {},
   "outputs": [],
   "source": [
    "#Tiefen-Durchlauf\n",
    "tree = BTreeNode('A')\n",
    "tree.draw()"
   ]
  },
  {
   "cell_type": "markdown",
   "metadata": {},
   "source": [
    "### 2. Aufgabe (Dijkstra) <div style=\"text-align: right\">(5 Punkte)</div>\n",
    "\n",
    "Gegeben sei ein gewichteter, ungerichteter Graph G. Ermitteln Sie mit Hilfe des Algorithmus von Dijkstra die kürzesten Wege vom Knoten D zu allen anderen Knoten von G.\n",
    "Geben Sie nach jedem bearbeiteten Knoten den Inhalt der Distanz-, Vorgänger-, Vorrat-, Erledigt-, Aktuell- und Nachfolger-Arrays wie in der Vorlesung an. Bei gleicher Distanz soll der Knoten mit dem lexikografisch kleineren Schlüssel zuerst bearbeitet werden. Sie dürfen ein Bild einbinden oder Pythonlisten zur Darstellung der Arrays nutzen. \n",
    "Zeichnen Sie auch den Spannbaum der kürzesten Wege.\n",
    "\n",
    "**Sie brauchen keine Algorithmen zu implementieren. Wenden Sie einfach manuell die Algorithmenschritte an und ermitteln Sie die Ausgabe.**"
   ]
  },
  {
   "cell_type": "markdown",
   "metadata": {},
   "source": [
    "<img src=\"graph2.png\" alt=\"drawing\" width=\"400\"/>"
   ]
  },
  {
   "cell_type": "code",
   "execution_count": null,
   "metadata": {},
   "outputs": [],
   "source": [
    "import numpy as np #np.inf soll zur Darstellung von unendlich genutzt werden.\n",
    "#Iteration 0\n",
    "                #A   ,B    ,C     ,D   ,E    ,F     ,G   ,H\n",
    "predecessors = [None, None, None, None, None, None, None, None]\n",
    "distances =    [np.inf, np.inf, np.inf, 0 , np.inf, np.inf, np.inf, np.inf]\n",
    "\n",
    "Vorrat = ['D']\n",
    "Erledigt = []\n",
    "Aktuell = None\n",
    "Nachfolger = []\n",
    "\n",
    "#Iteration 1 \n",
    "                #A, B, C, D, E, F, G, H\n",
    "predecessors = [?,?,?, ?,?,?,?,?]\n",
    "distances =    [?,?,?, 0,?,?,?,?]\n",
    "\n",
    "Vorrat = [?]\n",
    "Erledigt = [?]\n",
    "Aktuell = 'D'\n",
    "Nachfolger = [?]\n",
    "\n",
    "#Iteration 2\n",
    "\n",
    "#...\n",
    "\n"
   ]
  },
  {
   "cell_type": "markdown",
   "metadata": {},
   "source": [
    "Spannbaum der kürzesten Wege:"
   ]
  },
  {
   "cell_type": "code",
   "execution_count": null,
   "metadata": {},
   "outputs": [],
   "source": [
    "tree = BTreeNode('D')\n",
    "tree.draw()"
   ]
  },
  {
   "cell_type": "markdown",
   "metadata": {},
   "source": [
    "### 3. Aufgabe (Prim Jarník) <div style=\"text-align: right\">(6 Punkte)</div>"
   ]
  },
  {
   "cell_type": "markdown",
   "metadata": {},
   "source": [
    "Schreiben Sie in Python eine Prim Jarník Algorithmusvariante, die eine PriorityQueue verwendet, um die MST mit minimalem Gesamtgewicht zu finden.\\\n",
    "**Eingabe:**\\\n",
    "Die Eingabe ist eine Adjazenzmatrix eines gewichteten ungerichteten Graphen und ein Startknoten. Ein Knoten ist durch einen Integerindex repräsentiert. Wenn zwei Knoten in der Adjazenzmatrix benachbart sind, ist der entsprechende Wert in der Matrix das Gewicht der Kante zwischen ihnen, ansonsten sollte der Wert auf unendlich gesetzt werden. (Verwenden Sie sys.maxsize oder np.inf).\\\n",
    "**Ausgabe:**\\\n",
    "Die Ausgabe soll das Gesamtgewicht des minimalen Spanning Tree sein. Innerhalb der Methode sollen auch alle Kanten des ermittelten MSTs ausgegeben werden.\n",
    "\n",
    "Für die PriorityQueue **müssen Sie die PriorityQueue** aus der queue-Bibliothek in Python verwenden. (siehe diesen Link: https://docs.python.org/3/library/queue.html)\n",
    "\n",
    "Bitte fügen Sie Kommentare zu Ihrem Code ein, damit die Korrektur einfacher wird. "
   ]
  },
  {
   "cell_type": "code",
   "execution_count": null,
   "metadata": {},
   "outputs": [],
   "source": [
    "from queue import PriorityQueue\n",
    "import numpy as np\n",
    "\n",
    "def prim_jarnik(graph, start_node):\n",
    "    n = len(graph)\n",
    "    # Every item in the priority queue is a tuple like (weight, vertex)\n",
    "    queue = PriorityQueue()\n",
    "    weights = [np.inf] * n\n",
    "    parents = [-1] * n\n",
    "    # a boolean list for the nodes to check if they are in the MST or not\n",
    "    in_mst = [False] * n\n",
    "    # set the start_node weight to 0 and put that in the queue\n",
    "    ... \n",
    "    ... \n",
    "    \n",
    "    # until the queue is not empty\n",
    "    while not queue.empty():\n",
    "        # Extract the minimum weight from the queue, get the vertex and make the value of it true in the in_mst method\n",
    "        ...\n",
    "        ...\n",
    "        ...\n",
    "        # Iterate over all adjacent vertices of the selected vertex\n",
    "        for v in range(n):\n",
    "            # If weight of the edge between v and the selected vertex is smaller than the weight of v and\n",
    "            # v is not in the MST\n",
    "            if graph[vertex][v] < weights[v] and not in_mst[v]:\n",
    "                # Update weight of v\n",
    "                ...\n",
    "                # Put v into the priority queue\n",
    "                ...\n",
    "                # Set parent of v\n",
    "                ...\n",
    "\n",
    "    \n",
    "    print(\"Edges\")\n",
    "    # Print the Edges of the MST\n",
    "    ...\n",
    "\n",
    "    return ... "
   ]
  },
  {
   "cell_type": "code",
   "execution_count": null,
   "metadata": {},
   "outputs": [],
   "source": [
    "graph = [[np.inf, 1, np.inf, 4, np.inf, np.inf, np.inf, np.inf],\n",
    "     [1, np.inf, 2, np.inf, np.inf, np.inf, 6, np.inf],\n",
    "     [np.inf, 2, np.inf, 1, np.inf, np.inf, np.inf, np.inf],\n",
    "     [4, np.inf, 1, np.inf, 4, np.inf, np.inf, np.inf],\n",
    "     [np.inf, np.inf, np.inf, 4, np.inf, 3, np.inf, 5],\n",
    "     [np.inf, np.inf, np.inf, np.inf, 3, np.inf, 1, 4],\n",
    "     [np.inf, 6, np.inf, np.inf, np.inf, 1, np.inf, 2],\n",
    "     [np.inf, np.inf, np.inf, np.inf, 5, 4, 2, np.inf]]\n",
    "\n",
    "print(prim_jarnik(graph, 3))"
   ]
  },
  {
   "cell_type": "markdown",
   "metadata": {},
   "source": [
    "### 4. Aufgabe (Topologisches Sortieren) <div style=\"text-align: right\">(4 Punkte)</div>"
   ]
  },
  {
   "cell_type": "markdown",
   "metadata": {},
   "source": [
    "<img src=\"graph3.png\" alt=\"drawing\" width=\"400\"/>"
   ]
  },
  {
   "cell_type": "markdown",
   "metadata": {},
   "source": [
    "Geben Sie für den oben stehenden Graphen vier topologisch sortierte Listen an. \\\n",
    "**Sie brauchen keine Algorithmen zu implementieren. Wenden Sie einfach manuell die Algorithmenschritte an und ermitteln Sie die Ausgabe.**"
   ]
  }
 ],
 "metadata": {
  "kernelspec": {
   "display_name": "Python 3",
   "language": "python",
   "name": "python3"
  },
  "language_info": {
   "codemirror_mode": {
    "name": "ipython",
    "version": 3
   },
   "file_extension": ".py",
   "mimetype": "text/x-python",
   "name": "python",
   "nbconvert_exporter": "python",
   "pygments_lexer": "ipython3",
   "version": "3.8.8"
  }
 },
 "nbformat": 4,
 "nbformat_minor": 4
}
