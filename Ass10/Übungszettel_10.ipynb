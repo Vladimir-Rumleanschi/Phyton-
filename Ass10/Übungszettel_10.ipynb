{
 "cells": [
  {
   "cell_type": "markdown",
   "metadata": {},
   "source": [
    "# Übungszettel Nr. 10 - Datenstrukturen und Algorithmen\n",
    "## WiSe2021/22"
   ]
  },
  {
   "cell_type": "markdown",
   "metadata": {},
   "source": [
    "**Hinweise**: Bitte reichen Sie Ihre Lösung zum Übungszettel unter Einhaltung der\n",
    "nachfolgenden Regeln ein! Bitte beachten Sie: Nur dann wird der Übungszettel\n",
    "geprüft, ansonsten gilt er als nicht abgegeben!\n",
    "1. Sie müssen ihre Abgaben auch zu zweit abgeben\n",
    "2. Sie reichen **genau eine Jupyter-Notebook** in einem ZIP-File mit den Lösungen pro Übungszettel ein. Bennenen Sie diese mit Ihrer LUH-ID (z.B. bsp-123). Verwenden Sie bei der Bennenung der Dateien keine Umlaute. Sollten Sie zu zweit abgeben, dann muss nur ein Teilnehmender die Datei hochladen. Tragen Sie auf Ihrer Abgabe beide Namen ein. Bitte beachten Sie, dass bei dem ersten Übungsblatt beide Teilnehmende die selbe Lösung hochladen. (Lesen Sie sich die Hinweise zur Abgabe im Stud.IP durch!)\n",
    "3. Tragen Sie sich im HCI-Abgabetool in die entsprechende Übungsgruppe, die sie besuchen möchten, ein.\n",
    "4. Sie laden Ihre Lösung bis zum nächsten Donnerstag Abend nach Ausgabe des Übungszettels, 23:59 Uhr, in dem HCI-Abgabetool unter der Veranstaltung Datenstrukturen und Algorithmen hoch.\n",
    "5. Erreichen Sie mehr als 66% der zu erreichenden Gesamtpunkte aller Übungszettel, so erhalten Sie einen 10% Bonus auf die erreichten Punkte in der Klausur.\n",
    "\n",
    "Link zum HCI-Abgabetool: https://assignments.hci.uni-hannover.de/"
   ]
  },
  {
   "cell_type": "markdown",
   "metadata": {},
   "source": [
    "### Bohdan Bohdanchenko 10041121\n",
    "\n",
    "### Vladimir Rumelanschi 10037218"
   ]
  },
  {
   "cell_type": "markdown",
   "metadata": {},
   "source": [
    "### 1. Aufgabe (Graphen-Durchläufe) <div style=\"text-align: right\">(5 Punkte)</div>\n",
    "\n",
    "(a) Geben Sie für den gegebenen Graphen den Breiten- und Tiefen-Durchlauf an. Starten Sie jeweils bei Knoten A. Ausgehende Kanten werden nach der lexikografischen Ordnung der Inzidenzknoten ausgewählt.\\\n",
    "**Sie brauchen keine Algorithmen zu implementieren. Wenden Sie einfach manuell die Algorithmenschritte an und ermitteln Sie die Ausgabe.**"
   ]
  },
  {
   "cell_type": "markdown",
   "metadata": {},
   "source": [
    "<img src=\"graph1.png\" alt=\"drawing\" width=\"400\"/>"
   ]
  },
  {
   "cell_type": "code",
   "execution_count": null,
   "metadata": {},
   "outputs": [],
   "source": [
    "#Breiten-Durchlauf\n",
    "bd = [a,b,d,c,e,g,f,h]\n",
    "\n",
    "#Tiefen-Durchlauf\n",
    "td = [a,b,c,d,e,f,g,h]"
   ]
  },
  {
   "cell_type": "markdown",
   "metadata": {},
   "source": [
    "(b) Wie sehen die von diesen Durchläufen erzeugten Spannbäume aus? Zeichnen Sie beide. Sie dürfen ein Bild einbinden oder die BTreeNode Klasse nutzen. Die Wurzel beider Bäume soll A sein. "
   ]
  },
  {
   "cell_type": "code",
   "execution_count": 55,
   "metadata": {},
   "outputs": [],
   "source": [
    "from BTreeNode import BTreeNode"
   ]
  },
  {
   "cell_type": "code",
   "execution_count": 3,
   "metadata": {},
   "outputs": [
    {
     "data": {
      "text/html": [
       "\n",
       "        <iframe\n",
       "            width=\"1500\"\n",
       "            height=\"400\"\n",
       "            src=\"./tree.html\"\n",
       "            frameborder=\"0\"\n",
       "            allowfullscreen\n",
       "        ></iframe>\n",
       "        "
      ],
      "text/plain": [
       "<IPython.lib.display.IFrame at 0x1e4b48fd880>"
      ]
     },
     "execution_count": 3,
     "metadata": {},
     "output_type": "execute_result"
    }
   ],
   "source": [
    "#Breiten-Durchlauf\n",
    "\n",
    "tree = BTreeNode('A')\n",
    "tree.add_child('B')\n",
    "tree.add_child('D')\n",
    "tree.children[0].add_child('C')\n",
    "tree.children[0].add_child('G')\n",
    "tree.children[1].add_child('E')\n",
    "tree.children[1].children[0].add_child('F')\n",
    "tree.children[1].children[0].add_child('H')\n",
    "\n",
    "tree.draw()"
   ]
  },
  {
   "cell_type": "code",
   "execution_count": 56,
   "metadata": {},
   "outputs": [
    {
     "data": {
      "text/html": [
       "\n",
       "        <iframe\n",
       "            width=\"1500\"\n",
       "            height=\"400\"\n",
       "            src=\"./tree.html\"\n",
       "            frameborder=\"0\"\n",
       "            allowfullscreen\n",
       "        ></iframe>\n",
       "        "
      ],
      "text/plain": [
       "<IPython.lib.display.IFrame at 0x1e4b48ee6d0>"
      ]
     },
     "execution_count": 56,
     "metadata": {},
     "output_type": "execute_result"
    }
   ],
   "source": [
    "#Tiefen-Durchlauf\n",
    "\n",
    "tree = BTreeNode('A')\n",
    "tree.add_child('B')\n",
    "tree.children[0].add_child('C')\n",
    "tree.children[0].children[0].add_child('D')\n",
    "tree.children[0].children[0].children[0].add_child('E')\n",
    "tree.children[0].children[0].children[0].children[0].add_child('F')\n",
    "tree.children[0].children[0].children[0].children[0].children[0].add_child('G')\n",
    "tree.children[0].children[0].children[0].children[0].children[0].children[0].add_child('H')\n",
    "\n",
    "tree.draw()"
   ]
  },
  {
   "cell_type": "markdown",
   "metadata": {},
   "source": [
    "### 2. Aufgabe (Dijkstra) <div style=\"text-align: right\">(5 Punkte)</div>\n",
    "\n",
    "Gegeben sei ein gewichteter, ungerichteter Graph G. Ermitteln Sie mit Hilfe des Algorithmus von Dijkstra die kürzesten Wege vom Knoten D zu allen anderen Knoten von G.\n",
    "Geben Sie nach jedem bearbeiteten Knoten den Inhalt der Distanz-, Vorgänger-, Vorrat-, Erledigt-, Aktuell- und Nachfolger-Arrays wie in der Vorlesung an. Bei gleicher Distanz soll der Knoten mit dem lexikografisch kleineren Schlüssel zuerst bearbeitet werden. Sie dürfen ein Bild einbinden oder Pythonlisten zur Darstellung der Arrays nutzen. \n",
    "Zeichnen Sie auch den Spannbaum der kürzesten Wege.\n",
    "\n",
    "**Sie brauchen keine Algorithmen zu implementieren. Wenden Sie einfach manuell die Algorithmenschritte an und ermitteln Sie die Ausgabe.**"
   ]
  },
  {
   "cell_type": "markdown",
   "metadata": {},
   "source": [
    "<img src=\"graph2.png\" alt=\"drawing\" width=\"400\"/>"
   ]
  },
  {
   "cell_type": "code",
   "execution_count": null,
   "metadata": {},
   "outputs": [],
   "source": [
    "import numpy as np #np.inf soll zur Darstellung von unendlich genutzt werden.\n",
    "#Iteration 0\n",
    "                #A   ,B    ,C     ,D   ,E    ,F     ,G   ,H\n",
    "predecessors = [None, None, None, None, D, None, None, None]\n",
    "distances =    [np.inf, np.inf, np.inf, 0 , np.inf, np.inf, np.inf, np.inf]\n",
    "\n",
    "Vorrat = ['D']\n",
    "Erledigt = []\n",
    "Aktuell = None\n",
    "Nachfolger = []\n",
    "\n",
    "#Iteration 1 \n",
    "                #A, B, C, D, E, F, G, H\n",
    "predecessors = [D, None, D, D, D, None, None, None]\n",
    "distances =    [4, np.inf, 1, 0, 4, np.inf, np.inf, np.inf]\n",
    "\n",
    "Vorrat = ['D']\n",
    "Erledigt = []\n",
    "Aktuell = 'D'\n",
    "Nachfolger = ['A, C, E']\n",
    "\n",
    "#Iteration 2\n",
    "                #A, B, C, D, E, F, G, H\n",
    "predecessors = [D, C, D, D, D, None, None, None]\n",
    "distances =    [4, 3, 1, 0, 4, np.inf, np.inf, np.inf]\n",
    "Vorrat = ['A, C, E']\n",
    "Erledigt = ['D']\n",
    "Aktuell = 'C'\n",
    "Nachfolger = ['B']\n",
    "\n",
    "#Iteration 3\n",
    "                #A, B, C, D, E, F, G, H\n",
    "predecessors = [D, C, D, D, D, None, B, None]\n",
    "distances =    [4, 3, 1, 0, 4, np.inf, 9, np.inf]\n",
    "Vorrat = ['B']\n",
    "Erledigt = ['D, C']\n",
    "Aktuell = 'B'\n",
    "Nachfolger = ['A, G']\n",
    "\n",
    "#Iteration 4\n",
    "                #A, B, C, D, E, F, G, H\n",
    "predecessors = [D, C, D, D, D, E, B, E]\n",
    "distances =    [4, 3 , 1, 0, 4, 7, 9, 9]\n",
    "Vorrat = ['A, G, E']\n",
    "Erledigt = ['D, C, A, B']\n",
    "Aktuell = 'E'\n",
    "Nachfolger = ['F, H']\n",
    "\n",
    "#Iteration 5\n",
    "                #A, B, C, D, E, F, G, H\n",
    "predecessors = [D, C, D, D, D, E, F, E]\n",
    "distances =    [4, 3 , 1, 0, 4, 7, 8, 9]\n",
    "Vorrat = ['F, H, E']\n",
    "Erledigt = ['D, C, A, B, E']\n",
    "Aktuell = 'F'\n",
    "Nachfolger = ['H, G']\n",
    "\n",
    "#Iteration 6\n",
    "                #A, B, C, D, E, F, G, H\n",
    "predecessors = [D, C, D, D, D, E, F, E]\n",
    "distances =    [4, 3 , 1, 0, 4, 7, 8, 9]\n",
    "Vorrat = ['G,H']\n",
    "Erledigt = ['D, C, A, B, E, F']\n",
    "Aktuell = 'G'\n",
    "Nachfolger = []\n",
    "\n"
   ]
  },
  {
   "cell_type": "markdown",
   "metadata": {},
   "source": [
    "Spannbaum der kürzesten Wege:"
   ]
  },
  {
   "cell_type": "code",
   "execution_count": null,
   "metadata": {},
   "outputs": [],
   "source": [
    "tree = BTreeNode('D')\n",
    "tree.draw()"
   ]
  },
  {
   "cell_type": "markdown",
   "metadata": {},
   "source": [
    "### 3. Aufgabe (Prim Jarník) <div style=\"text-align: right\">(6 Punkte)</div>"
   ]
  },
  {
   "cell_type": "markdown",
   "metadata": {},
   "source": [
    "Schreiben Sie in Python eine Prim Jarník Algorithmusvariante, die eine PriorityQueue verwendet, um die MST mit minimalem Gesamtgewicht zu finden.\\\n",
    "**Eingabe:**\\\n",
    "Die Eingabe ist eine Adjazenzmatrix eines gewichteten ungerichteten Graphen und ein Startknoten. Ein Knoten ist durch einen Integerindex repräsentiert. Wenn zwei Knoten in der Adjazenzmatrix benachbart sind, ist der entsprechende Wert in der Matrix das Gewicht der Kante zwischen ihnen, ansonsten sollte der Wert auf unendlich gesetzt werden. (Verwenden Sie sys.maxsize oder np.inf).\\\n",
    "**Ausgabe:**\\\n",
    "Die Ausgabe soll das Gesamtgewicht des minimalen Spanning Tree sein. Innerhalb der Methode sollen auch alle Kanten des ermittelten MSTs ausgegeben werden.\n",
    "\n",
    "Für die PriorityQueue **müssen Sie die PriorityQueue** aus der queue-Bibliothek in Python verwenden. (siehe diesen Link: https://docs.python.org/3/library/queue.html)\n",
    "\n",
    "Bitte fügen Sie Kommentare zu Ihrem Code ein, damit die Korrektur einfacher wird. "
   ]
  },
  {
   "cell_type": "code",
   "execution_count": 50,
   "metadata": {
    "tags": []
   },
   "outputs": [],
   "source": [
    "from queue import PriorityQueue\n",
    "import numpy as np\n",
    "\n",
    "def prim_jarnik(graph, start_node):\n",
    "    n = len(graph)\n",
    "    # Every item in the priority queue is a tuple like (weight, vertex)\n",
    "    queue = PriorityQueue()\n",
    "    weights = [np.inf] * n\n",
    "    parents = [-1] * n\n",
    "    # a boolean list for the nodes to check if they are in the MST or not\n",
    "    in_mst = [False] * n\n",
    "    # set the start_node weight to 0 and put that in the queue\n",
    "    weights[start_node] = 0\n",
    "    starting = (weights[start_node], start_node)\n",
    "    queue.put(starting)\n",
    "\n",
    "    # until the queue is not empty\n",
    "    while not queue.empty():\n",
    "        # Extract the minimum weight from the queue, get the vertex and make the value of it true in the in_mst method\n",
    "        minimum_weight = queue.get(min(weights))  # extracted minimum wieght\n",
    "        vertex = minimum_weight[1]\n",
    "        in_mst[vertex] = True\n",
    "        # Iterate over all adjacent vertices of the selected vertex\n",
    "        for v in range(n):\n",
    "            # If weight of the edge between v and the selected vertex is smaller than the weight of v and\n",
    "            # v is not in the MST\n",
    "            if graph[vertex][v] < weights[v] and not in_mst[v]:\n",
    "                # Update weight of v\n",
    "                weights[v] = graph[vertex][v]\n",
    "                # Put v into the priority queue\n",
    "                new_v = (weights[v], v)  # v into tuple\n",
    "                queue.put(new_v)\n",
    "                # Set parent of v\n",
    "                parents[v] = vertex\n",
    "\n",
    "    print(\"Edges\")\n",
    "    # Print the Edges of the MST\n",
    "    for i in range(1, len(parents)):\n",
    "        print(parents[i], \"-\", i, \"\\t\", graph[i][parents[i]])\n",
    "\n",
    "    return graph"
   ]
  },
  {
   "cell_type": "code",
   "execution_count": 51,
   "metadata": {},
   "outputs": [
    {
     "name": "stdout",
     "output_type": "stream",
     "text": [
      "Edges\n",
      "2 - 1 \t 2\n",
      "3 - 2 \t 1\n",
      "-1 - 3 \t inf\n",
      "3 - 4 \t 4\n",
      "4 - 5 \t 3\n",
      "5 - 6 \t 1\n",
      "6 - 7 \t 2\n",
      "[[inf, 1, inf, 4, inf, inf, inf, inf], [1, inf, 2, inf, inf, inf, 6, inf], [inf, 2, inf, 1, inf, inf, inf, inf], [4, inf, 1, inf, 4, inf, inf, inf], [inf, inf, inf, 4, inf, 3, inf, 5], [inf, inf, inf, inf, 3, inf, 1, 4], [inf, 6, inf, inf, inf, 1, inf, 2], [inf, inf, inf, inf, 5, 4, 2, inf]]\n"
     ]
    }
   ],
   "source": [
    "graph = [[np.inf, 1, np.inf, 4, np.inf, np.inf, np.inf, np.inf],\n",
    "     [1, np.inf, 2, np.inf, np.inf, np.inf, 6, np.inf],\n",
    "     [np.inf, 2, np.inf, 1, np.inf, np.inf, np.inf, np.inf],\n",
    "     [4, np.inf, 1, np.inf, 4, np.inf, np.inf, np.inf],\n",
    "     [np.inf, np.inf, np.inf, 4, np.inf, 3, np.inf, 5],\n",
    "     [np.inf, np.inf, np.inf, np.inf, 3, np.inf, 1, 4],\n",
    "     [np.inf, 6, np.inf, np.inf, np.inf, 1, np.inf, 2],\n",
    "     [np.inf, np.inf, np.inf, np.inf, 5, 4, 2, np.inf]]\n",
    "\n",
    "print(prim_jarnik(graph, 3))"
   ]
  },
  {
   "cell_type": "markdown",
   "metadata": {},
   "source": [
    "### 4. Aufgabe (Topologisches Sortieren) <div style=\"text-align: right\">(4 Punkte)</div>"
   ]
  },
  {
   "cell_type": "markdown",
   "metadata": {},
   "source": [
    "<img src=\"graph3.png\" alt=\"drawing\" width=\"400\"/>"
   ]
  },
  {
   "cell_type": "markdown",
   "metadata": {},
   "source": [
    "Geben Sie für den oben stehenden Graphen vier topologisch sortierte Listen an. \\\n",
    "**Sie brauchen keine Algorithmen zu implementieren. Wenden Sie einfach manuell die Algorithmenschritte an und ermitteln Sie die Ausgabe.**"
   ]
  },
  {
   "cell_type": "markdown",
   "metadata": {},
   "source": [
    "Knoten Vorgänge:\n",
    "\n",
    "A      0(-1)  -1     -1      -1      -1      -1      -1      -1      -1                                      \n",
    "             \n",
    "B      1(-1)  0(-1)  -1      -1      -1      -1      -1      -1      -1\n",
    " \n",
    "C      2      2(-1)   1       1       1(-1)   0(-1)  -1      -1      -1\n",
    "\n",
    "D      2      2(-1)   1(-1)   0(-1)  -1      -1      -1      -1      -1\n",
    "\n",
    "E      0      0       0(-1)  -1      -1      -1      -1      -1      -1      \n",
    "\n",
    "F      0      0       0       0       0(-1)  -1      -1      -1      -1             \n",
    "\n",
    "G      1      1       1       1       1(-1)   0       0(-1)  -1      -1            \n",
    "\n",
    "H      1      1       1       1       1       1(-1)   0       0(-1)  -1           \n",
    "\n",
    "1.sortierte Liste = [A,B,E,D,F,C,G,H]\n",
    "\n",
    "Knoten Vorgänge:\n",
    "\n",
    "A      0(-1)  -1     -1      -1      -1      -1      -1      -1      -1                                      \n",
    "             \n",
    "B      1(-1)  0(-1)  -1      -1      -1      -1      -1      -1      -1\n",
    " \n",
    "C      2      2(-1)   1       1       1(-1)   0(-1)  -1      -1      -1\n",
    "\n",
    "D      2      2(-1)   1(-1)   0(-1)  -1      -1      -1      -1      -1\n",
    "\n",
    "E      0      0       0(-1)  -1      -1      -1      -1      -1      -1      \n",
    "\n",
    "F      0      0       0       0       0(-1)  -1      -1      -1      -1             \n",
    "\n",
    "G      1      1       1       1       1(-1)   0       0       0(-1)  -1            \n",
    "\n",
    "H      1      1       1       1       1       1(-1)   0(-1)  -1      -1    \n",
    "\n",
    "2.sortierte Liste = [A,B,E,D,F,C,H,G]\n",
    "\n",
    "Knoten Vorgänge:\n",
    "\n",
    "A      0(-1)  -1     -1      -1      -1      -1      -1      -1      -1                                           \n",
    "             \n",
    "B      1(-1)  0(-1)  -1      -1      -1      -1      -1      -1      -1      \n",
    " \n",
    "C      2      2(-1)   1       1       1(-1)   0       0(-1)  -1      -1    \n",
    "\n",
    "D      2      2(-1)   1(-1)   0(-1)  -1      -1      -1      -1      -1\n",
    "\n",
    "E      0      0       0(-1)  -1      -1      -1      -1      -1      -1  \n",
    "\n",
    "F      0      0       0       0       0(-1)  -1      -1      -1      -1           \n",
    "\n",
    "G      1      1       1       1       1(-1)   0(-1)  -1      -1      -1             \n",
    "\n",
    "H      1      1       1       1       1       1       1(-1)   0(-1)  -1\n",
    "\n",
    "3.sortierte Liste = [A,B,E,D,F,G,C,H]\n",
    "\n",
    "Knoten Vorgänge:\n",
    "\n",
    "A      0      0      0       0(-1)  -1      -1      -1      -1      -1                                  \n",
    "             \n",
    "B      1      1      1       1(-1)   0(-1)  -1      -1      -1      -1\n",
    " \n",
    "C      2      2(-1)  1       1       1(-1)   0(-1)  -1      -1      -1    \n",
    "\n",
    "D      2(-1)  1      1       1       1(-1)   0       0       0(-1)  -1\n",
    "\n",
    "E      0(-1) -1     -1      -1      -1      -1      -1      -1      -1       \n",
    "\n",
    "0      0      0(-1) -1      -1      -1      -1      -1      -1      -1               \n",
    "\n",
    "G      1      1(-1)  0(-1)  -1      -1      -1      -1      -1      -1                \n",
    "\n",
    "H      1      1      1       1       1       1(-1)   0(-1)  -1      -1  \n",
    "\n",
    "1.sortierte Liste = [E,F,G,A,B,C,H,D]"
   ]
  },
  {
   "cell_type": "code",
   "execution_count": null,
   "metadata": {},
   "outputs": [],
   "source": []
  }
 ],
 "metadata": {
  "kernelspec": {
   "display_name": "Python 3",
   "language": "python",
   "name": "python3"
  },
  "language_info": {
   "codemirror_mode": {
    "name": "ipython",
    "version": 3
   },
   "file_extension": ".py",
   "mimetype": "text/x-python",
   "name": "python",
   "nbconvert_exporter": "python",
   "pygments_lexer": "ipython3",
   "version": "3.8.8"
  }
 },
 "nbformat": 4,
 "nbformat_minor": 4
}
