{
 "cells": [
  {
   "cell_type": "markdown",
   "metadata": {},
   "source": [
    "# Übungszettel Nr. 6 - Datenstrukturen und Algorithmen\n",
    "## WiSe2020/21"
   ]
  },
  {
   "cell_type": "markdown",
   "metadata": {},
   "source": [
    "**Hinweise**: Bitte reichen Sie Ihre Lösung zum Übungszettel unter Einhaltung der\n",
    "nachfolgenden Regeln ein! Bitte beachten Sie: Nur dann wird der Übungszettel\n",
    "geprüft, ansonsten gilt er als nicht abgegeben!\n",
    "1. Sie können ihre Abgaben auch zu zweit abgeben\n",
    "2. Sie reichen **genau eine Jupyter-Notebook** in einem ZIP-File mit den Lösungen pro Übungszettel ein. Bennenen Sie diese mit Ihrer LUH-ID (z.B. bsp-123). Verwenden Sie bei der Bennenung der Dateien keine Umlaute. Sollten Sie zu zweit abgeben, dann muss nur ein Teilnehmender die Datei hochladen. Tragen Sie auf Ihrer Abgabe beide Namen ein. Bitte beachten Sie, dass bei dem ersten Übungsblatt beide Teilnehmende die selbe Lösung hochladen. (Lesen Sie sich die Hinweise zur Abgabe im Stud.IP durch!)\n",
    "3. Tragen Sie sich im HCI-Abgabetool in die entsprechende Übungsgruppe, die sie besuchen möchten, ein.\n",
    "4. Sie laden Ihre Lösung bis zum nächsten Donnerstag Abend nach Ausgabe des Übungszettels, 23:59 Uhr, in dem HCI-Abgabetool unter der Veranstaltung Datenstrukturen und Algorithmen hoch.\n",
    "5. Erreichen Sie mehr als 66% der zu erreichenden Gesamtpunkte aller Übungszettel, so erhalten Sie einen 10% Bonus auf die erreichten Punkte in der Klausur.\n",
    "\n",
    "Link zum HCI-Abgabetool: https://assignments.hci.uni-hannover.de/"
   ]
  },
  {
   "cell_type": "markdown",
   "metadata": {},
   "source": [
    "### 1. Aufgabe (Suchen) <div style=\"text-align: right\">(3 Punkte)</div>\n",
    "\n",
    "Gegeben sei folgende Sequenz von Zahlen: [12, 14, 15, 19, 27, 43, 55, 62, 68, 72, 90, 106]. Führen Sie für diese Sequenz eine Suche nach der Zahl 100 nach den nachfolgend genannten Verfahren durch, zählen Sie die Anzahl der benötigten Vergleichsschritte und geben Sie diese an. Geben Sie die Reihenfolge der untersuchten Elemente in die orderListe an.\n",
    "\n",
    "(a) Sequentielle Suche"
   ]
  },
  {
   "cell_type": "code",
   "execution_count": null,
   "metadata": {},
   "outputs": [],
   "source": [
    "order = [ ]"
   ]
  },
  {
   "cell_type": "markdown",
   "metadata": {},
   "source": [
    "(b) Binäre Suche "
   ]
  },
  {
   "cell_type": "code",
   "execution_count": null,
   "metadata": {},
   "outputs": [],
   "source": [
    "order = [ ]"
   ]
  },
  {
   "cell_type": "markdown",
   "metadata": {},
   "source": [
    "(c) Fibonacci Suche"
   ]
  },
  {
   "cell_type": "code",
   "execution_count": null,
   "metadata": {},
   "outputs": [],
   "source": [
    "order = [ ]"
   ]
  },
  {
   "cell_type": "markdown",
   "metadata": {},
   "source": [
    "### 2. Aufgabe (Interpolationssuche) <div style=\"text-align: right\">(4 Punkte)</div>"
   ]
  },
  {
   "cell_type": "markdown",
   "metadata": {},
   "source": [
    "Vervollständigen Sie den folgenden Code der Interpolationssuche, indem Sie korrekte Aussagen in durch drei Punkte gekennzeichnete Leerstellen einfügen. Verwenden Sie dazu die Definitionen aus der Vorlesung."
   ]
  },
  {
   "cell_type": "code",
   "execution_count": null,
   "metadata": {},
   "outputs": [],
   "source": [
    "def interpolation_search(arr, l, r, k):\n",
    " \n",
    "    if (l <= r and k >= arr[l] and k <= arr[r]):\n",
    " \n",
    "        ...\n",
    "\n",
    "        if arr[m] == k:\n",
    "            ...\n",
    " \n",
    "        if arr[m] < k:\n",
    "            ...\n",
    " \n",
    "        if arr[m] > k:\n",
    "            return interpolation_search(arr, l, m - 1, k)\n",
    "        \n",
    "    return -1\n",
    " "
   ]
  },
  {
   "cell_type": "markdown",
   "metadata": {},
   "source": [
    "**Beispieleingabe:**"
   ]
  },
  {
   "cell_type": "code",
   "execution_count": null,
   "metadata": {},
   "outputs": [],
   "source": [
    "##input array\n",
    "a = [2, 3, 7, 8, 11, 13, 17, 19, 21]\n",
    "\n",
    "interpolationSearch(a, 0, len(a)-1, 17)"
   ]
  },
  {
   "cell_type": "markdown",
   "metadata": {},
   "source": [
    "### 3. Aufgabe (AVL-Baum) <div style=\"text-align: right\">(11 Punkte)</div>"
   ]
  },
  {
   "cell_type": "markdown",
   "metadata": {},
   "source": [
    "Gegeben ist die selbe Datenstruktur TreeNode wie in der Präsenzübung (Lab) 6. Diesmal sollen Sie vier Methoden zur korrekten Einfügeoperation entwerfen, die sicherstellen, dass die AVL-Balancierung weiterhin gewährleistet ist. Implementieren Sie hierzu folgende Methoden:\n",
    "\n",
    "a) get_balance(treeNode) berechnet den Balancefaktor eines Knotens. (3 Punkte)\\\n",
    "b) get_height(treeNode) berechnet die Höhe des Teilbaums mit Wurzel treeNode.  (1 Punkt)\\\n",
    "**Hinweis-1: Die Höhe der Wurzel ist 0**\\\n",
    "c) rotate_left(treeNode) rotiert den Teilbaum nach Links. (3 Punkte)\\\n",
    "d) rotate_right(treeNode) rotiert den Teilbaum nach Rechts. (3 Punkte)\\\n",
    "**Hinweis-2: Höhen müssen nach Rotation neuberechnet werden**\\\n",
    "e) Testen Sie Ihren Algorithmus mit einer for-Schleife, die über die Folge von Schlüsseln (74, 94, 82, 42, 13, 55, 5, 23, 69, 17) iteriert und diese dem Baum hinzufügt. (Vielleicht müssen Sie das erste Element außerhalb der Schleife hinzufügen) (1 Punkt)\\\n",
    "**Hinweis-3: Für jede Methode bietet es sich an Kommentare zu hinterlassen, die bei der Korrektur behilflich sein können und bei gegebenen Programmierfehlern nochmal Punkte retten könnten.\\\n",
    "Hinweis-4: Alle diese Methoden wurden in der insert-methode in der TreeNode-Klasse verwendet.**"
   ]
  },
  {
   "cell_type": "code",
   "execution_count": null,
   "metadata": {},
   "outputs": [],
   "source": [
    "class TreeNode(object):\n",
    "    def __init__(self, val):\n",
    "        self.val = val\n",
    "        self.left = None\n",
    "        self.right = None\n",
    "        self.height = 0\n",
    "\n",
    "    def display(self):\n",
    "        lines, *_ = self.display_aux()\n",
    "        for line in lines:\n",
    "            print(line)\n",
    "\n",
    "    def display_aux(self):\n",
    "        \"\"\"Returns list of strings, width, height, and horizontal coordinate of the root.\"\"\"\n",
    "        # No child.\n",
    "        if self.right is None and self.left is None:\n",
    "            line = '%s' % self.val\n",
    "            width = len(line)\n",
    "            height = 1\n",
    "            middle = width // 2\n",
    "            return [line], width, height, middle\n",
    "\n",
    "        # Only left child.\n",
    "        if self.right is None:\n",
    "            lines, n, p, x = self.left.display_aux()\n",
    "            s = '%s' % self.val\n",
    "            u = len(s)\n",
    "            first_line = (x + 1) * ' ' + (n - x - 1) * '_' + s\n",
    "            second_line = x * ' ' + '/' + (n - x - 1 + u) * ' '\n",
    "            shifted_lines = [line + u * ' ' for line in lines]\n",
    "            return [first_line, second_line] + shifted_lines, n + u, p + 2, n + u // 2\n",
    "\n",
    "        # Only right child.\n",
    "        if self.left is None:\n",
    "            lines, n, p, x = self.right.display_aux()\n",
    "            s = '%s' % self.val\n",
    "            u = len(s)\n",
    "            first_line = s + x * '_' + (n - x) * ' '\n",
    "            second_line = (u + x) * ' ' + '\\\\' + (n - x - 1) * ' '\n",
    "            shifted_lines = [u * ' ' + line for line in lines]\n",
    "            return [first_line, second_line] + shifted_lines, n + u, p + 2, u // 2\n",
    "\n",
    "        # Two children.\n",
    "        left, n, p, x = self.left.display_aux()\n",
    "        right, m, q, y = self.right.display_aux()\n",
    "        s = '%s' % self.val\n",
    "        u = len(s)\n",
    "        first_line = (x + 1) * ' ' + (n - x - 1) * '_' + s + y * '_' + (m - y) * ' '\n",
    "        second_line = x * ' ' + '/' + (n - x - 1 + u + y) * ' ' + '\\\\' + (m - y - 1) * ' '\n",
    "        if p < q:\n",
    "            left += [n * ' '] * (q - p)\n",
    "        elif q < p:\n",
    "            right += [m * ' '] * (p - q)\n",
    "        zipped_lines = zip(left, right)\n",
    "        lines = [first_line, second_line] + [a + u * ' ' + b for a, b in zipped_lines]\n",
    "        return lines, n + m + u, max(p, q) + 2, n + u // 2\n",
    "\n",
    "    def insert(self, root, key):\n",
    "        if root:\n",
    "            print(\"Insert {} - Root:{}\".format(key, root.val))\n",
    "        else:\n",
    "            print(\"Insert {} - Root:None\".format(key))\n",
    "\n",
    "        # binary search\n",
    "        if not root:\n",
    "            return TreeNode(key)\n",
    "        elif key == root.val:\n",
    "            return root\n",
    "        elif key < root.val:\n",
    "            root.left = self.insert(root.left, key)\n",
    "        else:\n",
    "            root.right = self.insert(root.right, key)\n",
    "\n",
    "        # setting the height\n",
    "        root.height = 1 + max(get_height(root.left),\n",
    "                              get_height(root.right))\n",
    "        print(\"root {} height:{}\".format(root.val, root.height))\n",
    "        # balance factor\n",
    "        balance = get_balance(root)\n",
    "        print(\"root {} balance:{}\".format(root.val, balance))\n",
    "        # Step 4 - If the node is unbalanced,\n",
    "        # then try out the 4 cases\n",
    "        if balance > 1:\n",
    "            if get_balance(root.right) < 0:\n",
    "                root.right = right_rotate(root.right)\n",
    "            return left_rotate(root)\n",
    "\n",
    "        if balance < -1:\n",
    "            if get_balance(root.left) > 0:\n",
    "                root.left = left_rotate(root.left)\n",
    "            return right_rotate(root)\n",
    "        return root\n",
    "\n"
   ]
  },
  {
   "cell_type": "code",
   "execution_count": null,
   "metadata": {},
   "outputs": [],
   "source": [
    "def get_height(root):\n",
    "    # zurückgeben der Variable Höhe für root.\n",
    "    pass    \n",
    "\n",
    "\n",
    "def get_balance(root):\n",
    "    # Berechne \n",
    "    pass\n",
    "\n",
    "\n",
    "def right_rotate(z):\n",
    "    \n",
    "   #Pointer vertauschen\n",
    "\n",
    "\n",
    "   #Höhen neuen berechnen\n",
    "\n",
    "\n",
    "   #neue Teilbaumwurzel zurückgeben\n",
    "    pass\n",
    "\n",
    "\n",
    "def left_rotate(z):\n",
    "    \n",
    "   #Pointer vertauschen\n",
    "\n",
    "\n",
    "   #Höhen neuen berechnen\n",
    "\n",
    "\n",
    "   #neue Teilbaumwurzel zurückgeben\n",
    "    pass\n",
    "\n",
    "\n"
   ]
  },
  {
   "cell_type": "code",
   "execution_count": null,
   "metadata": {},
   "outputs": [],
   "source": [
    "#TODO Testliste hinzufügen\n",
    "for key in []:\n",
    "    #TODO\n",
    "    root.display()"
   ]
  }
 ],
 "metadata": {
  "kernelspec": {
   "display_name": "Python 3",
   "language": "python",
   "name": "python3"
  },
  "language_info": {
   "codemirror_mode": {
    "name": "ipython",
    "version": 3
   },
   "file_extension": ".py",
   "mimetype": "text/x-python",
   "name": "python",
   "nbconvert_exporter": "python",
   "pygments_lexer": "ipython3",
   "version": "3.8.8"
  }
 },
 "nbformat": 4,
 "nbformat_minor": 4
}
