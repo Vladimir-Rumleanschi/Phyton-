{
 "cells": [
  {
   "cell_type": "markdown",
   "metadata": {},
   "source": [
    "# Übungszettel Nr. 5 - Datenstrukturen und Algorithmen\n",
    "## WiSe2021/22"
   ]
  },
  {
   "cell_type": "markdown",
   "metadata": {},
   "source": [
    "**Hinweise**: Bitte reichen Sie Ihre Lösung zum Übungszettel unter Einhaltung der\n",
    "nachfolgenden Regeln ein! Bitte beachten Sie: Nur dann wird der Übungszettel\n",
    "geprüft, ansonsten gilt er als nicht abgegeben!\n",
    "1. Sie müssen Ihre Abgaben zu zweit abgeben\n",
    "2. Diese Übung können Sie als **PDF oder Jupyternotebook** abgeben. \n",
    "Bitte reichen Sie genau eine Jupyter-Notebook oder eine PDF in einem ZIP-File mit den Lösungen pro Übungszettel ein. Benennen Sie diese mit Ihrer LUH-ID (z.B. bsp-123). Verwenden Sie bei der Benennung der Dateien keine Umlaute. Sollten Sie zu zweit abgeben, dann muss nur ein Teilnehmender die Datei hochladen. Tragen Sie auf Ihrer Abgabe beide Namen ein. **Bitte beachten Sie, dass bei dem ersten Übungsblatt beide Teilnehmende die selbe Lösung hochladen müssen damit wir die Gruppen richtig zuordnen können. (Lesen Sie sich die Hinweise zur Abgabe im Stud.IP durch!** )\n",
    "3. Tragen Sie sich im HCI-Abgabetool in die entsprechende Übungsgruppe, die Sie besuchen möchten, ein.\n",
    "4. Sie laden Ihre Lösung bis zum nächsten Donnerstagabend nach Ausgabe des Übungszettels, 23:59 Uhr, in dem HCI-Abgabetool unter der Veranstaltung Datenstrukturen und Algorithmen hoch.\n",
    "5. Erreichen Sie mehr als 66% der zu erreichenden Gesamtpunkte aller Übungszettel, so erhalten Sie einen 10% Bonus auf die erreichten Punkte in der Klausur.\n",
    "\n",
    "Link zum HCI-Abgabetool: https://assignments.hci.uni-hannover.de\n",
    "\n"
   ]
  },
  {
   "cell_type": "markdown",
   "metadata": {},
   "source": [
    "### 1. Aufgabe (Konstruieren und Durchlaufen von Binärbäumen) <div style=\"text-align: right\">(5 Punkte)</div>\n",
    "\n",
    "Angenommen, für alle Buchstaben gilt eine lexikografische Ordnung.\n",
    "\n",
    "a) Welchen Baum würden Sie erhalten, wenn Sie die Sequenz < <font color='blue'>POLARIS</font> > nacheinander von links nach rechts in einen binären Suchbaum einfügen? Zeichnen Sie den Baum. (2 Punkte)"
   ]
  },
  {
   "cell_type": "markdown",
   "metadata": {},
   "source": [
    "b) Bestimmen Sie für den resultierenden Baum die Durchläufe nach Preorder-, Inorder- und Postorder-Durchlauf. Durchläufe können als eine Liste von Knotenschlüsseln repräsentiert werden: Beispiel: <A,B,C> gibt an, dass zuerst Knoten A, dann Knoten B und dann Knoten C gelesen wird. (3 Punkte)"
   ]
  },
  {
   "cell_type": "markdown",
   "metadata": {},
   "source": [
    "### 2. Aufgabe (Umwandlung von Bäumen) <div style=\"text-align: right\">(4 Punkte)</div>\n",
    "Wandeln Sie den angegebenen Baum nach dem Verfahren der Vorlesung in einen binären Baum um. (Bitte Zeichnung einfügen)\n",
    "<img src=\"5_2.png\" alt=\"drawing\" width=\"400\"/>"
   ]
  },
  {
   "cell_type": "markdown",
   "metadata": {},
   "source": [
    "### 3. Aufgabe (Ermittlung von Binärbäumen) <div style=\"text-align: right\">(4 Punkte)</div>\n",
    "\n",
    "Eine Inorder-Traversierung eines unbekannten Binärbaumes führt zur Ausgabe < A D E I N R S U>. (a) Geben Sie einen Binärbaum an (Zeichnung), der zu diesem Ergebnis führt!"
   ]
  },
  {
   "cell_type": "markdown",
   "metadata": {},
   "source": [
    "(b) Es sind unterschiedliche Bäume möglich, die zu diesem Ergebnis führen. Belegen Sie dies durch das Zeichnen eines weiteren Beispiels. "
   ]
  },
  {
   "cell_type": "markdown",
   "metadata": {},
   "source": [
    "### 4. Aufgabe (Richtig oder falsch) <div style=\"text-align: right\">(5 Punkte)</div>\n",
    "\n",
    "a) Welche der folgenden Aussagen sind richtig und welche falsch? Begründen Sie Ihre Antwort in einem Satz."
   ]
  },
  {
   "cell_type": "markdown",
   "metadata": {},
   "source": [
    "1. Bei vollständigen binären Bäumen verhält sich die Höhe immer logarithmisch zur Anzahl der Blätter."
   ]
  },
  {
   "cell_type": "markdown",
   "metadata": {},
   "source": [
    "2. Die Zeitkomplexität der Inorder-Traversierung eines Binärbaums ist größer als die der Preorder-Traversierung. "
   ]
  },
  {
   "cell_type": "markdown",
   "metadata": {},
   "source": [
    "3. Es sei T ein k-beschränkter Baum mit n Blättern. Dann hat T immer die Höhe $h=\\log_k{(n)}$ ."
   ]
  },
  {
   "cell_type": "markdown",
   "metadata": {},
   "source": [
    "b) In welchen Fällen können wir einen vollständigen Binärbaum mit dem Ansatz der Umwandlung von Bäumen in Binärbäume erzeugen? Welche Eigenschaft muss vorliegen? (2P)"
   ]
  }
 ],
 "metadata": {
  "kernelspec": {
   "display_name": "Python 3",
   "language": "python",
   "name": "python3"
  },
  "language_info": {
   "codemirror_mode": {
    "name": "ipython",
    "version": 3
   },
   "file_extension": ".py",
   "mimetype": "text/x-python",
   "name": "python",
   "nbconvert_exporter": "python",
   "pygments_lexer": "ipython3",
   "version": "3.8.8"
  }
 },
 "nbformat": 4,
 "nbformat_minor": 4
}
