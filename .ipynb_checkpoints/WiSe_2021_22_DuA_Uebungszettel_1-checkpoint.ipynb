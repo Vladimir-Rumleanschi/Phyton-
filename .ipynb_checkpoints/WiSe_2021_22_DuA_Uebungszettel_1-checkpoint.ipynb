{
 "cells": [
  {
   "cell_type": "markdown",
   "id": "25fd8859",
   "metadata": {},
   "source": [
    "# Übungszettel Nr. 1 - Datenstrukturen und Algorithmen\n",
    "## WiSe2021/22"
   ]
  },
  {
   "cell_type": "markdown",
   "id": "829259d6",
   "metadata": {},
   "source": [
    "**Hinweise**: Bitte reichen Sie Ihre Lösung zum Übungszettel unter Einhaltung der\n",
    "nachfolgenden Regeln ein! Bitte beachten Sie: Nur dann wird der Übungszettel\n",
    "geprüft, ansonsten gilt er als nicht abgegeben!\n",
    "1. Sie müssen Ihre Abgaben zu zweit abgeben\n",
    "2. Diese Übung können Sie als PDF oder Jupyternotebook abgeben. Für eine Abgabe in Jupyternotebook und in LATEX fomulierten Formeln erhalten Sie einen extra Bonuspunkt.\n",
    "Bitte reichen Sie genau eine Jupyter-Notebook oder eine PDF in einem ZIP-File mit den Lösungen pro Übungszettel ein. Bennenen Sie diese mit Ihrer LUH-ID (z.B. bsp-123). Verwenden Sie bei der Bennenung der Dateien keine Umlaute. Sollten Sie zu zweit abgeben, dann muss nur ein Teilnehmender die Datei hochladen. Tragen Sie auf Ihrer Abgabe beide Namen ein. **Bitte beachten Sie, dass bei dem ersten Übungsblatt beide Teilnehmende die selbe Lösung hochladen müssen damit wir die Gruppen richtig zuordnen können. (Lesen Sie sich die Hinweise zur Abgabe im Stud.IP durch!** )\n",
    "3. Tragen Sie sich im HCI-Abgabetool in die entsprechende Übungsgruppe, die sie besuchen möchten, ein.\n",
    "4. Sie laden Ihre Lösung bis zum nächsten Donnerstag Abend nach Ausgabe des Übungszettels, 23:59 Uhr, in dem HCI-Abgabetool unter der Veranstaltung Datenstrukturen und Algorithmen hoch.\n",
    "5. Erreichen Sie mehr als 66% der zu erreichenden Gesamtpunkte aller Übungszettel, so erhalten Sie einen 10% Bonus auf die erreichten Punkte in der Klausur.\n",
    "\n",
    "Link zum HCI-Abgabetool: https://assignments.hci.uni-hannover.de"
   ]
  },
  {
   "cell_type": "markdown",
   "id": "348e6125",
   "metadata": {},
   "source": [
    "### 1. Aufgabe ($\\mathcal{O}$-Notation) <div style=\"text-align: right\">(5 Punkte)</div>\n",
    "\n",
    "Widerlegen oder beweisen Sie folgende Aussagen anhand der Definitionen aus der Vorlesung.\n",
    "1. $10^{1000} n \\in \\mathcal{O} (n)$\n",
    "2. $n.log_2 (n) ∈ \\mathcal{O} (\\sqrt{n})$\n",
    "3. $3^n ∈ \\mathcal{O} (n^2)$\n",
    "4. $4^n.log_2(n) ∈ 3^{\\mathcal{O} (n)}$\n",
    "5. $n^{3} ∈ \\mathcal{O} (n^2 · log_2 (n))$\n"
   ]
  },
  {
   "cell_type": "markdown",
   "id": "e58f558d",
   "metadata": {},
   "source": [
    "### 2. Aufgabe(Laufzeitkomplexität) <div style=\"text-align: right\">(3 Punkte)</div>\n",
    "\n",
    "Widerlegen oder beweisen Sie folgende Aussagen anhand der Definitionen aus der Vorlesung.\n",
    "1. Für $f(n) = 10^{60}.n^3 + 7n^2 + 12n$ gilt: $f(n) ∈ \\mathcal{O}(n^3)$\n",
    "2. Für $f(n) = n^2 + log_2(n)$ gilt: $f(n) ∈ \\mathcal{O}(n^2log_2(n))$\n",
    "3. Für $f(n) = 2^n . 3^n$ gilt: $f(n) ∈ \\mathcal{O} (5^n )$"
   ]
  },
  {
   "cell_type": "markdown",
   "id": "8ccf809d",
   "metadata": {},
   "source": [
    "### 3. Aufgabe (Zuordnung) <div style=\"text-align: right\">(6 Punkte)</div>\n",
    "Geben Sie zu jeder der folgenden Funktionen die kleinste Komplexitätsklasse für die obere Schranke an und ordnen Sie diese nach asymptotischem Wachstum.\n",
    "\n",
    "1. $n^2(log_2 (n)) + \\frac{7}{n}$\n",
    "2. $\\frac{n}{2} + log_2 (n)$\n",
    "3. $2n^2 + e^{ln(n^4)} + 6n^3$\n",
    "4. $n! + 7.3^n$\n",
    "5. $\\sqrt{4^n} + 8n^2$\n",
    "\n",
    "Reihenfolge:"
   ]
  },
  {
   "cell_type": "markdown",
   "id": "afa8488d",
   "metadata": {},
   "source": [
    "### 4. Aufgabe (Ω-Notation) <div style=\"text-align: right\">(5 Punkte)</div>\n",
    "Widerlegen oder beweisen Sie folgende Aussagen anhand der Definitionen aus der Vorlesung.\n",
    "1. $n+nlog_2(n) ∈ Ω(n^2)$\n",
    "2. $2^n ∈ n^{Ω(n)}$\n",
    "3. $n^3 ∈ Ω(3^n)$\n",
    "4. $\\sqrt{nlog_2(n)} ∈ Ω(log_2(n))$\n",
    "5. $2n + 1 ∈ Ω(log_2 (n))$"
   ]
  }
 ],
 "metadata": {
  "kernelspec": {
   "display_name": "Python 3",
   "language": "python",
   "name": "python3"
  },
  "language_info": {
   "codemirror_mode": {
    "name": "ipython",
    "version": 3
   },
   "file_extension": ".py",
   "mimetype": "text/x-python",
   "name": "python",
   "nbconvert_exporter": "python",
   "pygments_lexer": "ipython3",
   "version": "3.8.8"
  }
 },
 "nbformat": 4,
 "nbformat_minor": 5
}
