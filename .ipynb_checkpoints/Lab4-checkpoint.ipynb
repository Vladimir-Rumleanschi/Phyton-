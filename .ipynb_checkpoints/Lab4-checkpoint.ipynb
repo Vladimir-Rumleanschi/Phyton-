{
 "cells": [
  {
   "cell_type": "markdown",
   "metadata": {},
   "source": [
    "# Lab Nr. 4 - Datenstrukturen und Algorithmen\n",
    "## WiSe2021/22"
   ]
  },
  {
   "cell_type": "markdown",
   "metadata": {},
   "source": [
    "### 1. Aufgabe (Definitionen Graphen) "
   ]
  },
  {
   "cell_type": "markdown",
   "metadata": {
    "tags": []
   },
   "source": [
    "<img src=\"Lab4-graph.png\" alt=\"drawing\" width=\"400\"/>"
   ]
  },
  {
   "cell_type": "markdown",
   "metadata": {},
   "source": [
    "(a) Geben Sie eine formale Beschreibung des abgebildeten Graphen an. Nutzen Sie die Definitionen der Vorlesung!"
   ]
  },
  {
   "cell_type": "code",
   "execution_count": null,
   "metadata": {},
   "outputs": [],
   "source": [
    "V = {a,b,c,d,e,f}\n",
    "E = {(ab), (ad), (bc), (cf)}\n"
   ]
  },
  {
   "cell_type": "markdown",
   "metadata": {},
   "source": [
    "(b) Welche weiteren Aussagen können Sie über den Graphen machen? \n",
    "a) Zyklen\n",
    "b) Schlingen\n",
    "c) maximale zusammenhängende Komponenten?\n",
    "d) Spezieller Graphtyp?"
   ]
  },
  {
   "cell_type": "markdown",
   "metadata": {},
   "source": [
    "a) -\n",
    "b) -\n",
    "c) {a, b, c, d, f}\n",
    "d) Nicht Bipatit, nicht zusammenhaengend"
   ]
  },
  {
   "cell_type": "markdown",
   "metadata": {},
   "source": [
    "(c) Stellen Sie für den Graphen eine Adjazenzmatrix auf."
   ]
  },
  {
   "cell_type": "code",
   "execution_count": 1,
   "metadata": {},
   "outputs": [],
   "source": [
    "#                  a  b  c  d  e  f\n",
    "Adjazenzmatrix = [\n",
    "                  [0, 1, 0, 1, 0, 0], # a\n",
    "                  [1, 0, 1, 0, 0, 0], # b\n",
    "                  [0, 1, 0, 0, 0, 1], # c\n",
    "                  [1, 0, 0, 0, 0, 0], # d\n",
    "                  [0, 0, 0, 0, 0, 0], # e\n",
    "                  [0, 0, 1, 0, 0, 0], # f\n",
    "                 ]"
   ]
  },
  {
   "cell_type": "markdown",
   "metadata": {},
   "source": [
    "d) Implementieren Sie eine Funktion, die bei einem gegebenen Graphen prüft, ob der oben festgestellte spezielle Graphtyp vorliegt. Der Graph wird dabei durch eine Liste von Kanten angegeben. Verwenden Sie die vorgegebene Klasse \"edge\" für die Darstellung der Kanten."
   ]
  },
  {
   "cell_type": "code",
   "execution_count": 4,
   "metadata": {},
   "outputs": [],
   "source": [
    "class edge:\n",
    "    def __init__(self, source = 0, target = 0):\n",
    "        self.source = source\n",
    "        self.target = target"
   ]
  },
  {
   "cell_type": "code",
   "execution_count": 67,
   "metadata": {},
   "outputs": [],
   "source": [
    "def getNN(currentnode, edges):\n",
    "    adjnodes = []\n",
    "    for dedge in edges:\n",
    "        if edge.source == currentnode:\n",
    "            adjnodes.append(edge.target)\n",
    "        if edge.target == currentnode:\n",
    "            adjnodes.append(edge.source)\n",
    "            return adjnodes\n",
    "        \n",
    "\n",
    "def isbip(edges):\n",
    "    snode = edges[0].source\n",
    "    queue = [snode]\n",
    "    \n",
    "    rednodes = [snode]\n",
    "    bluenodes = []\n",
    "    \n",
    "    while queue:\n",
    "        currentnode = queue.pop(0)\n",
    "        \n",
    "        for node in getNeighbourNodes(currentnode, edges):\n",
    "            if (node not in rednodes) and (node not in bluenodes):\n",
    "                if currentnode in rednodes:\n",
    "                    bluenodes.append(node)\n",
    "                else:\n",
    "                    rednodes,append(node)\n",
    "                    \n",
    "                if node in rednodes:\n",
    "                    if currentnode in rednodes:\n",
    "                        return False\n",
    "                else: \n",
    "                    if currentnode in bluenodes:\n",
    "                        return False\n",
    "        return False\n",
    "                    \n",
    "\n",
    "def getNeighbourNodes(currentnode, edges): \n",
    "    adjnodes = []\n",
    "    for edge in edges:\n",
    "        if edge.source == currentnode:\n",
    "            adjnodes.append(edge.target)\n",
    "        if edge.target == currentnode:\n",
    "            adjnodes.append(edge.source)\n",
    "    return adjnodes\n",
    "\n",
    "def isbipartite(edges):\n",
    "#     nodes = ['a','b','c','d','f']\n",
    "#     red = [edge for edge in edges if edge not in blue]\n",
    "    blue = [edges[::2]]\n",
    "    red = [edges[::1]]\n",
    "    neighbor = getNeighbourNodes\n",
    "    i = 0\n",
    "    for edge in edges:\n",
    "        neighbour = getNeighbourNodes(edge.source, edges)\n",
    "        if i % 2 == 0:\n",
    "            if neighbour in blue:\n",
    "                return False\n",
    "        else:\n",
    "            if neighbour in red:\n",
    "                return False\n",
    "        i += i\n",
    "    return True\n",
    "                "
   ]
  },
  {
   "cell_type": "code",
   "execution_count": 68,
   "metadata": {},
   "outputs": [
    {
     "name": "stdout",
     "output_type": "stream",
     "text": [
      "True\n",
      "Success\n"
     ]
    }
   ],
   "source": [
    "edges = [edge('a','b'),edge('a','d'),edge('b','c'),edge('c','f')]\n",
    "\n",
    "if getNeighbourNodes('a', edges) == ['b','d']:\n",
    "    print(True)\n",
    "if isbipartite(edges) == True:\n",
    "    print(\"Success\")"
   ]
  },
  {
   "cell_type": "markdown",
   "metadata": {},
   "source": [
    "e) Diskutieren Sie den Aufwand des vorgestellten Algorithmus."
   ]
  },
  {
   "cell_type": "markdown",
   "metadata": {},
   "source": [
    "### 2. Aufgabe (Abbildung Klasse über Adjazenzmatrix) \n",
    "\n",
    "Schreiben Sie in Python eine Klasse \"Graph\", welche einen Graphen durch eine Adjazenzmatrix verwaltet. Nutzen Sie dafür eine Matrix adj [][]. Beim Erzeugen eines Graphen, wird die Anzahl der Knoten mitgegeben und für die Initialisierung der Adjazenzmatrix genutzt. Die Klasse soll die Methoden addEdge(edge), removeEdge(edge) und getDegree(node) anbieten. Knoten werden durch eine kontinuierliche Folge von Zahlen (beginnend mit 0) dargestellt."
   ]
  },
  {
   "cell_type": "markdown",
   "metadata": {},
   "source": [
    "**Hinweise:** Sie können die Adjazenzmatrix einfach in einem Numpy-Array speichern. Um ein zweidimensionales Numpy-Array zu erzeugen, eignet sich z. B. die Numpy-Methode \"np.zeros\"."
   ]
  },
  {
   "cell_type": "code",
   "execution_count": 5,
   "metadata": {},
   "outputs": [],
   "source": [
    "import numpy as np\n",
    "\n",
    "class Graph:\n",
    "    def __init__(self, size):\n",
    "        self.adj = np.zeros((size, size))\n",
    "    \n",
    "    def addEdges(self, v: int, w: int):\n",
    "        self.adj[v, w]\n",
    "       \n",
    "    def removeEdges(self, v: int, w: int):\n",
    "        self.adj[v,w] = 0\n",
    "        \n",
    "    def getDegree(self,v):\n",
    "        degree = 0\n",
    "        for entry in self.adj[v]:\n",
    "            if entry:\n",
    "                degree = degree + 1\n",
    "\n",
    "        return degree"
   ]
  },
  {
   "cell_type": "code",
   "execution_count": 6,
   "metadata": {},
   "outputs": [
    {
     "name": "stdout",
     "output_type": "stream",
     "text": [
      "Success\n"
     ]
    }
   ],
   "source": [
    "g = Graph(5)\n",
    "g.addEdges(0,0)\n",
    "g.addEdges(0,1)\n",
    "\n",
    "if g.getDegree(0)==2:\n",
    "    print(\"Success\")"
   ]
  }
 ],
 "metadata": {
  "kernelspec": {
   "display_name": "Python 3 (ipykernel)",
   "language": "python",
   "name": "python3"
  },
  "language_info": {
   "codemirror_mode": {
    "name": "ipython",
    "version": 3
   },
   "file_extension": ".py",
   "mimetype": "text/x-python",
   "name": "python",
   "nbconvert_exporter": "python",
   "pygments_lexer": "ipython3",
   "version": "3.8.8"
  }
 },
 "nbformat": 4,
 "nbformat_minor": 4
}
