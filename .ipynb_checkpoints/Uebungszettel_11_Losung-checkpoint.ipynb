{
 "cells": [
  {
   "cell_type": "markdown",
   "metadata": {},
   "source": [
    "# Übungszettel Nr. 11 - Datenstrukturen und Algorithmen\n",
    "## WiSe2020/21"
   ]
  },
  {
   "cell_type": "markdown",
   "metadata": {},
   "source": [
    "**Hinweise**: Bitte reichen Sie Ihre Lösung zum Übungszettel unter Einhaltung der\n",
    "nachfolgenden Regeln ein! Bitte beachten Sie: Nur dann wird der Übungszettel\n",
    "geprüft, ansonsten gilt er als nicht abgegeben!\n",
    "1. Sie können ihre Abgaben auch zu zweit abgeben\n",
    "2. Sie reichen genau eine Jupyter-Notebook in einem ZIP-File mit den Lösungen pro Übungszettel ein. Bennenen Sie diese mit Ihrer LUH-ID (z.B. bsp-123). Verwenden Sie bei der Bennenung der Dateien keine Umlaute. Sollten Sie zu zweit abgeben, dann muss nur ein Teilnehmender die Datei hochladen. Tragen Sie auf Ihrer Abgabe beide Namen ein. Bitte beachten Sie, dass bei dem ersten Übungsblatt beide Teilnehmende die selbe Lösung hochladen. (Lesen Sie sich die Hinweise zur Abgabe im Stud.IP durch!)\n",
    "3. Tragen Sie sich im HCI-Abgabetool in die entsprechende Übungsgruppe, die sie besuchen möchten, ein.\n",
    "4. Sie laden Ihre Lösung bis zum nächsten Donnerstag Abend nach Ausgabe des Übungszettels, 23:59 Uhr, in dem HCI-Abgabetool unter der Veranstaltung Datenstrukturen und Algorithmen hoch.\n",
    "5. Erreichen Sie mehr als 66% der zu erreichenden Gesamtpunkte aller Übungszettel, so erhalten Sie einen 10% Bonus auf die erreichten Punkte in der Klausur.\n",
    "\n",
    "Link zum HCI-Abgabetool: https://assignments.hci.uni-hannover.de/"
   ]
  },
  {
   "cell_type": "markdown",
   "metadata": {},
   "source": [
    "### 1. Aufgabe (Graphen-Durchläufe) <div style=\"text-align: right\">(5 Punkte)</div>\n",
    "\n",
    "(a) Geben Sie für den gegebenen Graphen den Breiten- und Tiefen-Durchlauf an. Starten Sie jeweils bei Knoten A. Ausgehende Kanten werden nach der lexikografischen Ordnung der Inzidenzknoten ausgewählt."
   ]
  },
  {
   "cell_type": "markdown",
   "metadata": {},
   "source": [
    "<img src=\"graph1.png\" alt=\"drawing\" width=\"400\"/>"
   ]
  },
  {
   "cell_type": "code",
   "execution_count": null,
   "metadata": {},
   "outputs": [],
   "source": [
    "#Breiten-Durchlauf\n",
    "bd = []\n",
    "\n",
    "#Tiefen-Durchlauf\n",
    "td = []"
   ]
  },
  {
   "cell_type": "code",
   "execution_count": null,
   "metadata": {},
   "outputs": [],
   "source": [
    "#Lösung\n",
    "if bd == ['A', 'B', 'E', 'F', 'C', 'D', 'G', 'H']:\n",
    "    print('success')\n",
    "\n",
    "if td == ['A', 'B', 'C', 'D', 'G', 'E', 'F', 'H']:\n",
    "    print('success')"
   ]
  },
  {
   "cell_type": "markdown",
   "metadata": {},
   "source": [
    "Ein Punkt pro Durchlauf\n",
    "(2 Punkte)"
   ]
  },
  {
   "cell_type": "markdown",
   "metadata": {},
   "source": [
    "(b) Wie sehen die von diesen Durchläufen erzeugten Spannbäume aus? Zeichnen Sie beide. Sie dürfen ein Bild einbinden oder die BTreeNode Klasse nutzen. Die Wurzel beider Bäume soll A sein. "
   ]
  },
  {
   "cell_type": "code",
   "execution_count": 2,
   "metadata": {},
   "outputs": [],
   "source": [
    "from BTreeNode import BTreeNode"
   ]
  },
  {
   "cell_type": "code",
   "execution_count": null,
   "metadata": {},
   "outputs": [],
   "source": [
    "#Breiten-Durchlauf\n",
    "tree = BTreeNode('A')\n",
    "tree.draw()"
   ]
  },
  {
   "cell_type": "code",
   "execution_count": 3,
   "metadata": {},
   "outputs": [
    {
     "data": {
      "text/html": [
       "\n",
       "        <iframe\n",
       "            width=\"1500\"\n",
       "            height=\"400\"\n",
       "            src=\"./tree.html\"\n",
       "            frameborder=\"0\"\n",
       "            allowfullscreen\n",
       "        ></iframe>\n",
       "        "
      ],
      "text/plain": [
       "<IPython.lib.display.IFrame at 0x106840160>"
      ]
     },
     "execution_count": 3,
     "metadata": {},
     "output_type": "execute_result"
    }
   ],
   "source": [
    "#Lösung\n",
    "#Breiten-Durchlauf\n",
    "tree = BTreeNode('A')\n",
    "tree.children.extend([BTreeNode('F'), BTreeNode('E'), BTreeNode('B')])\n",
    "tree.children[1].add_child('G')\n",
    "tree.children[2].children.extend([BTreeNode('D'), BTreeNode('C')])\n",
    "tree.children[2].children[0].add_child('H')\n",
    "tree.draw()"
   ]
  },
  {
   "cell_type": "code",
   "execution_count": null,
   "metadata": {},
   "outputs": [],
   "source": [
    "#Tiefen-Durchlauf\n",
    "tree = BTreeNode('A')\n",
    "tree.draw()"
   ]
  },
  {
   "cell_type": "code",
   "execution_count": 4,
   "metadata": {},
   "outputs": [
    {
     "data": {
      "text/html": [
       "\n",
       "        <iframe\n",
       "            width=\"1500\"\n",
       "            height=\"400\"\n",
       "            src=\"./tree.html\"\n",
       "            frameborder=\"0\"\n",
       "            allowfullscreen\n",
       "        ></iframe>\n",
       "        "
      ],
      "text/plain": [
       "<IPython.lib.display.IFrame at 0x1067d8b80>"
      ]
     },
     "execution_count": 4,
     "metadata": {},
     "output_type": "execute_result"
    }
   ],
   "source": [
    "#Lösung\n",
    "#Breiten-Durchlauf\n",
    "tree = BTreeNode('A')\n",
    "tree.add_child('B')\n",
    "tree.children[0].add_child('C')\n",
    "tree.children[0].children[0].add_child('D')\n",
    "tree.children[0].children[0].children[0].children.extend([BTreeNode('G'), BTreeNode('H')])\n",
    "tree.children[0].children[0].children[0].children[0].add_child('E')\n",
    "tree.children[0].children[0].children[0].children[0].children[0].add_child('F')\n",
    "tree.draw()"
   ]
  },
  {
   "cell_type": "markdown",
   "metadata": {},
   "source": [
    "1,5 Punkte pro Spannbaum.\n",
    "(3 Punkte)"
   ]
  },
  {
   "cell_type": "markdown",
   "metadata": {},
   "source": [
    "### 2. Aufgabe (Dijkstra) <div style=\"text-align: right\">(5 Punkte)</div>\n",
    "\n",
    "Gegeben sei ein gewichteter, ungerichteter Graph G. Ermitteln Sie mit Hilfe des Algorithmus von Dijkstra die kürzesten Wege vom Knoten D zu allen anderen Knoten von G.\n",
    "Geben Sie nach jedem bearbeiteten Knoten den Inhalt der Distanz- und Vorgänger-Arrays wie in der Vorlesung an. Sie dürfen ein Bild einbinden oder Pythonlisten zur Darstellung der Arrays nutzen.\n",
    "Zeichnen Sie auch den Spannbaum der kürzesten Wege."
   ]
  },
  {
   "cell_type": "markdown",
   "metadata": {},
   "source": [
    "<img src=\"graph2.png\" alt=\"drawing\" width=\"400\"/>"
   ]
  },
  {
   "cell_type": "code",
   "execution_count": null,
   "metadata": {},
   "outputs": [],
   "source": [
    "import numpy as np #np.inf soll zur Darstellung von unendlich genutzt werden.\n",
    "#Iteration 0\n",
    "                #A   ,B   ,C   ,D ,E  ,F \n",
    "predecessors = [None,None,None, None,None,None]\n",
    "distances =    [np.inf,np.inf,np.inf,0 ,np.inf,np.inf]\n",
    "\n",
    "Vorrat = ['D']\n",
    "Erledigt = []\n",
    "Aktuell = None\n",
    "Nachfolger = []\n",
    "\n",
    "#Iteration 1 \n",
    "                #A   ,B   ,C   ,D ,E  ,F \n",
    "predecessors = [?,?,?, ?,?,?]\n",
    "distances =    [?,?,?, 0,?,?]\n",
    "\n",
    "Vorrat = [?]\n",
    "Erledigt = [?]\n",
    "Aktuell = 'D'\n",
    "Nachfolger = [?]\n",
    "\n",
    "#Iteration 2\n",
    "\n",
    "#...\n",
    "\n",
    "#Iteration 6\n"
   ]
  },
  {
   "cell_type": "code",
   "execution_count": null,
   "metadata": {},
   "outputs": [],
   "source": [
    "#Lösung\n",
    "\n",
    "#Iteration 0\n",
    "                #A   ,B   ,C   ,D ,E  ,F \n",
    "predecessors = [None,None,None, None,None,None]\n",
    "distances =    [np.inf,np.inf,np.inf,0 ,np.inf,np.inf]\n",
    "\n",
    "Vorrat = ['D']\n",
    "Erledigt = []\n",
    "Aktuell = None\n",
    "Nachfolger = []\n",
    "\n",
    "#Iteration 1 \n",
    "                #A   ,B   ,C   ,D ,E  ,F \n",
    "predecessors = ['D','D','D', None,None,None]\n",
    "distances =    [6, 1, 4, 0 ,np.inf,np.inf]\n",
    "\n",
    "Vorrat = ['D']\n",
    "Erledigt = []\n",
    "Aktuell = 'D'\n",
    "Nachfolger = ['A','B','C']\n",
    "\n",
    "\n",
    "\n",
    "#Iteration 2\n",
    "\n",
    "                #A   ,B   ,C   ,D ,E  ,F \n",
    "predecessors = ['D','D','B', None,'B',None]\n",
    "distances =    [6, 1, 3, 0 ,6,np.inf]\n",
    "\n",
    "Vorrat = ['A', 'B', 'C']\n",
    "Erledigt = ['D']\n",
    "Aktuell = 'B'\n",
    "Nachfolger = ['C','E']\n",
    "\n",
    "\n",
    "#Iteration 3\n",
    "                #A   ,B   ,C   ,D ,E  ,F \n",
    "predecessors = ['C','D','B', None,'C',None]\n",
    "distances =    [4, 1, 3, 0 ,4,np.inf]\n",
    "\n",
    "Vorrat = ['A', 'C', 'E']\n",
    "Erledigt = ['B', 'D']\n",
    "Aktuell = 'C'\n",
    "Nachfolger = ['A', 'E']\n",
    "\n",
    "#Iteration 4\n",
    "                #A   ,B   ,C   ,D ,E  ,F \n",
    "predecessors = ['C','D','B', None,'C','E']\n",
    "distances =    [4, 1, 3, 0 , 4, 10]\n",
    "\n",
    "Vorrat = ['A', 'E']\n",
    "Erledigt = ['B', 'C', 'D']\n",
    "Aktuell = 'E'\n",
    "Nachfolger = ['A', 'F']\n",
    "\n",
    "#Iteration 5 \n",
    "#Schritt 4 und 5 können auch in umgekehrter Reihenfolge ausgeführt werden.\n",
    "\n",
    "                #A   ,B   ,C   ,D ,E  ,F \n",
    "predecessors = ['C','D','B', None,'C','E']\n",
    "distances =    [4, 1, 3, 0 , 4, 10]\n",
    "\n",
    "Vorrat = ['A', 'F']\n",
    "Erledigt = ['B', 'C', 'D', 'E']\n",
    "Aktuell = 'A'\n",
    "Nachfolger = []\n",
    "\n",
    "#Iteration 6\n",
    "                #A   ,B   ,C   ,D ,E  ,F \n",
    "predecessors = ['C','D','B', None,'C','E']\n",
    "distances =    [4, 1, 3, 0 , 4, 10]\n",
    "\n",
    "Vorrat = ['F']\n",
    "Erledigt = ['A', 'B', 'C', 'D', 'E']\n",
    "Aktuell = 'F'\n",
    "Nachfolger = []"
   ]
  },
  {
   "cell_type": "markdown",
   "metadata": {},
   "source": [
    "Spannbaum der kürzesten Wege:"
   ]
  },
  {
   "cell_type": "code",
   "execution_count": null,
   "metadata": {},
   "outputs": [],
   "source": [
    "tree = BTreeNode('D')\n",
    "tree.draw()"
   ]
  },
  {
   "cell_type": "code",
   "execution_count": 5,
   "metadata": {},
   "outputs": [
    {
     "data": {
      "text/html": [
       "\n",
       "        <iframe\n",
       "            width=\"1500\"\n",
       "            height=\"400\"\n",
       "            src=\"./tree.html\"\n",
       "            frameborder=\"0\"\n",
       "            allowfullscreen\n",
       "        ></iframe>\n",
       "        "
      ],
      "text/plain": [
       "<IPython.lib.display.IFrame at 0x106846820>"
      ]
     },
     "execution_count": 5,
     "metadata": {},
     "output_type": "execute_result"
    }
   ],
   "source": [
    "#Lösung\n",
    "tree = BTreeNode('D')\n",
    "tree.add_child('B')\n",
    "tree.children[0].add_child('C')\n",
    "tree.children[0].children[0].children.extend([BTreeNode('E'), BTreeNode('A')])\n",
    "tree.children[0].children[0].children[0].add_child('F')\n",
    "tree.draw()"
   ]
  },
  {
   "cell_type": "markdown",
   "metadata": {},
   "source": [
    "Ein Punkt für jeweils Schritte 1 bis 4 und 1 Punkt für den Spannbaum.\n",
    "(5 Punkte)"
   ]
  },
  {
   "cell_type": "markdown",
   "metadata": {},
   "source": [
    "### 3. Aufgabe (Adjazenzlisten) <div style=\"text-align: right\">(8 Punkte)</div>\n",
    "\n",
    "Gegeben sei ein gerichteter Graph G mit n Knoten und m Kanten. Ein Knoten s heißt Senke, falls von diesem Knoten keine Kanten ausgehen. Eine Senke t heißt totale Senke, falls an diesem Knoten n-1 Kanten eingehen.\n",
    "\n",
    "(a) Geben Sie einen zusammenhängenden Beispielgraphen an, der eine Senke jedoch keine totale Senke enthält. Geben sie danach auch einen zusammenhängenden Beispielgraphen an, der eine totale Senke enthält."
   ]
  },
  {
   "cell_type": "markdown",
   "metadata": {},
   "source": [
    "Lösung:"
   ]
  },
  {
   "cell_type": "markdown",
   "metadata": {},
   "source": [
    "<img src=\"Lösung1.png\" alt=\"drawing\" width=\"400\"/>"
   ]
  },
  {
   "cell_type": "markdown",
   "metadata": {},
   "source": [
    "<img src=\"Lösung2.png\" alt=\"drawing\" width=\"400\"/>"
   ]
  },
  {
   "cell_type": "markdown",
   "metadata": {},
   "source": [
    "(2 Punkte)"
   ]
  },
  {
   "cell_type": "markdown",
   "metadata": {},
   "source": [
    "(b) Wie viele totale Senken kann ein beliebiger gerichteter Graph enthalten? Begründen Sie Ihre Antwort."
   ]
  },
  {
   "cell_type": "markdown",
   "metadata": {},
   "source": [
    "**Lösung:**\n",
    "Es gibt höchstens eine totale Senke. Gäbe es zwei totale Senken, dann gibt\n",
    "es keine Kanten zwischen diesen beiden Senken. Widerspruch zur Definition\n",
    "einer totalen Senke.\n",
    "(1 Punkt)"
   ]
  },
  {
   "cell_type": "markdown",
   "metadata": {},
   "source": [
    "(c) Schreiben Sie einen effizienten Algorithmus findSink(Sequence al) in Python, der eine totale Senke bestimmt (falls eine existiert). Der Graph liegt als einfache Adjazenzlisten vor, d.h. als Sequenz <i>al</i> von Sequenzen (jeweils Array-basiert); der Knoten i liege auf Index i der äußeren Sequenz. Die Laufzeit betrage maximal $O(m)$ wobei $m$ die Anzahl der Kanten ist.\n",
    "\n",
    "Beschreiben Sie kurz wie Ihr Algorithmus funktioniert.\n",
    "\n",
    "**Hinweis 1:** Falls keine totale Senke existiert, soll -1 zurück gegeben werden. "
   ]
  },
  {
   "cell_type": "code",
   "execution_count": null,
   "metadata": {},
   "outputs": [],
   "source": [
    "g1 =[[1],\n",
    "     [0],\n",
    "     [1]]\n",
    "\n",
    "g2 =[[1],\n",
    "     [],\n",
    "     [0,1]]\n",
    "\n",
    "g3 = [[1,2],\n",
    "      [],\n",
    "      []]\n",
    "\n",
    "def findSink(al):\n",
    "    sink = None\n",
    "    return sink\n",
    "\n",
    "if findSink(g1)==-1:\n",
    "    print('Test 1/3 succeded')\n",
    "else:\n",
    "    print('Test 1/3 failed')\n",
    "    \n",
    "if findSink(g2)==1:\n",
    "    print('Test 2/3 succeded')\n",
    "else:\n",
    "    print('Test 2/3 failed')\n",
    "    \n",
    "if findSink(g3)==-1:\n",
    "    print('Test 3/3 succeded')\n",
    "else:\n",
    "    print('Test 3/3 failed')"
   ]
  },
  {
   "cell_type": "code",
   "execution_count": null,
   "metadata": {},
   "outputs": [],
   "source": [
    "g1 =[[1],\n",
    "     [0],\n",
    "     [1]]\n",
    "\n",
    "g2 =[[1],\n",
    "     [],\n",
    "     [0,1]]\n",
    "\n",
    "g3 = [[1,2],\n",
    "      [],\n",
    "      []]\n",
    "\n",
    "def findSink(al):\n",
    "    i = -1\n",
    "    for j in range(len(al)):\n",
    "        if len(al[j]) == 0:\n",
    "            if i == -1:\n",
    "                i=j\n",
    "            else:\n",
    "                i = -1\n",
    "                break\n",
    "    if i != -1:\n",
    "        for j in range(len(al)):\n",
    "            if j != i:\n",
    "                s = al[i]\n",
    "                for p in range(len(s)):\n",
    "                    if s[p] == i:\n",
    "                        break\n",
    "                    elif p == len(s) - 1:\n",
    "                        return -1\n",
    "    return i\n",
    "\n",
    "if findSink(g1)==-1:\n",
    "    print('Test 1/3 succeded')\n",
    "else:\n",
    "    print('Test 1/3 failed')\n",
    "    \n",
    "if findSink(g2)==1:\n",
    "    print('Test 1/3 succeded')\n",
    "else:\n",
    "    print('Test 1/3 failed')\n",
    "    \n",
    "if findSink(g3)==-1:\n",
    "    print('Test 1/3 succeded')\n",
    "else:\n",
    "    print('Test 1/3 failed')"
   ]
  },
  {
   "cell_type": "markdown",
   "metadata": {},
   "source": [
    "1 Punkt für Beschreibung des Algorithmus.\n",
    "\n",
    "1 Punkt für Erkennbaren Ansatz.\n",
    "\n",
    "1 Punkt für Prüfen auf mehreren Senken.\n",
    "\n",
    "1 Punkt für Totale Senke finden.\n",
    "\n",
    "1 Punkt wenn Laufzeit von O (m) nicht eingehalten.\n",
    "\n",
    "(5 Punkte)"
   ]
  },
  {
   "cell_type": "markdown",
   "metadata": {},
   "source": [
    "### 4. Aufgabe (Shortest Path) <div style=\"text-align: right\">(2 Punkte)</div>\n",
    "\n",
    "Finden Sie zwei reale Anwendungsbeispiele für kürzeste Wege Algorithmen in Graphen und erläutern Sie warum Sie diese Anwendungsbeispiele gewählt haben.\n"
   ]
  },
  {
   "cell_type": "code",
   "execution_count": null,
   "metadata": {},
   "outputs": [],
   "source": []
  }
 ],
 "metadata": {
  "kernelspec": {
   "display_name": "Python 3",
   "language": "python",
   "name": "python3"
  },
  "language_info": {
   "codemirror_mode": {
    "name": "ipython",
    "version": 3
   },
   "file_extension": ".py",
   "mimetype": "text/x-python",
   "name": "python",
   "nbconvert_exporter": "python",
   "pygments_lexer": "ipython3",
   "version": "3.8.2"
  }
 },
 "nbformat": 4,
 "nbformat_minor": 4
}
