{
 "cells": [
  {
   "cell_type": "markdown",
   "metadata": {},
   "source": [
    "# Übungszettel Nr. 4 - Datenstrukturen und Algorithmen\n",
    "## WiSe2021/22"
   ]
  },
  {
   "cell_type": "markdown",
   "metadata": {},
   "source": [
    "**Hinweise**: Bitte reichen Sie Ihre Lösung zum Übungszettel unter Einhaltung der\n",
    "nachfolgenden Regeln ein! Bitte beachten Sie: Nur dann wird der Übungszettel\n",
    "geprüft, ansonsten gilt er als nicht abgegeben!\n",
    "1. Sie müssen Ihre Abgaben zu zweit abgeben.\n",
    "2. Diese Übung müssen Sie als **Jupyternotebook** abgeben.\n",
    "Bitte reichen Sie genau ein Jupyter-Notebook in einem ZIP-File mit den Lösungen pro Übungszettel ein. Benennen Sie diese mit Ihrer LUH-ID (z.B. bsp-123). Verwenden Sie bei der Benennung der Dateien keine Umlaute. Sollten Sie zu zweit abgeben, dann muss nur ein Teilnehmender die Datei hochladen. Tragen Sie auf Ihrer Abgabe beide Namen ein. **Bitte beachten Sie, dass bei dem ersten Übungsblatt beide Teilnehmende die selbe Lösung hochladen müssen damit, wir die Gruppen richtig zuordnen können. (Lesen Sie sich die Hinweise zur Abgabe im Stud.IP durch!** )\n",
    "3. Tragen Sie sich im HCI-Abgabetool in die entsprechende Übungsgruppe, die Sie besuchen möchten, ein.\n",
    "4. Sie laden Ihre Lösung bis zum nächsten Donnerstagabend nach Ausgabe des Übungszettels, 23:59 Uhr, in dem HCI-Abgabetool unter der Veranstaltung Datenstrukturen und Algorithmen hoch.\n",
    "5. Erreichen Sie mehr als 66% der zu erreichenden Gesamtpunkte aller Übungszettel, so erhalten Sie einen 10% Bonus auf die erreichten Punkte in der Klausur.\n",
    "\n",
    "Link zum HCI-Abgabetool: https://assignments.hci.uni-hannover.de\n"
   ]
  },
  {
   "cell_type": "markdown",
   "metadata": {},
   "source": [
    "### 1. Aufgabe (Definitionen Graphen) <div style=\"text-align: right\">(6 Punkte)</div>"
   ]
  },
  {
   "cell_type": "markdown",
   "metadata": {},
   "source": [
    "<p>\n",
    "    <img src=\"Ü4_graph.png\" alt= \"drawing\" width=\"400\">\n",
    "</p>\n",
    "<p>\n",
    "    <em><center>Abbildung 1: ungerichteter Graph</center></em>\n",
    "</p>\n"
   ]
  },
  {
   "cell_type": "markdown",
   "metadata": {},
   "source": [
    "(a) Geben Sie eine formale Beschreibung des abgebildeten Graphen an. Nutzen Sie die Definitionen der Vorlesung!"
   ]
  },
  {
   "cell_type": "markdown",
   "metadata": {},
   "source": [
    "(b) Beantworten Sie bitte die folgenden Fragen.\n",
    "\n",
    "I- Suchen Sie im Graphen einen geschlossenen Pfad mit der Länge 3 und schreiben Sie die Knoten dieses Pfades.\n",
    "\n",
    "II- Wie viele Schlingen hat der Graph?\n",
    "\n",
    "III- Ist der Graph zusammenhängend?\n",
    "\n",
    "IV- Ist {$x_1, x_2, x_3, x_4$} eine Clique in diesem Diagramm? Bitte begründen Sie Ihre Antwort.\\\n",
    "(Finden Sie die Definition in einer einschlägigen Ressource.)"
   ]
  },
  {
   "cell_type": "markdown",
   "metadata": {},
   "source": [
    "(c) Stellen Sie für den Graphen eine Adjazenzmatrix auf."
   ]
  },
  {
   "cell_type": "code",
   "execution_count": 10,
   "metadata": {},
   "outputs": [],
   "source": [
    "#               x  1  2  3  4  5  6     x\n",
    "Adjazenzmatrix = [[0, 0, 0, 0, 0, 0], # 1\n",
    "                  [0, 0, 0, 0, 0, 0], # 2\n",
    "                  [0, 0, 0, 0, 0, 0], # 3\n",
    "                  [0, 0, 0, 0, 0, 0], # 4\n",
    "                  [0, 0, 0, 0, 0, 0], # 5\n",
    "                  [0, 0, 0, 0, 0, 0], # 6\n",
    "                 ]"
   ]
  },
  {
   "cell_type": "markdown",
   "metadata": {},
   "source": [
    "### 2. Aufgabe (Gerichtete Graphen) <div style=\"text-align: right\">(6 Punkte)</div>\n",
    "(a) Geben Sie eine formale Beschreibung des gerichteten Graphen an. Nutzen Sie die Definition der Vorlesung!"
   ]
  },
  {
   "cell_type": "markdown",
   "metadata": {},
   "source": [
    "<p>\n",
    "    <img src=\"Ü4_graph2.png\" alt= \"drawing\" width=\"400\">\n",
    "</p>\n",
    "<p>\n",
    "    <em><center>Abbildung 2: Gerichteter Graph</center></em>\n",
    "</p>"
   ]
  },
  {
   "cell_type": "markdown",
   "metadata": {},
   "source": [
    "(b) Geben Sie vier verschiedene Pfade von $x_1$ nach $x_6$ an und den jeweiligen Länge der Pfade."
   ]
  },
  {
   "cell_type": "markdown",
   "metadata": {},
   "source": [
    "(c) Stellen Sie für den Graphen eine Adjazenzmatrix auf."
   ]
  },
  {
   "cell_type": "code",
   "execution_count": 41,
   "metadata": {},
   "outputs": [],
   "source": [
    "#               x  1  2  3  4  5  6  7  8  9  10     x\n",
    "Adjazenzmatrix = [[0, 0, 0, 0, 0, 0, 0, 0, 0, 0], # 1\n",
    "                  [0, 0, 0, 0, 0, 0, 0, 0, 0, 0], # 2\n",
    "                  [0, 0, 0, 0, 0, 0, 0, 0, 0, 0], # 3\n",
    "                  [0, 0, 0, 0, 0, 0, 0, 0, 0, 0], # 4\n",
    "                  [0, 0, 0, 0, 0, 0, 0, 0, 0, 0], # 5\n",
    "                  [0, 0, 0, 0, 0, 0, 0, 0, 0, 0], # 6\n",
    "                  [0, 0, 0, 0, 0, 0, 0, 0, 0, 0], # 7\n",
    "                  [0, 0, 0, 0, 0, 0, 0, 0, 0, 0], # 8\n",
    "                  [0, 0, 0, 0, 0, 0, 0, 0, 0, 0], # 9\n",
    "                  [0, 0, 0, 0, 0, 0, 0, 0, 0, 0], # 10\n",
    "                 ]"
   ]
  },
  {
   "cell_type": "markdown",
   "metadata": {},
   "source": [
    "### 3. Aufgabe (Transponierter Graph)<div style=\"text-align: right\">(4 Punkte)</div>\n",
    "\n",
    "Die Transponierung $G^t$ eines gerichteten Graphen G entspricht einem gerichteten Graph mit der gleichen Knotenmenge, bei dem jedoch alle Kanten aus G invertiert sind. Das heißt, wenn G eine Kante (u, v) enthält, dann enthält die Transponierung $G^t$ eine Kante (v, u).\n",
    "\n",
    "Schreiben Sie eine Methode in Python, die eine Adjazenzmatrix als Liste von Listen (wie in Aufgaben 1 und 2) erhält und den transpornierten Graphen zurückgibt. **Die Ausgabe muss eine Adjanzmatrix als Liste von Listen sein**. \n",
    "\n",
    "**Hinweise:** Sie dürfen Numpy-Funktionen verwenden."
   ]
  },
  {
   "cell_type": "code",
   "execution_count": 1,
   "metadata": {},
   "outputs": [],
   "source": [
    "#Potentieller Input:\n",
    "\n",
    "#           a  b  c  d  e  f\n",
    "matrix = [  [0, 1, 0, 0, 0, 0], # a\n",
    "            [1, 0, 0, 1, 0, 1], # b\n",
    "            [0, 0, 0, 0, 1, 1], # c\n",
    "            [0, 1, 0, 1, 0, 0], # d\n",
    "            [0, 0, 0, 0, 0, 0], # e\n",
    "            [0, 1, 0, 1, 0, 1], # f\n",
    "          ]"
   ]
  },
  {
   "cell_type": "markdown",
   "metadata": {},
   "source": [
    "### 4. Aufgabe (Theoriefragen)<div style=\"text-align: right\">(4 Punkte)</div>\n",
    "\n"
   ]
  },
  {
   "cell_type": "markdown",
   "metadata": {},
   "source": [
    "I. Wann ist ein gerichteter Graph stark zusammenhängend?"
   ]
  },
  {
   "cell_type": "markdown",
   "metadata": {},
   "source": [
    "II. Wahr/Falsch Fragen:\n",
    "\n",
    "a) Jeder binäre Baum ist ein bipartiter Graph.\\\n",
    "b) Ein gerichteter bipartiter Graph is ein Wald von Bäumen."
   ]
  }
 ],
 "metadata": {
  "kernelspec": {
   "display_name": "Python 3",
   "language": "python",
   "name": "python3"
  },
  "language_info": {
   "codemirror_mode": {
    "name": "ipython",
    "version": 3
   },
   "file_extension": ".py",
   "mimetype": "text/x-python",
   "name": "python",
   "nbconvert_exporter": "python",
   "pygments_lexer": "ipython3",
   "version": "3.8.8"
  }
 },
 "nbformat": 4,
 "nbformat_minor": 4
}
