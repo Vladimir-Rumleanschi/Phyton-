{
 "cells": [
  {
   "cell_type": "markdown",
   "metadata": {},
   "source": [
    "# Übungszettel Nr. 3 - Datenstrukturen und Algorithmen\n",
    "## WiSe2021/22"
   ]
  },
  {
   "cell_type": "markdown",
   "metadata": {},
   "source": [
    "**Hinweise**: Bitte reichen Sie Ihre Lösung zum Übungszettel unter Einhaltung der\n",
    "nachfolgenden Regeln ein! Bitte beachten Sie: Nur dann wird der Übungszettel\n",
    "geprüft, ansonsten gilt er als nicht abgegeben!\n",
    "1. Sie müssen Ihre Abgaben zu zweit abgeben\n",
    "2. Diese Übung können Sie als PDF oder Jupyternotebook abgeben. Für eine Abgabe in Jupyternotebook und in LATEX formulierten Formeln erhalten Sie einen extra Bonuspunkt.\n",
    "Bitte reichen Sie genau eine Jupyter-Notebook oder eine PDF in einem ZIP-File mit den Lösungen pro Übungszettel ein. Benennen Sie diese mit Ihrer LUH-ID (z.B. bsp-123). Verwenden Sie bei der Benennung der Dateien keine Umlaute. Sollten Sie zu zweit abgeben, dann muss nur ein Teilnehmender die Datei hochladen. Tragen Sie auf Ihrer Abgabe beide Namen ein. **Bitte beachten Sie, dass bei dem ersten Übungsblatt beide Teilnehmende die selbe Lösung hochladen müssen damit wir die Gruppen richtig zuordnen können. (Lesen Sie sich die Hinweise zur Abgabe im Stud.IP durch!** )\n",
    "3. Tragen Sie sich im HCI-Abgabetool in die entsprechende Übungsgruppe, die sie besuchen möchten, ein.\n",
    "4. Sie laden Ihre Lösung bis zum nächsten Donnerstag Abend nach Ausgabe des Übungszettels, 23:59 Uhr, in dem HCI-Abgabetool unter der Veranstaltung Datenstrukturen und Algorithmen hoch.\n",
    "5. Erreichen Sie mehr als 66% der zu erreichenden Gesamtpunkte aller Übungszettel, so erhalten Sie einen 10% Bonus auf die erreichten Punkte in der Klausur.\n",
    "\n",
    "Link zum HCI-Abgabetool: https://assignments.hci.uni-hannover.de"
   ]
  },
  {
   "cell_type": "markdown",
   "metadata": {},
   "source": [
    "### 1. Aufgabe (Array) <div style=\"text-align: right\">(5 Punkte)</div>\n",
    "\n",
    "Ein Array <b>a</b> enthalte in beliebiger Reihenfolge <b>n</b> verschiedene natürliche **graden Zahlen** aus dem Intervall von 0 bis **2*n**. Somit ist eine Zahl aus dem Intervall nicht im Array **a** enthalten.\n",
    "Beispiel: Sei **n = 3** und **a = [0, 2, 6]**\n",
    "In diesem Beispiel ist die Zahl **4** nicht im Array enthalten.\n",
    "Geben Sie einen Algorithmus in Pseudocode an, der die fehlende Zahl mit Hilfe der in der Vorlesung vorgestellten Datenstrukturen und Basisoperationen bestimmt. Beschreiben Sie zudem kurz, wie Ihr Algorithmus arbeitet.\n",
    "<b>Ihre Lösung muss im worst case in O(n) liegen.</b>"
   ]
  },
  {
   "cell_type": "code",
   "execution_count": 10,
   "metadata": {
    "scrolled": true
   },
   "outputs": [
    {
     "name": "stdout",
     "output_type": "stream",
     "text": [
      "success\n"
     ]
    }
   ],
   "source": [
    "def MissingNumber(a):\n",
    "    for i in range (len(a) - 1 ):\n",
    "        if a[i+1] - a[i] != 2:\n",
    "            return a[i] + 2\n",
    "    return - 1    \n",
    "\n",
    "if MissingNumber([0, 2, 6,]) == 4:\n",
    "    print(\"success\")"
   ]
  },
  {
   "cell_type": "markdown",
   "metadata": {},
   "source": [
    "### 2. Aufgabe(Queue) <div style=\"text-align: right\">(6 Punkte)</div>\n",
    "\n",
    "Schreiben Sie einen Algorithmus in Python, der zwei gegebene sortierte Warteschlangen in lexikalischer Reihenfolge zusammenführt.\n",
    "Der Algorithmus merge erhält zwei Warteschlangen **a** und **b** als Parameter, wobei **Queue a** und **Queue b** jeweils sortierte Zeichen enthalten. Die Ausgabe soll eine Warteschlange mit allen Zeichen aus **a** und **b** in lexikalischer Reihenfolge (a-z) sein. Beschreiben Sie auch kurz, wie Ihr Algorithmus funktioniert.\n",
    "\n",
    "Buchstaben (char) können mit den Operatoren '==', '! =', '<' und '>' oder ' ≤ ' und ' ≥ ' verglichen werden.\n",
    "So würde zum Beispiel A ≤ B: true zurückgeben. <b>Nur die angegebene Warteschlange</b> als interne Datenstruktur verwenden.\n",
    "\n",
    "Beispiel:\\\n",
    "Eingabe: Queue(['g','m','s']), Queue(['a','d','y'])\\\n",
    "Ausgabe: Queue(['a','d','g','m','s','y'])\n"
   ]
  },
  {
   "cell_type": "code",
   "execution_count": 23,
   "metadata": {},
   "outputs": [],
   "source": [
    "class Queue:\n",
    "    def __init__(self, queue = None):\n",
    "        self.queue = [] if queue is None else queue\n",
    "        \n",
    "    def __eq__(self, other):\n",
    "        return self.queue == other.queue\n",
    "    \n",
    "    def __ne__(self, other):\n",
    "        return self.queue != other.queue\n",
    "        \n",
    "    def enqueue(self, item):\n",
    "        self.queue.append(item)\n",
    "\n",
    "    def dequeue(self):\n",
    "        if len(self.queue) < 1:\n",
    "            return None\n",
    "        return self.queue.pop(0)\n",
    "    \n",
    "    def head(self):\n",
    "        return self.queue[0]\n",
    "\n",
    "    def size(self):\n",
    "        return len(self.queue)\n",
    "    \n",
    "    def empty(self):\n",
    "        return len(self.queue) == 0"
   ]
  },
  {
   "cell_type": "code",
   "execution_count": 57,
   "metadata": {},
   "outputs": [
    {
     "name": "stdout",
     "output_type": "stream",
     "text": [
      "success\n",
      "success\n"
     ]
    }
   ],
   "source": [
    "def merge(q1, q2):\n",
    "    #Es wird eine neue Queue erstellt,damit dort die Elemente aus q1 und q2 in die lexikalischer Reihenfolge zusammenführt werden.\n",
    "    mergeQueue = Queue(None)\n",
    "    \n",
    "    #Schleife läuft so lange nicht alle Elemente aus q1 und q2 gepopt sind.\n",
    "    while q1 or q2:\n",
    "        #wird überprüft of q1 leer ist und falls ja werden automatisch alle Elementen aus q2 in mergeQueue gepusht\n",
    "        if Queue.empty(q1):\n",
    "            while not Queue.empty(q2):\n",
    "                Queue.enqueue(mergeQueue,Queue.head(q2))\n",
    "                Queue.dequeue(q2)\n",
    "            break    \n",
    "        #wird überprüft of q2 leer ist und falls ja werden automatisch alle Elementen aus q1 in mergeQueue gepusht\n",
    "        if Queue.empty(q2):\n",
    "            while not Queue.empty(q1):\n",
    "                Queue.enqueue(mergeQueue,Queue.head(q1))\n",
    "                Queue.dequeue(q1)\n",
    "            break\n",
    "            \n",
    "        else:\n",
    "            if Queue.head(q1) < Queue.head(q2):\n",
    "                Queue.enqueue(mergeQueue,Queue.head(q1))\n",
    "                Queue.dequeue(q1)\n",
    "            else:    \n",
    "                if Queue.head(q1) > Queue.head(q2): \n",
    "                    Queue.enqueue(mergeQueue,Queue.head(q2))\n",
    "                    Queue.dequeue(q2)\n",
    "                else:   \n",
    "                    Queue.enqueue(mergeQueue,Queue.head(q1))\n",
    "                    Queue.enqueue(mergeQueue,Queue.head(q2))\n",
    "                    Queue.dequeue(q1)\n",
    "                    Queue.dequeue(q2)\n",
    "    return mergeQueue\n",
    "\n",
    "if (merge(Queue(['g', 'm', 's']), Queue(['a', 'd', 'y'])) == Queue(['a', 'd', 'g', 'm', 's', 'y'])):\n",
    "    print(\"success\")\n",
    "if merge(Queue(['a', 'g','h', 'm', 's']), Queue(['a', 'b', 'u', 'y'])) == (Queue(['a', 'a', 'b', 'g','h', 'm', 's', 'u', 'y'])):\n",
    "    print(\"success\")\n"
   ]
  },
  {
   "cell_type": "markdown",
   "metadata": {},
   "source": [
    "### 3. Aufgabe <div style=\"text-align: right\">(5 Punkte)</div>\n",
    "Schreiben Sie einen Algorithmus in Python, dem ein **Stack s** aus natürlichen Zahlen übergeben wird und der die kleinste Zahl in diesem Stack findet. Beschreiben Sie auch kurz, wie Ihr Algorithmus funktioniert.\n",
    "\n",
    "Beispiel:\\\n",
    "Eingabe: s = Stack([30,5,7,20,1,9])\\\n",
    "Ausgabe: 1\n",
    "\n",
    "<b> Nutzen Sie für die Umsetzung nur die vorgegebene Stack-Klasse als Datenstruktur. Nur ein Stack darf benutzt werden.</b>"
   ]
  },
  {
   "cell_type": "code",
   "execution_count": 4,
   "metadata": {},
   "outputs": [],
   "source": [
    "class Stack:\n",
    "    def __init__(self, stack=None):\n",
    "        self.stack = [] if stack is None else stack\n",
    "        \n",
    "    def push(self, item):\n",
    "        self.stack.append(item)\n",
    "\n",
    "    def pop(self):\n",
    "        if len(self.stack) < 1:\n",
    "            return None\n",
    "        return self.stack.pop()\n",
    "    \n",
    "    def top(self):\n",
    "        return self.stack[self.size()-1]\n",
    "\n",
    "    def size(self):\n",
    "        return len(self.stack)\n",
    "    \n",
    "    def empty(self):\n",
    "        return len(self.stack) == 0"
   ]
  },
  {
   "cell_type": "code",
   "execution_count": 58,
   "metadata": {
    "jupyter": {
     "source_hidden": true
    },
    "tags": []
   },
   "outputs": [
    {
     "ename": "NameError",
     "evalue": "name 'Stack' is not defined",
     "output_type": "error",
     "traceback": [
      "\u001b[1;31m---------------------------------------------------------------------------\u001b[0m",
      "\u001b[1;31mNameError\u001b[0m                                 Traceback (most recent call last)",
      "\u001b[1;32m<ipython-input-58-2e1800fff7ec>\u001b[0m in \u001b[0;36m<module>\u001b[1;34m\u001b[0m\n\u001b[0;32m      8\u001b[0m     \u001b[1;32mreturn\u001b[0m \u001b[1;36m1\u001b[0m\u001b[1;33m\u001b[0m\u001b[1;33m\u001b[0m\u001b[0m\n\u001b[0;32m      9\u001b[0m \u001b[1;33m\u001b[0m\u001b[0m\n\u001b[1;32m---> 10\u001b[1;33m \u001b[1;32mif\u001b[0m \u001b[0mfind_min\u001b[0m\u001b[1;33m(\u001b[0m\u001b[0mStack\u001b[0m\u001b[1;33m(\u001b[0m\u001b[1;33m[\u001b[0m\u001b[1;36m30\u001b[0m\u001b[1;33m,\u001b[0m\u001b[1;36m5\u001b[0m\u001b[1;33m,\u001b[0m\u001b[1;36m7\u001b[0m\u001b[1;33m,\u001b[0m\u001b[1;36m20\u001b[0m\u001b[1;33m,\u001b[0m\u001b[1;36m1\u001b[0m\u001b[1;33m,\u001b[0m\u001b[1;36m9\u001b[0m\u001b[1;33m]\u001b[0m\u001b[1;33m)\u001b[0m\u001b[1;33m)\u001b[0m \u001b[1;33m==\u001b[0m \u001b[1;36m1\u001b[0m\u001b[1;33m:\u001b[0m\u001b[1;33m\u001b[0m\u001b[1;33m\u001b[0m\u001b[0m\n\u001b[0m\u001b[0;32m     11\u001b[0m     \u001b[0mprint\u001b[0m\u001b[1;33m(\u001b[0m\u001b[1;34m\"success\"\u001b[0m\u001b[1;33m)\u001b[0m\u001b[1;33m\u001b[0m\u001b[1;33m\u001b[0m\u001b[0m\n",
      "\u001b[1;31mNameError\u001b[0m: name 'Stack' is not defined"
     ]
    }
   ],
   "source": [
    "def find_min(s):\n",
    "    min = 0\n",
    "    \n",
    "    while not Stack.empty(s):\n",
    "        min = s[0]\n",
    "        Stack.pop(s)\n",
    "    \n",
    "    return 1\n",
    "\n",
    "if find_min(Stack([30,5,7,20,1,9])) == 1:\n",
    "    print(\"success\")"
   ]
  },
  {
   "cell_type": "markdown",
   "metadata": {},
   "source": [
    "### 4.  Aufgabe (Theoriefragen) <div style=\"text-align: right\">(4 Punkte)</div>\n"
   ]
  },
  {
   "cell_type": "markdown",
   "metadata": {},
   "source": [
    "I. Was ist der Unterschied zwischen Baum und Graph Datenstrukturen? (2 punkt)\n",
    "Graphen können Zyklen enthalten, sodass man zuruck zu eine Knoten kommen kann und Bäume bestehen aus Elernknoten und Kinderknoten, also es gibt ein Wurzelknoten, was den Zugang zu allem Kinderknoten hat, allerdings man kann nicht von Kinderknoten zuruck zur Elternknoten."
   ]
  },
  {
   "cell_type": "markdown",
   "metadata": {},
   "source": [
    "II. Nennen Sie jeweils ein sinnvolles Anwendungsgebiet für Graphen und Bäume. (2 Punkte)\n",
    "Mit Hilfe eines binär Baum kann man eine Liste aus verschieden Wörter alphabetisch sortieren\n",
    "\n",
    "Mit Hilfe von Graphen ist möglich Automaten zu erstellen, wobei deren Knoten die Zustände representiren.\n"
   ]
  }
 ],
 "metadata": {
  "kernelspec": {
   "display_name": "Python 3",
   "language": "python",
   "name": "python3"
  },
  "language_info": {
   "codemirror_mode": {
    "name": "ipython",
    "version": 3
   },
   "file_extension": ".py",
   "mimetype": "text/x-python",
   "name": "python",
   "nbconvert_exporter": "python",
   "pygments_lexer": "ipython3",
   "version": "3.8.8"
  }
 },
 "nbformat": 4,
 "nbformat_minor": 4
}
