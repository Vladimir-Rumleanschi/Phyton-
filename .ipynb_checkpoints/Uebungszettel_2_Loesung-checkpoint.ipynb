{
 "cells": [
  {
   "cell_type": "markdown",
   "metadata": {},
   "source": [
    "# Übungszettel Nr. 2 - Datenstrukturen und Algorithmen\n",
    "## WiSe2020/21"
   ]
  },
  {
   "cell_type": "markdown",
   "metadata": {},
   "source": [
    "**Hinweise**: Bitte reichen Sie Ihre Lösung zum Übungszettel unter Einhaltung der\n",
    "nachfolgenden Regeln ein! Bitte beachten Sie: Nur dann wird der Übungszettel\n",
    "geprüft, ansonsten gilt er als nicht abgegeben!\n",
    "1. Sie können ihre Abgaben auch zu zweit abgeben\n",
    "2. Sie reichen genau eine Jupyter-Notebook in einem ZIP-File mit den Lösungen pro Übungszettel ein. Bennenen Sie diese mit Ihrer LUH-ID (z.B. bsp-123). Verwenden Sie bei der Bennenung der Dateien keine Umlaute. Sollten Sie zu zweit abgeben, dann muss nur ein Teilnehmender die Datei hochladen. Tragen Sie auf Ihrer Abgabe beide Namen ein. Bitte beachten Sie, dass bei dem ersten Übungsblatt beide Teilnehmende die selbe Lösung hochladen. (Lesen Sie sich die Hinweise zur Abgabe im Stud.IP durch!)\n",
    "3. Tragen Sie sich im HCI-Abgabetool in die entsprechende Übungsgruppe, die sie besuchen möchten, ein.\n",
    "4. Sie laden Ihre Lösung bis zum nächsten Donnerstag Abend nach Ausgabe des Übungszettels, 23:59 Uhr, in dem HCI-Abgabetool unter der Veranstaltung Datenstrukturen und Algorithmen hoch.\n",
    "5. Erreichen Sie mehr als 66% der zu erreichenden Gesamtpunkte aller Übungszettel, so erhalten Sie einen 10% Bonus auf die erreichten Punkte in der Klausur.\n",
    "\n",
    "Link zum HCI-Abgabetool: https://assignments.hci.uni-hannover.de/"
   ]
  },
  {
   "cell_type": "markdown",
   "metadata": {},
   "source": [
    "### 1. Aufgabe  <div style=\"text-align: right\">(4 Punkte)</div>\n",
    "\n",
    "In dieser Aufgabe wird ein Algorithmus in Python dargestellt. "
   ]
  },
  {
   "cell_type": "code",
   "execution_count": 132,
   "metadata": {},
   "outputs": [],
   "source": [
    "def Algorithm1(l):\n",
    "    for i in range(0, len(l) - 1):\n",
    "        tmp = l[i + 1]\n",
    "        j = i + 1\n",
    "        while j > 0 and l[j - 1] > tmp:\n",
    "            l[j] =  l[j - 1]\n",
    "            j = j - 1\n",
    "        l[j] = tmp\n",
    "    return l    "
   ]
  },
  {
   "cell_type": "markdown",
   "metadata": {},
   "source": [
    "(a) Beschreiben Sie in einem Satz, was der Algorithmus mit der übergebenen Liste macht."
   ]
  },
  {
   "cell_type": "markdown",
   "metadata": {},
   "source": [
    "**Lösung:** Es handelt sich um Insertionsort, also sortieren. (1 Punkt)"
   ]
  },
  {
   "cell_type": "markdown",
   "metadata": {},
   "source": [
    "(b) Sei l = [3, 8, 2, 4, 4, 1, 9, 3]. Der Algorithmus wird mit l aufgerufen. Geben Sie den Wert von tmp und die Liste l nach jeder Änderung an, sowie den Rückgabewert."
   ]
  },
  {
   "cell_type": "markdown",
   "metadata": {},
   "source": [
    "**Lösung:** (2 Punkte)"
   ]
  },
  {
   "cell_type": "code",
   "execution_count": 133,
   "metadata": {},
   "outputs": [],
   "source": [
    "def Algorithm1(l: List[int]) -> List[int]:\n",
    "    for i in range(0, len(l) - 1):\n",
    "        tmp = l[i + 1]\n",
    "        j = i + 1\n",
    "        while j > 0 and l[j - 1] > tmp:\n",
    "            l[j] =  l[j - 1]\n",
    "            j = j - 1\n",
    "            print('list: ' + str(l) + ' tmp: ' + str(tmp))\n",
    "        l[j] = tmp\n",
    "        print('list: ' + str(l) + ' tmp: ' + str(tmp))\n",
    "    return l   "
   ]
  },
  {
   "cell_type": "code",
   "execution_count": 134,
   "metadata": {},
   "outputs": [
    {
     "name": "stdout",
     "output_type": "stream",
     "text": [
      "list: [3, 8, 2, 4, 4, 1, 9, 3] tmp: 8\n",
      "list: [3, 8, 8, 4, 4, 1, 9, 3] tmp: 2\n",
      "list: [3, 3, 8, 4, 4, 1, 9, 3] tmp: 2\n",
      "list: [2, 3, 8, 4, 4, 1, 9, 3] tmp: 2\n",
      "list: [2, 3, 8, 8, 4, 1, 9, 3] tmp: 4\n",
      "list: [2, 3, 4, 8, 4, 1, 9, 3] tmp: 4\n",
      "list: [2, 3, 4, 8, 8, 1, 9, 3] tmp: 4\n",
      "list: [2, 3, 4, 4, 8, 1, 9, 3] tmp: 4\n",
      "list: [2, 3, 4, 4, 8, 8, 9, 3] tmp: 1\n",
      "list: [2, 3, 4, 4, 4, 8, 9, 3] tmp: 1\n",
      "list: [2, 3, 4, 4, 4, 8, 9, 3] tmp: 1\n",
      "list: [2, 3, 3, 4, 4, 8, 9, 3] tmp: 1\n",
      "list: [2, 2, 3, 4, 4, 8, 9, 3] tmp: 1\n",
      "list: [1, 2, 3, 4, 4, 8, 9, 3] tmp: 1\n",
      "list: [1, 2, 3, 4, 4, 8, 9, 3] tmp: 9\n",
      "list: [1, 2, 3, 4, 4, 8, 9, 9] tmp: 3\n",
      "list: [1, 2, 3, 4, 4, 8, 8, 9] tmp: 3\n",
      "list: [1, 2, 3, 4, 4, 4, 8, 9] tmp: 3\n",
      "list: [1, 2, 3, 4, 4, 4, 8, 9] tmp: 3\n",
      "list: [1, 2, 3, 3, 4, 4, 8, 9] tmp: 3\n",
      "Rückgabe: [1, 2, 3, 3, 4, 4, 8, 9]\n"
     ]
    }
   ],
   "source": [
    "print('Rückgabe: ' + str(Algorithm1([3, 8, 2, 4, 4, 1, 9, 3])))"
   ]
  },
  {
   "cell_type": "markdown",
   "metadata": {},
   "source": [
    "(c) Schreiben Sie den Algorithmus als <b>AlgorithmInvert1</b> so um, sodass die Elemente in der Liste in umgekehrterter Reihenfolge ausgegeben werden. Es reicht nicht eine beliebige Liste zu invertieren. Bitte verändern Sie Komponenten des Ursprungsalgorithmuses."
   ]
  },
  {
   "cell_type": "markdown",
   "metadata": {},
   "source": [
    "**Lösung:** (1Punkt)"
   ]
  },
  {
   "cell_type": "code",
   "execution_count": 5,
   "metadata": {},
   "outputs": [],
   "source": [
    "def AlgorithmInvert1(l):\n",
    "    for i in range(0, len(l) - 1):\n",
    "        tmp = l[i + 1]\n",
    "        j = i + 1\n",
    "        while j > 0 and l[j - 1] < tmp:\n",
    "            l[j] =  l[j - 1]\n",
    "            j = j - 1\n",
    "        l[j] = tmp\n",
    "    return l    "
   ]
  },
  {
   "cell_type": "code",
   "execution_count": 7,
   "metadata": {},
   "outputs": [
    {
     "name": "stdout",
     "output_type": "stream",
     "text": [
      "Rückgabe: [9, 8, 4, 4, 3, 3, 2, 1]\n"
     ]
    }
   ],
   "source": [
    "print('Rückgabe: ' + str(AlgorithmInvert1([3, 8, 2, 4, 4, 1, 9, 3])))"
   ]
  },
  {
   "cell_type": "markdown",
   "metadata": {},
   "source": [
    "### 2. Aufgabe <div style=\"text-align: right\">(5 Punkte)</div>\n",
    "\n",
    "Schreiben Sie einen Algorithmus, der einen Array A übergeben bekommt und Palindrome erkennt. Ein Palindrom ist ein Wort, welches sowohl vorwärts als auch rückwärts gelesen gleich ist. Beispiele hierfür sind Rentner, Lageregal, Otto oder Hannah. Der Return-Wert des Algorithmus soll entweder True oder False sein.\n",
    "\n",
    "Nutzen Sie für die Umsetzung <b>genau einen Stack</b>. \n",
    "Für die Manipulation ihrer Datenstruktur nutzen Sie bitte ausschließlich die Methoden <b>pop()</b> und <b>append()</b>, die einen Stack simulieren. Beschreiben Sie zudem kurz, wie Ihr Algorithmus funktioniert!"
   ]
  },
  {
   "cell_type": "markdown",
   "metadata": {},
   "source": [
    "**Lösung:** Stack nutzen: (5 Punkte)"
   ]
  },
  {
   "cell_type": "code",
   "execution_count": 136,
   "metadata": {},
   "outputs": [],
   "source": [
    "def Algorithm2(a):\n",
    "    a = a.upper()\n",
    "    s = []\n",
    "    \n",
    "    if len(a) % 2 == 0:\n",
    "        n = len(a) / 2\n",
    "    else:\n",
    "        n = (len(a) + 1) / 2 \n",
    "    \n",
    "    for i in range(n):\n",
    "        s.append(a[i])\n",
    "        \n",
    "    for i in range(int(len(a) / 2), len(a)):\n",
    "        if s.pop() != a[i]:\n",
    "            return False\n",
    "    return True"
   ]
  },
  {
   "cell_type": "code",
   "execution_count": 137,
   "metadata": {},
   "outputs": [
    {
     "name": "stdout",
     "output_type": "stream",
     "text": [
      "Rentner: True\n",
      "Lageregal: True\n",
      "Otto: True\n",
      "Hannah: True\n",
      "Hallo: False\n",
      "test: False\n"
     ]
    }
   ],
   "source": [
    "for s in ['Rentner', 'Lageregal', 'Otto', 'Hannah', 'Hallo', 'test']:\n",
    "    print(s + ': ' + str(Algorithm2(s)))"
   ]
  },
  {
   "cell_type": "markdown",
   "metadata": {},
   "source": [
    "### 3. Aufgabe  <div style=\"text-align: right\">(5 Punkte)</div>\n",
    "Schreiben Sie einen Algorithmus in Python, der eine Liste l übergeben bekommt und korrekte Klammerausdrücke erkennen soll. Das heißt: Zu jeder öffnenden Klammer existiert eine Schließenden. Beispiel: < ((X) > wäre ein falsch geklammerter Ausdruck und < ((X(Y))) > wäre gültig. Der Return-Wert des Algorithmus soll entweder True oder False sein. Zur Lösung der Aufgabe sollen Stacks genutzt werden.\n",
    "\n",
    "\n",
    "Nutzen Sie für die Umsetzung <b>genau einen Stack</b>. \n",
    "Für die Manipulation ihrer Datenstruktur nutzen Sie bitte ausschließlich die Methoden <b>pop()</b> und <b>append()</b>, die einen Stack simulieren. Beschreiben Sie zudem kurz, wie Ihr Algorithmus funktioniert!"
   ]
  },
  {
   "cell_type": "markdown",
   "metadata": {},
   "source": [
    "**Lösung:** Stack nutzen: (5 Punkte)"
   ]
  },
  {
   "cell_type": "code",
   "execution_count": 139,
   "metadata": {},
   "outputs": [],
   "source": [
    "def Algorithm3(l):\n",
    "    s = []\n",
    "    \n",
    "    for i in range(len(l)):\n",
    "        if l[i] == '(':\n",
    "            s.append('(')\n",
    "        elif l[i] == ')':\n",
    "            if len(s) == 0:\n",
    "                return False\n",
    "            else:\n",
    "                s.pop()\n",
    "    if len(s) == 0:\n",
    "        return True\n",
    "    return False"
   ]
  },
  {
   "cell_type": "code",
   "execution_count": 140,
   "metadata": {},
   "outputs": [
    {
     "name": "stdout",
     "output_type": "stream",
     "text": [
      "((X): False\n",
      "((X(Y))): True\n"
     ]
    }
   ],
   "source": [
    "for s in ['((X)', '((X(Y)))']:\n",
    "    print(s + ': ' + str(Algorithm3(s)))"
   ]
  },
  {
   "cell_type": "markdown",
   "metadata": {},
   "source": [
    "### 4. Aufgabe (Theoriefragen) <div style=\"text-align: right\">(6 Punkte)</div>\n",
    "Beantworten Sie folgende Fragen kurz und präzise in ganzen Sätzen.\n",
    "\n",
    "(a) Nennen Sie jeweils ein sinnvolles Anwendungsgebiet für Stacks und Queues. (2 Punkte)"
   ]
  },
  {
   "cell_type": "markdown",
   "metadata": {},
   "source": [
    "**Lösung:** Stacks: Programmiersprachen, Syntaxkontrolle, Queues: Warteschlangen von Anwendungen, Listen: dynamischer Speicher\n"
   ]
  },
  {
   "cell_type": "markdown",
   "metadata": {},
   "source": [
    "(b) Was ist sind jeweils ein Vorteil und ein Nachteil von einem Array gegenüber einer verketteten Liste? (2Punkte)"
   ]
  },
  {
   "cell_type": "markdown",
   "metadata": {},
   "source": [
    "**Lösung:** Array Vorteil: Zugriff in O(1). Nachteil: nicht flexibel erweiterbar."
   ]
  },
  {
   "cell_type": "markdown",
   "metadata": {},
   "source": [
    "(c) Bewerten Sie folgende Aussagen mit \"Korrekt\" und \"Falsch\".\n",
    "\n",
    "I. Eine einfach verkettete Liste ist ein gerichteter Baum.\n",
    "\n",
    "II. Eine zweifach verkettete Liste ist ein ungerichteter Baum.\n"
   ]
  },
  {
   "cell_type": "markdown",
   "metadata": {},
   "source": [
    "**Lösung:** Wahr, Wahr\n",
    "(2 Punkte)"
   ]
  },
  {
   "cell_type": "markdown",
   "metadata": {},
   "source": []
  }
 ],
 "metadata": {
  "kernelspec": {
   "display_name": "Python 3",
   "language": "python",
   "name": "python3"
  },
  "language_info": {
   "codemirror_mode": {
    "name": "ipython",
    "version": 3
   },
   "file_extension": ".py",
   "mimetype": "text/x-python",
   "name": "python",
   "nbconvert_exporter": "python",
   "pygments_lexer": "ipython3",
   "version": "3.7.3"
  }
 },
 "nbformat": 4,
 "nbformat_minor": 4
}
