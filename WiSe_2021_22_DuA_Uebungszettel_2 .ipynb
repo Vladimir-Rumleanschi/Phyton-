{
 "cells": [
  {
   "cell_type": "markdown",
   "metadata": {},
   "source": [
    "# Übungszettel Nr. 2 - Datenstrukturen und Algorithmen\n",
    "## WiSe2021/22"
   ]
  },
  {
   "cell_type": "markdown",
   "metadata": {},
   "source": [
    "**Hinweise**: Bitte reichen Sie Ihre Lösung zum Übungszettel unter Einhaltung der\n",
    "nachfolgenden Regeln ein! Bitte beachten Sie: Nur dann wird der Übungszettel\n",
    "geprüft, ansonsten gilt er als nicht abgegeben!\n",
    "1. Sie müssen Ihre Abgaben zu zweit abgeben\n",
    "2. Diese Übung können Sie als PDF oder Jupyternotebook abgeben. Für eine Abgabe in Jupyternotebook und in LATEX fomulierten Formeln erhalten Sie einen extra Bonuspunkt.\n",
    "Bitte reichen Sie genau eine Jupyter-Notebook oder eine PDF in einem ZIP-File mit den Lösungen pro Übungszettel ein. Bennenen Sie diese mit Ihrer LUH-ID (z.B. bsp-123). Verwenden Sie bei der Bennenung der Dateien keine Umlaute. Sollten Sie zu zweit abgeben, dann muss nur ein Teilnehmender die Datei hochladen. Tragen Sie auf Ihrer Abgabe beide Namen ein. **Bitte beachten Sie, dass bei dem ersten Übungsblatt beide Teilnehmende die selbe Lösung hochladen müssen damit wir die Gruppen richtig zuordnen können. (Lesen Sie sich die Hinweise zur Abgabe im Stud.IP durch!** )\n",
    "3. Tragen Sie sich im HCI-Abgabetool in die entsprechende Übungsgruppe, die sie besuchen möchten, ein.\n",
    "4. Sie laden Ihre Lösung bis zum nächsten Donnerstag Abend nach Ausgabe des Übungszettels, 23:59 Uhr, in dem HCI-Abgabetool unter der Veranstaltung Datenstrukturen und Algorithmen hoch.\n",
    "5. Erreichen Sie mehr als 66% der zu erreichenden Gesamtpunkte aller Übungszettel, so erhalten Sie einen 10% Bonus auf die erreichten Punkte in der Klausur.\n",
    "\n",
    "Link zum HCI-Abgabetool: https://assignments.hci.uni-hannover.de\n",
    "\n",
    "\n",
    "### Bohdan Bohdanchenko 10041121\n",
    "\n",
    "### Vladimir Rumelanschi 10037218"
   ]
  },
  {
   "cell_type": "markdown",
   "metadata": {},
   "source": [
    "### 1. Aufgabe  <div style=\"text-align: right\">(3 Punkte)</div>\n",
    "\n",
    "In dieser Aufgabe wird ein Algorithmus in Python dargestellt. "
   ]
  },
  {
   "cell_type": "code",
   "execution_count": 1,
   "metadata": {},
   "outputs": [],
   "source": [
    "from typing import List\n",
    "\n",
    "def Algorithm1(l: List[int]) -> List[int]:\n",
    "    for i in range(len(l)):\n",
    "        m = i\n",
    "        for j in range(i+1, len(l)):\n",
    "            if l[m] > l[j]:\n",
    "                m = j\n",
    "        if (m!=i):\n",
    "            tmp = l[i]\n",
    "            l[i] = l[m]\n",
    "            l[m] = tmp\n",
    "        print(f\"i:{i}, {l}\")\n",
    "    return l"
   ]
  },
  {
   "cell_type": "markdown",
   "metadata": {},
   "source": [
    "(a) Beschreiben Sie in einem Satz, was der Algorithmus mit der übergebenen Liste macht."
   ]
  },
  {
   "cell_type": "markdown",
   "metadata": {},
   "source": [
    "<b>Lösung</b>: Der Algorithm sortiert einen Array List auf die austeigende Weise."
   ]
  },
  {
   "cell_type": "markdown",
   "metadata": {},
   "source": [
    "(b) Sei l = [1, 6, 2, 1, 2, 1, 8, 4]. Der Algorithmus wird mit l aufgerufen. Geben Sie den Wert von die Liste l nach jeder Änderung der Liste an, sowie den Rückgabewert."
   ]
  },
  {
   "cell_type": "code",
   "execution_count": 18,
   "metadata": {},
   "outputs": [
    {
     "name": "stdout",
     "output_type": "stream",
     "text": [
      "i:0, [1, 6, 2, 1, 2, 1, 8, 4]\n",
      "i:1, [1, 1, 2, 6, 2, 1, 8, 4]\n",
      "i:2, [1, 1, 1, 6, 2, 2, 8, 4]\n",
      "i:3, [1, 1, 1, 2, 6, 2, 8, 4]\n",
      "i:4, [1, 1, 1, 2, 2, 6, 8, 4]\n",
      "i:5, [1, 1, 1, 2, 2, 4, 8, 6]\n",
      "i:6, [1, 1, 1, 2, 2, 4, 6, 8]\n",
      "i:7, [1, 1, 1, 2, 2, 4, 6, 8]\n",
      "Rückgabe: [1, 1, 1, 2, 2, 4, 6, 8]\n"
     ]
    }
   ],
   "source": [
    "print('Rückgabe: ' + str(Algorithm1([1, 6, 2, 1, 2, 1, 8, 4])))"
   ]
  },
  {
   "cell_type": "markdown",
   "metadata": {},
   "source": [
    "### 2. Aufgabe <div style=\"text-align: right\">(5 Punkte)</div>\n",
    "\n",
    "Schreiben Sie einen Algorithmus, dem eine Fließkommazahl als eine String-Variable übergeben wird und der erkennt, ob die Eingabe eine palindrome Fließkommazahl ist oder nicht. Eine Palindromzahl ist eine Zahl, die gleich bleibt, die Ziffern vor und nach dem Komma gespiegelt werden. Zum Beispiel sind \"145,541\" und \"321,123\" Palindromzahlen. Der Rückgabewert des Algorithmus sollte entsprechend True oder False sein.\n",
    "\n",
    "Verwenden Sie <b>genau einen Stack</b> für die Implementierung. \n",
    "Zur Manipulation ihrer Datenstruktur verwenden Sie bitte nur die Methoden <b>pop()</b> und <b>append()</b> von Pyhtonlisten, die einen Stack simulieren. Beschreiben Sie außerdem kurz, wie Ihr Algorithmus funktioniert!\n"
   ]
  },
  {
   "cell_type": "code",
   "execution_count": 3,
   "metadata": {},
   "outputs": [],
   "source": [
    "def Algorithm2(s: str) -> bool:\n",
    "    j = -1  # initialize variable to go in the reversed order of our stack\n",
    "    result = True  # initialize return parameter as true\n",
    "    stack = []  # initializing list as a stack\n",
    "    middle = False\n",
    "    for letter in s:\n",
    "        if middle:\n",
    "            # reached middle of the stack, so check if middle characters match\n",
    "            if letter != stack[j]:\n",
    "                result = False # characters don't match, so it's not a palindrome string\n",
    "                break  # no need to go through the rest of the string\n",
    "            j -= 2  # we go in the reversed direction from middle, while checking characters after the middle\n",
    "        stack.append(letter)  # add character to the stack\n",
    "        if letter == ',':\n",
    "            stack.pop(-1)  # excessive character for our implementation\n",
    "            middle = True  # set middle var to true\n",
    "    return result"
   ]
  },
  {
   "cell_type": "markdown",
   "metadata": {},
   "source": [
    "**Testfälle**"
   ]
  },
  {
   "cell_type": "code",
   "execution_count": 4,
   "metadata": {},
   "outputs": [
    {
     "name": "stdout",
     "output_type": "stream",
     "text": [
      "success\n"
     ]
    }
   ],
   "source": [
    "output = []\n",
    "for s in [\"12,21\", \"21,98\", \"12345,98765\", \"123,321\"]:\n",
    "    output.append(Algorithm2(s))\n",
    "if (output == [True, False, False, True]):\n",
    "    print(\"success\")"
   ]
  },
  {
   "cell_type": "markdown",
   "metadata": {},
   "source": [
    "### 3. Aufgabe  <div style=\"text-align: right\">(6 Punkte)</div>\n",
    "\n",
    "Schreiben Sie einen Algorithmus, der einen Text erhält in dem bestimmte Wörter mit # umschlossen sind. Der Algorithmus soll den Text ohne die mit #-umschlossenen Wörter und den #-Markierungen zurückgeben. Die Zusammengehörigkeit von 3-Symbolen ergibt sich von links nach rechts jeweils paarweise. Ds heißt bei drei #-Symbolen, die auf einander folgend text umschliessen, werden nur die ersten zwei #-Symbole und dessen Text entfernt. Bei der Dritten # wird nichts unternommen, da es keine Umschliessung mehr gibt.\\\n",
    "**Beispiel:**\\\n",
    "Eingabe: \"Der Code ist #wahrscheinlich# in #Python geschrieben\"\\\n",
    "Ausgabe: \"Der Code ist $\\;$ in #Python geschrieben\"\n",
    "\n",
    "\n",
    "Verwenden Sie <b>genau einen Stack</b> für die Implementierung. \n",
    "Zur Manipulation ihrer Datenstruktur verwenden Sie bitte nur die Methoden <b>pop()</b> und <b>append()</b> von Pyhtonlisten, die einen Stack simulieren. Beschreiben Sie außerdem kurz, wie Ihr Algorithmus funktioniert!"
   ]
  },
  {
   "cell_type": "code",
   "execution_count": 1,
   "metadata": {
    "tags": []
   },
   "outputs": [],
   "source": [
    "def Algorithm3(c: str) -> str:\n",
    "    output = []  # create an empty list (single stack)\n",
    "    i = 0   # variable for iterating within the stack\n",
    "    count = 0   # variable to count amount of '#'\n",
    "    for letter in c:\n",
    "        output.append(letter)   # add letter to stack\n",
    "        if letter == '#':   # found '#' character\n",
    "            count += 1  # count it in\n",
    "            if count == 1:\n",
    "                delete_start = i    # initialize lower range for deleting a letter\n",
    "        if count == 2:  # we counted two '#', so it's time to delete everything in between\n",
    "            delete_end = i + 1  # variable for upper bound of deletion range\n",
    "            for _ in range(delete_start, delete_end):\n",
    "                output.pop(-1)  # remove last element from the stack\n",
    "            count = 0   # reset '#' counter\n",
    "        i += 1  # our current stack iterator\n",
    "    output = ''.join(output)    # we have to output result as a string\n",
    "    return output"
   ]
  },
  {
   "cell_type": "markdown",
   "metadata": {},
   "source": [
    "**Testfälle**"
   ]
  },
  {
   "cell_type": "code",
   "execution_count": 5,
   "metadata": {
    "tags": []
   },
   "outputs": [
    {
     "name": "stdout",
     "output_type": "stream",
     "text": [
      "success\n",
      "success\n"
     ]
    }
   ],
   "source": [
    "if Algorithm3('Es ist #wahrscheinlich# in #Python geschrieben') == 'Es ist  in #Python geschrieben':\n",
    "    print(\"success\")\n",
    "else: print(Algorithm3('Es ist #wahrscheinlich# in #Python geschrieben'))\n",
    "if Algorithm3(\"vfcr#tch#g#f#\") == 'vfcrg':\n",
    "    print(\"success\")"
   ]
  },
  {
   "cell_type": "markdown",
   "metadata": {},
   "source": [
    "### 4. Aufgabe (Theoriefragen) <div style=\"text-align: right\">(6 Punkte)</div>\n",
    "Beantworten Sie folgende Fragen kurz und präzise in ganzen Sätzen.\n",
    "\n",
    "(a) Nennen Sie jeweils ein sinnvolles Anwendungsgebiet für Doppelt verkettete Listen und Arrays. (2 Punkte)\n",
    "\n",
    "Verkettete Listen geben die Möglichkeit bei der Arbeit mit dynamische Speicher schnell Elemente hinzufügen und zu löschen.\n",
    "Also bei einfügen oder rausnehmen eines String in der Liste.\n",
    "\n",
    "Bei der Arrays erleichtert die Verfahren bei der Datenzugriff, da die Anzahl der Elemnte und derren position ist bewusst.\n",
    "Also bei der Erstellung einer Matrize ist einfacher mit die Zahlen umzugehen. "
   ]
  },
  {
   "cell_type": "markdown",
   "metadata": {},
   "source": [
    "(b) Bewerten Sie folgende Aussagen mit \"Korrekt\" und \"Falsch\".\n",
    "\n",
    "I. Eine doppelt verkettete Liste benötigt weniger Speicher als eine einfach verkettete Liste.\n",
    "\n",
    "Falsch\n",
    "\n",
    "II. List ist eine **native** Datenstruktur in Python.\n",
    "\n",
    "Korrekt\n",
    "\n",
    "III. Bei einer doppelverketteten Liste ist das Einfügen eines Elementes an einer **erreichten Position** mit mehr Operationen verbunden als bei einer einfach verketteten Liste.\n",
    "\n",
    "Korrekt\n",
    "\n",
    "IV. Der erste Knoten einer einfachen verketteten Liste hat unabhängig von der Listenlänge immer einen Zeiger auf null. \n",
    "\n",
    "Falsch\n"
   ]
  }
 ],
 "metadata": {
  "kernelspec": {
   "display_name": "Python 3",
   "language": "python",
   "name": "python3"
  },
  "language_info": {
   "codemirror_mode": {
    "name": "ipython",
    "version": 3
   },
   "file_extension": ".py",
   "mimetype": "text/x-python",
   "name": "python",
   "nbconvert_exporter": "python",
   "pygments_lexer": "ipython3",
   "version": "3.8.8"
  }
 },
 "nbformat": 4,
 "nbformat_minor": 4
}
