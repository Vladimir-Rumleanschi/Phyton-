{
 "cells": [
  {
   "cell_type": "markdown",
   "metadata": {},
   "source": [
    "# Übungszettel Nr. 5 - Datenstrukturen und Algorithmen\n",
    "## WiSe2020/21"
   ]
  },
  {
   "cell_type": "markdown",
   "metadata": {},
   "source": [
    "**Hinweise**: Bitte reichen Sie Ihre Lösung zum Übungszettel unter Einhaltung der\n",
    "nachfolgenden Regeln ein! Bitte beachten Sie: Nur dann wird der Übungszettel\n",
    "geprüft, ansonsten gilt er als nicht abgegeben!\n",
    "1. Sie können ihre Abgaben auch zu zweit abgeben\n",
    "2. Sie reichen genau eine Jupyter-Notebook in einem ZIP-File mit den Lösungen pro Übungszettel ein. Bennenen Sie diese mit Ihrer LUH-ID (z.B. bsp-123). Verwenden Sie bei der Bennenung der Dateien keine Umlaute. Sollten Sie zu zweit abgeben, dann muss nur ein Teilnehmender die Datei hochladen. Tragen Sie auf Ihrer Abgabe beide Namen ein. Bitte beachten Sie, dass bei dem ersten Übungsblatt beide Teilnehmende die selbe Lösung hochladen. (Lesen Sie sich die Hinweise zur Abgabe im Stud.IP durch!)\n",
    "3. Tragen Sie sich im HCI-Abgabetool in die entsprechende Übungsgruppe, die sie besuchen möchten, ein.\n",
    "4. Sie laden Ihre Lösung bis zum nächsten Donnerstag Abend nach Ausgabe des Übungszettels, 23:59 Uhr, in dem HCI-Abgabetool unter der Veranstaltung Datenstrukturen und Algorithmen hoch.\n",
    "5. Erreichen Sie mehr als 66% der zu erreichenden Gesamtpunkte aller Übungszettel, so erhalten Sie einen 10% Bonus auf die erreichten Punkte in der Klausur.\n",
    "\n",
    "Link zum HCI-Abgabetool: https://assignments.hci.uni-hannover.de/"
   ]
  },
  {
   "cell_type": "markdown",
   "metadata": {},
   "source": [
    "# <font color ='red'> /20 Punkte</font>"
   ]
  },
  {
   "cell_type": "markdown",
   "metadata": {},
   "source": [
    "### 1. Aufgabe (Durchlaufen von Binärbäumen) <div style=\"text-align: right\">(2 Punkte)</div>\n",
    "\n",
    "Gegeben sind jeweils zwei Traversierungsstrategien für binäre Bäume. Beschreiben Sie für jedes Paar die Menge der Bäume, bei denen das Paar einen equivalenten Durchlauf haben wird,d.h. gleiche Ausgabe.\n",
    "\n",
    "**Hinweis:** Auch für Bäume mit k = 1 Knoten ist der linke und rechte Teilbaum definiert. Diese sind in diesem Fall dann leer.\n",
    "\n",
    "(a) Preorder- und Inorder-Durchlauf,"
   ]
  },
  {
   "cell_type": "markdown",
   "metadata": {},
   "source": [
    "**Lösung:** Beim Preorder-Durchlauf wird zuerst die Wurzel, dann der linke Teilbaum und schließlich der rechte Teilbaum bearbeitet (WLR) - beim Inorder-Durchlauf LWR. Die Durchläufe stimmen nur für binäre Bäume ohne linke\n",
    "Teilbäume überein. Graph nur zur Veranschaulichung:\n",
    "\n",
    "<img src=\"graph1a.png\" alt=\"drawing\" width=\"200\"/>\n",
    "\n",
    "(1 Punkt)"
   ]
  },
  {
   "cell_type": "markdown",
   "metadata": {},
   "source": [
    "(b) Inorder- und Postorder-Durchlauf,"
   ]
  },
  {
   "cell_type": "markdown",
   "metadata": {},
   "source": [
    "**Lösung:** Inorder-Durchlauf (LWR) / Postorder-Durchlauf (LRW): Analog zu 1.: nur binäre Bäume ohne rechte Teilbäume. Graph nur zur Veranschauli-\n",
    "chung:\n",
    "    \n",
    "<img src=\"graph1b.png\" alt=\"drawing\" width=\"200\"/>\n",
    "\n",
    "(1 Punkt)"
   ]
  },
  {
   "cell_type": "markdown",
   "metadata": {},
   "source": [
    "### 2. Aufgabe (Umwandlung von Bäumen) <div style=\"text-align: right\">(6 Punkte)</div>\n",
    "Wandeln Sie den angegebenen Baum nach dem Verfahren der Vorlesung in einen binären Baum um (bitte Zeichnung einfügen) und bestimmen Sie für den resultierenden Baum die Durchläufe nach Preorder-, Inorder- und Postorder-Durchlaufreihenfolge. Durchläufe können als Liste von Knoten representiert werden: Beispiel: <A,B,C> gibt an, dass zuerst Knoten A dann Knoten B und dann Knoten C gelesen wird.\n",
    "\n",
    "<img src=\"graph2.png\" alt=\"drawing\" width=\"400\"/>"
   ]
  },
  {
   "cell_type": "markdown",
   "metadata": {},
   "source": [
    "**Lösung:** Nach der Regel, das erste Kind zum linken Kind des binären Baums zu machen und den nächsten Geschwisterknoten zum rechten Kind des binären Baumes, erhält man:\n",
    "Binärbaum:\n",
    "\n",
    "<img src=\"binärbaum.png\" alt=\"drawing\" width=\"200\"/>\n",
    "\n",
    "Preorder-Durchlauf: < A B C E F D G H >\n",
    "Postorder-Durchlauf: < F E H G D C B A >\n",
    "Inorder-Durchlauf: < B E F C G H D A >\n",
    "Für den Graphen 3 Punkte, für jeden Durchlauf 1 Punkt. .\n",
    "(6 Punkte)"
   ]
  },
  {
   "cell_type": "markdown",
   "metadata": {},
   "source": [
    "### 3. Aufgabe (Ermittlung von Binärbäumen) <div style=\"text-align: right\">(6 Punkte)</div>\n",
    "\n",
    "Eine Preorder-Traversierung eines unbekannten Binärbaumes führt zur Ausgabe < E A S Y Q U E S T I O N >.\n",
    "(a) Geben Sie einen Binärbaum an (Zeichnung), der zu diesem Ergebnis führt!"
   ]
  },
  {
   "cell_type": "markdown",
   "metadata": {},
   "source": [
    "**Lösung:** \n",
    "\n",
    "<img src=\"graph3a.png\" alt=\"drawing\" width=\"400\"/>\n",
    "\n",
    "(2 Punkte)"
   ]
  },
  {
   "cell_type": "markdown",
   "metadata": {},
   "source": [
    "(b) Sind unterschiedliche Bäume möglich, die zu diesem Ergebnis führen? Falls ja, belegen Sie durch Zeichnen eines weiteren Beispiels. Falls nein, widerlegen Sie die Aussage."
   ]
  },
  {
   "cell_type": "markdown",
   "metadata": {},
   "source": [
    "**Lösung:** Hier als Beispiel nur ein Teil des Baumes, aber es ist direkt erkennbar, dass auch ein anderer Baum mit Pre-Order Durchlauf die gleiche Ausgabe erzeugt\n",
    "\n",
    "<img src=\"graph3b.png\" alt=\"drawing\" width=\"200\"/>\n",
    "\n",
    "(2 Punkte)"
   ]
  },
  {
   "cell_type": "markdown",
   "metadata": {},
   "source": [
    "c) Angenommen für alle Buchstaben gilt eine eine Lexicographische Ordnung. Welchen Baum würden Sie erhalten wenn Sie die Folge < E A S Y Q U E S T I O N > nach und nach in einem binären Suchbaum einfügen würden? Beachten Sie, dass jeder Schlüssel nur einmal auftauchen darf. Sie können Ihre Lösung als Bild einbinden oder eine Python Graphic-bibliothek wie graphviz nutzen. "
   ]
  },
  {
   "cell_type": "markdown",
   "metadata": {},
   "source": [
    "<img src=\"tree3c.png\" alt=\"drawing\" width=\"200\"/>\n",
    "(2 Punkte)"
   ]
  },
  {
   "cell_type": "markdown",
   "metadata": {},
   "source": []
  },
  {
   "cell_type": "code",
   "execution_count": null,
   "metadata": {},
   "outputs": [],
   "source": [
    "\n",
    "    \n",
    "    \n",
    "\n",
    "    "
   ]
  },
  {
   "cell_type": "markdown",
   "metadata": {},
   "source": [
    "### 4. Aufgabe (Richtig oder falsch) <div style=\"text-align: right\">(6 Punkte)</div>\n",
    "\n",
    "Welche der folgenden Aussagen sind richtig und welche falsch? Begründe Sie Ihre Antwort in einem Satz."
   ]
  },
  {
   "cell_type": "markdown",
   "metadata": {},
   "source": [
    "1. Bei vollständigen binären Bäumen ist die Höhe immer logarithmisch zur Anzahl der Knoten."
   ]
  },
  {
   "cell_type": "markdown",
   "metadata": {},
   "source": [
    "2. AVL-Bäume sind eine Generalisierung von binären Bäumen."
   ]
  },
  {
   "cell_type": "markdown",
   "metadata": {},
   "source": [
    "3. Alle B-Bäume sind balancierte binäre Bäume. "
   ]
  },
  {
   "cell_type": "markdown",
   "metadata": {},
   "source": [
    "4. Behauptung: Der Speicheraufwand bei der Preorder-Traversierung ist $O(n)$ bei n Knoten."
   ]
  },
  {
   "cell_type": "markdown",
   "metadata": {},
   "source": [
    "5. Zur effektiven Traversierung eines binären Baumes reicht die Operationsmenge eines Stacks als Zwischenspeicher aus."
   ]
  },
  {
   "cell_type": "markdown",
   "metadata": {},
   "source": [
    "6. Der Balancefactor eines AVL-Baum-Knotens kann nie vor einer Rebalancierung einen Betrag größer als 2 aufweisen, nachdem ein Knoten gelöscht wurde. \n"
   ]
  },
  {
   "cell_type": "markdown",
   "metadata": {},
   "source": [
    "**Lösung:** Wahr, Falsch, Falsch, Wahr, Wahr, Wahr"
   ]
  },
  {
   "cell_type": "code",
   "execution_count": null,
   "metadata": {},
   "outputs": [],
   "source": []
  }
 ],
 "metadata": {
  "kernelspec": {
   "display_name": "Python 3",
   "language": "python",
   "name": "python3"
  },
  "language_info": {
   "codemirror_mode": {
    "name": "ipython",
    "version": 3
   },
   "file_extension": ".py",
   "mimetype": "text/x-python",
   "name": "python",
   "nbconvert_exporter": "python",
   "pygments_lexer": "ipython3",
   "version": "3.8.8"
  }
 },
 "nbformat": 4,
 "nbformat_minor": 4
}
