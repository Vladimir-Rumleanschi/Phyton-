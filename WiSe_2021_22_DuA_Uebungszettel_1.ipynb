{
 "cells": [
  {
   "cell_type": "markdown",
   "id": "25fd8859",
   "metadata": {},
   "source": [
    "# Übungszettel Nr. 1 - Datenstrukturen und Algorithmen\n",
    "## WiSe2021/22"
   ]
  },
  {
   "cell_type": "markdown",
   "id": "829259d6",
   "metadata": {},
   "source": [
    "**Hinweise**: Bitte reichen Sie Ihre Lösung zum Übungszettel unter Einhaltung der\n",
    "nachfolgenden Regeln ein! Bitte beachten Sie: Nur dann wird der Übungszettel\n",
    "geprüft, ansonsten gilt er als nicht abgegeben!\n",
    "1. Sie müssen Ihre Abgaben zu zweit abgeben\n",
    "2. Diese Übung können Sie als PDF oder Jupyternotebook abgeben. Für eine Abgabe in Jupyternotebook und in LATEX fomulierten Formeln erhalten Sie einen extra Bonuspunkt.\n",
    "Bitte reichen Sie genau eine Jupyter-Notebook oder eine PDF in einem ZIP-File mit den Lösungen pro Übungszettel ein. Bennenen Sie diese mit Ihrer LUH-ID (z.B. bsp-123). Verwenden Sie bei der Bennenung der Dateien keine Umlaute. Sollten Sie zu zweit abgeben, dann muss nur ein Teilnehmender die Datei hochladen. Tragen Sie auf Ihrer Abgabe beide Namen ein. **Bitte beachten Sie, dass bei dem ersten Übungsblatt beide Teilnehmende die selbe Lösung hochladen müssen damit wir die Gruppen richtig zuordnen können. (Lesen Sie sich die Hinweise zur Abgabe im Stud.IP durch!** )\n",
    "3. Tragen Sie sich im HCI-Abgabetool in die entsprechende Übungsgruppe, die sie besuchen möchten, ein.\n",
    "4. Sie laden Ihre Lösung bis zum nächsten Donnerstag Abend nach Ausgabe des Übungszettels, 23:59 Uhr, in dem HCI-Abgabetool unter der Veranstaltung Datenstrukturen und Algorithmen hoch.\n",
    "5. Erreichen Sie mehr als 66% der zu erreichenden Gesamtpunkte aller Übungszettel, so erhalten Sie einen 10% Bonus auf die erreichten Punkte in der Klausur.\n",
    "\n",
    "Link zum HCI-Abgabetool: https://assignments.hci.uni-hannover.de"
   ]
  },
  {
   "cell_type": "markdown",
   "id": "7bfb2921-17b7-40b7-9c7b-f2d992742813",
   "metadata": {},
   "source": [
    "### Bohdan Bohdanchenko 10041121\n",
    "\n",
    "### Vladimir Rumelanschi 10037218"
   ]
  },
  {
   "cell_type": "raw",
   "id": "2b940d6a-646c-46e3-b363-489badf25b9b",
   "metadata": {},
   "source": [
    "### 1. Aufgabe ($\\mathcal{O}$-Notation) <div style=\"text-align: right\">(5 Punkte)</div>\n",
    "\n",
    "Widerlegen oder beweisen Sie folgende Aussagen anhand der Definitionen aus der Vorlesung.\n",
    "1. $10^{1000} n \\in \\mathcal{O} (n)$\n",
    "\n",
    "    $\\lim_{n \\to \\infty} \\frac{10^{1000}}{n} = 10^{1000} < \\infty$ , deswegen gilt diese Aussage.\n",
    "    \n",
    "2. $n.log_2 (n) ∈ \\mathcal{O} (\\sqrt{n})$\n",
    "    \n",
    "    $\\lim_{n \\to \\infty} \\frac{n.log_2 (n)}{\\sqrt{n}} = \\infty$ , deshalb gilt diese Aussage nicht.\n",
    "\n",
    "3. $3^n ∈ \\mathcal{O} (n^2)$\n",
    "\n",
    "     $\\lim_{n \\to \\infty} \\frac{3^n}{n^2} = \\infty$ , Deshalb gilt diese Aussage nicht.\n",
    "4. $4^n.log_2(n) ∈ 3^{\\mathcal{O} (n)}$\n",
    "    \n",
    "    $3^{\\mathcal{O} (n)} = 3 ^{c · n}$\n",
    "    \n",
    "    $\\lim_{n \\to \\infty} \\frac{4^n}{3^{3c·n}} = \\lim_{n \\to \\infty} (\\frac{4}{3c})^n = 0$\n",
    "    $\\Rightarrow $ diese Aussage gilt für $c \\geq 1$\n",
    "    \n",
    "    Aber für $c < 1$ wächst unsere Funktion unendlich, deswegen gilt die Aussage nicht.\n",
    "    \n",
    "5. $n^{3} ∈ \\mathcal{O} (n^2 · log_2 (n))$\n",
    "\n",
    "     $\\lim_{n \\to \\infty} \\frac{n^{3}}{(n^2 · log_2 (n))}= \\lim_{n \\to \\infty} \\frac{n}{log_2 (n)} = $ (Satz von Hospital)  $\\lim_{n \\to \\infty} \\frac{1}{\\frac{1}{n ·log{(2)}}} =  \\lim_{n \\to \\infty} n · log(2) = \\infty$, deshalb gilt diese Aussage nicht.\n"
   ]
  },
  {
   "cell_type": "raw",
   "id": "105128d0-b551-4d82-8803-8444be6791cf",
   "metadata": {},
   "source": [
    "### 2. Aufgabe(Laufzeitkomplexität) <div style=\"text-align: right\">(3 Punkte)</div>\n",
    "\n",
    "Widerlegen oder beweisen Sie folgende Aussagen anhand der Definitionen aus der Vorlesung.\n",
    "1. Für $f(n) = 10^{60}.n^3 + 7n^2 + 12n$ gilt: $f(n) ∈ \\mathcal{O}(n^3)$\n",
    "\n",
    "    $10^{60} · n^3 ∈ n^3$\n",
    "    \n",
    "    $\\lim_{n \\to \\infty} \\frac{10^{60} · n^3}{n^3} = 10^{60} < \\infty$, deswegen gilt diese Aussage.\n",
    "2. Für $f(n) = n^2 + log_2(n)$ gilt: $f(n) ∈ \\mathcal{O}(n^2log_2(n))$\n",
    "\n",
    "     $\\lim_{n \\to \\infty} \\frac{n^2 + log_2(n)}{n^2log_2(n)} = 0 \\Rightarrow$ diese Aussage gilt.\n",
    "3. Für $f(n) = 2^n . 3^n$ gilt: $f(n) ∈ \\mathcal{O} (5^n )$\n",
    "\n",
    "     $\\lim_{n \\to \\infty} \\frac{2^n . 3^n}{5^n} = \\lim_{n \\to \\infty} \\frac{5^n}{5^n} = 1 \\Rightarrow$ diese Aussage gilt."
   ]
  },
  {
   "cell_type": "markdown",
   "id": "8ccf809d",
   "metadata": {},
   "source": [
    "### 3. Aufgabe (Zuordnung) <div style=\"text-align: right\">(6 Punkte)</div>\n",
    "Geben Sie zu jeder der folgenden Funktionen die kleinste Komplexitätsklasse für die obere Schranke an und ordnen Sie diese nach asymptotischem Wachstum.\n",
    "\n",
    "1. $n^2(log_2 (n)) + \\frac{7}{n}$ $∈ \\mathcal{O} (n^2log_2(n))$\n",
    "2. $\\frac{n}{2} + log_2 (n)$ $∈ \\mathcal{O} (n)$\n",
    "3. $2n^2 + e^{ln(n^4)} + 6n^3$ $∈ \\mathcal{O} (n^3)$\n",
    "4. $n! + 7.3^n$ $∈ \\mathcal{O} (n!)$\n",
    "5. $\\sqrt{4^n} + 8n^2$ $∈ \\mathcal{O} (2^n)$\n",
    "\n",
    "    $\\sqrt{4^n} = 2^n$\n",
    "\n",
    "Reihenfolge: 4 < 5 < 2 < 1"
   ]
  },
  {
   "cell_type": "markdown",
   "id": "afa8488d",
   "metadata": {},
   "source": [
    "### 4. Aufgabe (Ω-Notation) <div style=\"text-align: right\">(5 Punkte)</div>\n",
    "Widerlegen oder beweisen Sie folgende Aussagen anhand der Definitionen aus der Vorlesung.\n",
    "1. $n+nlog_2(n) ∈ Ω(n^2)$\n",
    "\n",
    "    $\\lim_{n \\to \\infty} \\frac{n + n · log_2 (n)}{n^2} = \\lim_{n \\to \\infty} \\frac{n ·( 1 + log_2 (n))}{n^2} = \\lim_{n \\to \\infty} \\frac{ 1 + log_2 (n)}{n} = 0 \\Rightarrow $ Die Aussage gilt nicht.\n",
    "2. $2^n ∈ n^{Ω(n)}$\n",
    "\n",
    "     $\\lim_{n \\to \\infty} \\frac{2^n}{n^{c * n}} = 0 \\Rightarrow $ Die Aussage gilt nicht.\n",
    "3. $n^3 ∈ Ω(3^n)$\n",
    "\n",
    "    $\\lim_{n \\to \\infty} \\frac{n^3}{3^n} = 0 \\Rightarrow $ Die Aussage gilt nicht.\n",
    "4. $\\sqrt{nlog_2(n)} ∈ Ω(log_2(n))$\n",
    "\n",
    "    $\\lim_{n \\to \\infty} \\frac{\\sqrt{nlog_2(n)}}{log_2(n)} = \\lim_{n \\to \\infty} \\frac{\\sqrt{n} · \\sqrt{log_2(n)}}{log_2(n)}  = \\infty \\Rightarrow $ Die Aussage gilt .\n",
    "5. $2n + 1 ∈ Ω(log_2 (n))$\n",
    "\n",
    "    $\\lim_{n \\to \\infty} \\frac{2n + 1}{(log_2 (n))}=  Satz von Hospital  \\lim_{n \\to \\infty} \\frac{2}{\\frac{1}{n ·ln{(2)}}} =  \\lim_{n \\to \\infty} 2 · n · log(2) = \\infty \\Rightarrow $ deshalb gilt die Aussage ."
   ]
  },
  {
   "cell_type": "code",
   "execution_count": null,
   "id": "da846bf0-eecf-4a7f-9aab-95e11555651a",
   "metadata": {},
   "outputs": [],
   "source": []
  }
 ],
 "metadata": {
  "kernelspec": {
   "display_name": "Python 3",
   "language": "python",
   "name": "python3"
  },
  "language_info": {
   "codemirror_mode": {
    "name": "ipython",
    "version": 3
   },
   "file_extension": ".py",
   "mimetype": "text/x-python",
   "name": "python",
   "nbconvert_exporter": "python",
   "pygments_lexer": "ipython3",
   "version": "3.8.8"
  }
 },
 "nbformat": 4,
 "nbformat_minor": 5
}
