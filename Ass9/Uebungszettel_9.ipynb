{
 "cells": [
  {
   "cell_type": "markdown",
   "metadata": {},
   "source": [
    "# Übungszettel Nr. 9 - Datenstrukturen und Algorithmen\n",
    "## WiSe2021/22"
   ]
  },
  {
   "cell_type": "markdown",
   "metadata": {},
   "source": [
    "**Hinweise**: Bitte reichen Sie Ihre Lösung zum Übungszettel unter Einhaltung der\n",
    "nachfolgenden Regeln ein! Bitte beachten Sie: Nur dann wird der Übungszettel\n",
    "geprüft, ansonsten gilt er als nicht abgegeben!\n",
    "1. Sie müssen ihre Abgaben auch zu zweit abgeben.\n",
    "2. Sie reichen **genau eine Jupyter-Notebook** in einem ZIP-File mit den Lösungen pro Übungszettel ein. Bennenen Sie diese mit Ihrer LUH-ID (z.B. bsp-123). Verwenden Sie bei der Bennenung der Dateien keine Umlaute. Sollten Sie zu zweit abgeben, dann muss nur ein Teilnehmender die Datei hochladen. Tragen Sie auf Ihrer Abgabe beide Namen ein. Bitte beachten Sie, dass bei dem ersten Übungsblatt beide Teilnehmende die selbe Lösung hochladen. (Lesen Sie sich die Hinweise zur Abgabe im Stud.IP durch!)\n",
    "3. Tragen Sie sich im HCI-Abgabetool in die entsprechende Übungsgruppe, die sie besuchen möchten, ein.\n",
    "4. Sie laden Ihre Lösung bis zum **ersten Donnerstagabend nach der Weihnachtspause (13. Januar), 23:59 Uhr**, in dem HCI-Abgabetool unter der Veranstaltung Datenstrukturen und Algorithmen hoch.\n",
    "5. Erreichen Sie mehr als 66% der zu erreichenden Gesamtpunkte aller Übungszettel, so erhalten Sie einen 10% Bonus auf die erreichten Punkte in der Klausur.\n",
    "\n",
    "Link zum HCI-Abgabetool: https://assignments.hci.uni-hannover.de/"
   ]
  },
  {
   "cell_type": "markdown",
   "metadata": {},
   "source": [
    "### Bohdan Bohdanchenko 10041121\n",
    "\n",
    "### Vladimir Rumelanschi 10037218"
   ]
  },
  {
   "cell_type": "markdown",
   "metadata": {
    "tags": []
   },
   "source": [
    "\n",
    "### 1. Aufgabe (Theoretische Fragen) <div style=\"text-align: right\">(4 Punkte)</div>\n",
    "\n",
    "a) Beantworten Sie die folgenden Fragen mit wahr oder falsch und erläutern Sie kurz Ihre Entscheidung.\n",
    "\n",
    "I) Greedy-Algorithmen haben im Allgemeinen eine kleinere Speicherkomplexität als dynamische Programmierungs-Algorithmen.<br>\n",
    "II) Bei der dynamischen Programmierung sind die Subprobleme unabhängig von den anderen Subproblemen.\n",
    "\n",
    "b) Angenommen, ein Restaurant möchte planen, wie die Bestellungen der Kunden bearbeitet werden sollen, um bis zu einem bestimmten Termin den maximalen Gewinn zu erzielen. Die Bestellungen haben die gleiche Bearbeitungszeit und unterschiedliche Gewinne. Welche Algorithmusentwurfsmethode würden Sie für diese Planung vorschlagen? Begründen Sie.\n"
   ]
  },
  {
   "cell_type": "markdown",
   "metadata": {},
   "source": [
    "a)\n",
    "\n",
    "(I)\n",
    "Wahr - Da bei der Greedy-Algorithmen wird eine Entscheidung getroffen basierend nur auf der aktuallen Zeitpunkt und bei der dynamische        Programmierungs-Algorithmen wird die Anderen Ergebnisse des Durchlauchs auch im Blick genommen, kann man beurteilen, dass Greedy-Algorithmen haben im Allgemeinen eine kleinere Speicherkomplexität als dynamische Programmierungs-Algorithmen.\n",
    "\n",
    "(II)\n",
    "Falsch - Da bei der Durchlauf der dynamische Programmierungs-Algorithmen werden die Lösung inzwischen gespeichert und am Ende geprüft was der optimale Lösung ist.\n",
    "\n",
    "b)\n",
    "  Man soll für die Entwicklung des Programms Greedy-Algorithmus benutzen, da man soll zuerst die Bestellungen mit höheren Gewinnen auswählen um den maximalen Gewinn zu erzielen. Dannach kann man sich über die anderen Bestellungen kümmern. Andere Möglichkeit wäre Priority-Queue, da man Gewinne als Priorität einsetzt."
   ]
  },
  {
   "cell_type": "markdown",
   "metadata": {},
   "source": [
    "\n",
    "\n",
    "### 2. Aufgabe (Algorithmen) <div style=\"text-align: right\">(6 Punkte)</div>\n",
    "\n",
    "Entwickeln Sie einen Algorithmus, der den **größten gemeinsamen Teiler** aller Zahlen einer Liste berechnet. Geben Sie die **schrittweise Verfeinerung** an, wie sie in der Vorlesung beschrieben wird. Beginnen Sie sehr abstrakt und verfeinern Sie in zwei oder weiteren Schritte Ihren Algorithmus zu Python-code. Geben Sie die **Speicherplatz- und Laufzeitkomplexität** Ihres Algorithmus an. \n",
    "\n",
    "**Hinweise:**\n",
    "\n",
    "1. Bitte kommentieren Sie Ihren Code, damit die Tutoren Ihre Lösung besser bewerten können.\n",
    "2. Es ist erlaubt und sinnvoll, Hilfsmethoden zu schreiben.\n"
   ]
  },
  {
   "cell_type": "code",
   "execution_count": 1,
   "metadata": {},
   "outputs": [],
   "source": [
    "#schrittweise Verfeinerung\n",
    "#Algorithmusentwurf\n",
    "#Allgemeine Schritte:\n",
    "    #Liste eingeben\n",
    "    #größten gemeinsamen Teiler bekommen\n",
    "#Verfeinerung\n",
    "    #Liste eingeben\n",
    "    #kleinste zahl rausfinden\n",
    "    #alle Zahlen rausfinden( die kleinste Zahl teilen)*\n",
    "    #suchen größten gemeinsamen Teiler in Zahlen*  \n",
    "    #größten gemeinsamen Teiler printen"
   ]
  },
  {
   "cell_type": "code",
   "execution_count": 37,
   "metadata": {},
   "outputs": [
    {
     "name": "stdout",
     "output_type": "stream",
     "text": [
      "2\n"
     ]
    }
   ],
   "source": [
    "#Liste eingeben\n",
    "l = [2, 4, 6, 8, 16]\n",
    "\n",
    "#kleinste zahl rausfinden\n",
    "def findBNr(l):\n",
    "    sNr = l[0]\n",
    "    for i in l:\n",
    "        if i < sNr:\n",
    "            sNr = i\n",
    "    return sNr\n",
    "\n",
    "#alle Zahlen rausfinden, die kleinste Zahl teilen\n",
    "def d_for_SNr(sNr):\n",
    "    dSNr = []\n",
    "    i = sNr\n",
    "    while i != 0:\n",
    "        if sNr % i == 0:\n",
    "            dSNr.append(i)\n",
    "        i = i - 1\n",
    "    return dSNr\n",
    "\n",
    "#suchen größten gemeinsamen Teiler in Zahlen*  \n",
    "def findGCD(l,dSNr):\n",
    "    for i in dSNr:\n",
    "        count = 0\n",
    "        for j in l:\n",
    "            if j % i == 0:\n",
    "                count = count  +  1\n",
    "        if count == len(l):\n",
    "            return i\n",
    "    return - 1\n",
    "\n",
    "\n",
    "def gcd_of_list(l):\n",
    "    sNr = findBNr(l)\n",
    "    dSNr = d_for_SNr(sNr)\n",
    "    return findGCD(l,dSNr)\n",
    "\n",
    "#größten gemeinsamen Teiler printen\n",
    "print(gcd_of_list(l))\n"
   ]
  },
  {
   "cell_type": "markdown",
   "metadata": {},
   "source": [
    "2. \n",
    "\n",
    "\n",
    "   Speicherkomplexität: $\\mathcal{O} (n)$\n",
    "\n",
    "\n",
    "   Laufzeitkomplexität: $\\mathcal{O} (n^2 + 2*n )$ "
   ]
  },
  {
   "cell_type": "markdown",
   "metadata": {},
   "source": [
    "### 3. Aufgabe (Weihnachtsmann-Knapsack) <div style=\"text-align: right\">(10 Punkte)</div>\n",
    "\n",
    "Angenommen, der Weihnachtsmann hat einen Knapsack mit einem Fassungsvermögen von 5 kg und möchte ihn mit den folgenden Gegenständen füllen, um einen maximalen Gewinn zu erzielen. \n",
    "\n",
    "\n",
    "a) Verwenden Sie einen Greedy-Algorithmus und versuchen Sie, die Aufgabe zu lösen. Sie sollten die Greedy-Methode zweimal durchführen. Zuerst betrachten Sie den absoluten Wert (Value) eines Objektes für die Bewertung der Auswahl. Beim zweiten Mal betrachten Sie den durch das Gewicht normalisierten Wert (Value/Weight) in jedem Schritt. Geben Sie die Namen der Objekte und den Gesamtwert sowie die einzelnen Schritte Ihres Algorithmus an. "
   ]
  },
  {
   "cell_type": "markdown",
   "metadata": {},
   "source": [
    "b) Lösen Sie das Problem mit dem Ansatz der dynamischen Programmierung. Mit diesem Ansatz wollen wir den maximal erreichbaren Wert ermitteln. Geben Sie die Restkapazitätsmatrix an und schreiben Sie die finale Liste der Gegenstände und den Gesamtwert auf. "
   ]
  },
  {
   "cell_type": "markdown",
   "metadata": {},
   "source": [
    "**Hinweise:**\n",
    "\n",
    "1. Sie müssen keine Algorithmen implementieren.\n",
    "2. Sie können nicht nur einen Anteil eines Gegenstandes in Ihrer Lösung auswählen.\n"
   ]
  },
  {
   "cell_type": "code",
   "execution_count": 5,
   "metadata": {},
   "outputs": [
    {
     "data": {
      "text/html": [
       "<div>\n",
       "<style scoped>\n",
       "    .dataframe tbody tr th:only-of-type {\n",
       "        vertical-align: middle;\n",
       "    }\n",
       "\n",
       "    .dataframe tbody tr th {\n",
       "        vertical-align: top;\n",
       "    }\n",
       "\n",
       "    .dataframe thead th {\n",
       "        text-align: right;\n",
       "    }\n",
       "</style>\n",
       "<table border=\"1\" class=\"dataframe\">\n",
       "  <thead>\n",
       "    <tr style=\"text-align: right;\">\n",
       "      <th></th>\n",
       "      <th>Object</th>\n",
       "      <th>Value</th>\n",
       "      <th>Weight</th>\n",
       "    </tr>\n",
       "  </thead>\n",
       "  <tbody>\n",
       "    <tr>\n",
       "      <th>0</th>\n",
       "      <td>Lokomotive</td>\n",
       "      <td>50</td>\n",
       "      <td>3</td>\n",
       "    </tr>\n",
       "    <tr>\n",
       "      <th>1</th>\n",
       "      <td>Eldenring PS5</td>\n",
       "      <td>20</td>\n",
       "      <td>1</td>\n",
       "    </tr>\n",
       "    <tr>\n",
       "      <th>2</th>\n",
       "      <td>Amazon Gutschein 28 Euro</td>\n",
       "      <td>28</td>\n",
       "      <td>1</td>\n",
       "    </tr>\n",
       "    <tr>\n",
       "      <th>3</th>\n",
       "      <td>Volleyball</td>\n",
       "      <td>6</td>\n",
       "      <td>5</td>\n",
       "    </tr>\n",
       "    <tr>\n",
       "      <th>4</th>\n",
       "      <td>Schlittschuhe</td>\n",
       "      <td>30</td>\n",
       "      <td>2</td>\n",
       "    </tr>\n",
       "    <tr>\n",
       "      <th>5</th>\n",
       "      <td>Hoola Hoop Reifen</td>\n",
       "      <td>13</td>\n",
       "      <td>1</td>\n",
       "    </tr>\n",
       "  </tbody>\n",
       "</table>\n",
       "</div>"
      ],
      "text/plain": [
       "                     Object  Value  Weight\n",
       "0                Lokomotive     50       3\n",
       "1             Eldenring PS5     20       1\n",
       "2  Amazon Gutschein 28 Euro     28       1\n",
       "3                Volleyball      6       5\n",
       "4             Schlittschuhe     30       2\n",
       "5         Hoola Hoop Reifen     13       1"
      ]
     },
     "execution_count": 5,
     "metadata": {},
     "output_type": "execute_result"
    }
   ],
   "source": [
    "import pandas as pd\n",
    "\n",
    "data = {'Object':['Lokomotive', 'Eldenring PS5', 'Amazon Gutschein 28 Euro', 'Volleyball', 'Schlittschuhe', 'Hoola Hoop Reifen'],\n",
    "        'Value':[50, 20, 28, 6, 30, 13],\n",
    "        'Weight':[3, 1, 1, 5, 2, 1]}\n",
    "df = pd.DataFrame(data)\n",
    "df"
   ]
  },
  {
   "cell_type": "markdown",
   "metadata": {},
   "source": [
    "a)  Greedy-Algorithmus nach Value:\n",
    "\n",
    "        Lokomtive      3 50\n",
    "        Schlittschuhe  2 30\n",
    "                       5 80\n",
    "     \n",
    "    Greedy-Algorithmus nach Weight:\n",
    "     \n",
    "        Amazon Gutschein 28 Euro 1 28\n",
    "        Eldenring PS5\t         1 20\n",
    "        Schlittschuhe            2 30\n",
    "        Hoola Hoop Reifen        1 13\n",
    "                                 5 91\n",
    "                                 \n",
    "b) Dynamischen Programmierung\n",
    "\n",
    "                                    0    1    2    3    4    5\n",
    "        0\tLokomotive\t            0    0    0   50   50   50\n",
    "        1\tEldenring PS5\t        0   20   20   50   70   70\n",
    "        2\tAmazon Gutschein        0   28   48   50   78   98\n",
    "        3\tVolleyball\t            0   28   48   50   78   98\n",
    "        4\tSchlittschuhe\t        0   28   48   58   78   98\n",
    "        5\tHoola Hoop Reifen\t    0   28   48   58   78   98\n",
    "        \n",
    "        Also aus der Restkapazitätsmatrix kann man ableiten, dass den maximal erreichbaren Wert ist 98 mit der folgende Kombination:\n",
    "            Lokomtive                 3 50\n",
    "            Eldenring PS5             1 20\n",
    "            Amazon Gutschein 28 Euro  1 28\n",
    "                                      5 98\n",
    "            \n",
    "   "
   ]
  },
  {
   "cell_type": "markdown",
   "metadata": {},
   "source": [
    "### 4. Aufgabe (Komplexität von Algorithmen-Weihnachtsbonus-Aufgabe) <div style=\"text-align: right\">(5 Punkte)</div>\n",
    "\n",
    "Geben Sie die Laufzeitkomplexität jeder der folgenden Aussagen an. Begründen Sie kurz. "
   ]
  },
  {
   "cell_type": "markdown",
   "metadata": {},
   "source": [
    "a) (2 Punkte)"
   ]
  },
  {
   "cell_type": "code",
   "execution_count": null,
   "metadata": {},
   "outputs": [],
   "source": [
    "i = 1\n",
    "j = 0\n",
    "while (j<=n):\n",
    "    j=j+i\n",
    "    i+=1\n",
    "    print(i)"
   ]
  },
  {
   "cell_type": "markdown",
   "metadata": {},
   "source": [
    " Laufzeitkomplexität:  $\\mathcal{O}(log(log(n)))$ "
   ]
  },
  {
   "cell_type": "markdown",
   "metadata": {},
   "source": [
    "b) (2 Punkte)"
   ]
  },
  {
   "cell_type": "code",
   "execution_count": null,
   "metadata": {},
   "outputs": [],
   "source": [
    "i = 1\n",
    "j = 1\n",
    "k = 0\n",
    "while i < n:\n",
    "    i *= 2\n",
    "    k += 1\n",
    "while j< k:\n",
    "    j *= 2\n",
    "    print(j)"
   ]
  },
  {
   "cell_type": "markdown",
   "metadata": {},
   "source": [
    " Laufzeitkomplexität: $\\mathcal{O}(2*log_2 (n))$ "
   ]
  },
  {
   "cell_type": "markdown",
   "metadata": {},
   "source": [
    "c) (1 Punkt)"
   ]
  },
  {
   "cell_type": "code",
   "execution_count": null,
   "metadata": {},
   "outputs": [],
   "source": [
    "i = 0\n",
    "while(i < n):\n",
    "    i += 200 \n",
    "    print(i)"
   ]
  },
  {
   "cell_type": "markdown",
   "metadata": {},
   "source": [
    " Laufzeitkomplexität: $\\mathcal{O} (n)$ "
   ]
  },
  {
   "cell_type": "markdown",
   "metadata": {},
   "source": [
    "**Frohe Weihnachten :)**"
   ]
  }
 ],
 "metadata": {
  "kernelspec": {
   "display_name": "Python 3",
   "language": "python",
   "name": "python3"
  },
  "language_info": {
   "codemirror_mode": {
    "name": "ipython",
    "version": 3
   },
   "file_extension": ".py",
   "mimetype": "text/x-python",
   "name": "python",
   "nbconvert_exporter": "python",
   "pygments_lexer": "ipython3",
   "version": "3.8.8"
  }
 },
 "nbformat": 4,
 "nbformat_minor": 4
}
