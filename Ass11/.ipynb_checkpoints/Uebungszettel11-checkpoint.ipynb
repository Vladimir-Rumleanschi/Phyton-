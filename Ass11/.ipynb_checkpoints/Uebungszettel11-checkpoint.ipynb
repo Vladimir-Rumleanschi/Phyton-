{
 "cells": [
  {
   "cell_type": "markdown",
   "metadata": {},
   "source": [
    "# Übungszettel Nr. 11 - Datenstrukturen und Algorithmen\n",
    "## WiSe2021/22"
   ]
  },
  {
   "cell_type": "markdown",
   "metadata": {},
   "source": [
    "**Hinweise**: Bitte reichen Sie Ihre Lösung zum Übungszettel unter Einhaltung der\n",
    "nachfolgenden Regeln ein! Bitte beachten Sie: Nur dann wird der Übungszettel\n",
    "geprüft, ansonsten gilt er als nicht abgegeben!\n",
    "1. Sie müssen ihre Abgaben auch zu zweit abgeben\n",
    "2. Sie reichen genau eine Jupyter-Notebook in einem ZIP-File mit den Lösungen pro Übungszettel ein. Bennenen Sie diese mit Ihrer LUH-ID (z.B. bsp-123). Verwenden Sie bei der Bennenung der Dateien keine Umlaute. Sollten Sie zu zweit abgeben, dann muss nur ein Teilnehmender die Datei hochladen. Tragen Sie auf Ihrer Abgabe beide Namen ein. Bitte beachten Sie, dass bei dem ersten Übungsblatt beide Teilnehmende die selbe Lösung hochladen. (Lesen Sie sich die Hinweise zur Abgabe im Stud.IP durch!)\n",
    "3. Tragen Sie sich im HCI-Abgabetool in die entsprechende Übungsgruppe, die sie besuchen möchten, ein.\n",
    "4. Sie laden Ihre Lösung bis zum nächsten Donnerstag Abend nach Ausgabe des Übungszettels, 23:59 Uhr, in dem HCI-Abgabetool unter der Veranstaltung Datenstrukturen und Algorithmen hoch.\n",
    "5. Erreichen Sie mehr als 66% der zu erreichenden Gesamtpunkte aller Übungszettel, so erhalten Sie einen 10% Bonus auf die erreichten Punkte in der Klausur.\n",
    "\n",
    "Link zum HCI-Abgabetool: https://assignments.hci.uni-hannover.de/"
   ]
  },
  {
   "cell_type": "markdown",
   "metadata": {},
   "source": [
    "### 1. Aufgabe (Wahre und falsche Aussagen) <div style=\"text-align: right\">(4 Punkte)</div>\n"
   ]
  },
  {
   "cell_type": "markdown",
   "metadata": {},
   "source": [
    "Geben Sie für die folgenden Aussagen an, ob diese wahr oder falsch sind. Für manche müssen Sie eventuell eine Suche im Netz durchführen. Begründen Sie kurz Ihre Entscheidung."
   ]
  },
  {
   "cell_type": "markdown",
   "metadata": {},
   "source": [
    "I. Das Entfernen eines Elements aus einer Hashtabelle und das Finden eines Elementes haben immer die gleiche Zeitkomplexität.\\\n",
    "II. Bei der Bloom-Filter-Methode ist es wahrscheinlich, dass es zu falsch-negativen Ergebnissen kommt.\\\n",
    "III. Wenn wir eine Klasse in Python implementieren, haben zwei Instanzen dieser Klasse, die sich nur im Namen unterscheiden, in der Regel die gleichen Hashes, wenn wir die Methode hash() in Python verwenden.\\\n",
    "IV. Alle Python-Datentypen sind hashable."
   ]
  },
  {
   "cell_type": "markdown",
   "metadata": {},
   "source": [
    "### 2. Aufgabe (Algorithmusmuster) <div style=\"text-align: right\">(6 Punkte)</div>\n",
    "\n",
    "Wir haben in der Vorlesung Algorithmenmuster als ein Verfahren zu Entwicklung von konkreten Algorithmen kennengerlent. Dabei wird ein bekanntes Problem als Muster verwendet und abgewandelt um ein neues Problem zu lösen. Ordnen Sie die folgenden probleme jeweils dem passenden Muster zu. Begründen Sie kurz Ihre Wahl. Nutzen Sie gern eine Suchmaschine um Ihre Lösung zu finden :-)\n",
    "\n",
    "**Hinweise:**\n",
    "\n",
    "Ein Muster kann auch auf mehrere Probleme angewendet werden.\\\n",
    "Mehrere Antworten sind für eine Aufgabe möglich. Sie sollen nur eine Lösung mit der passenden Begründung angeben. \n",
    "\n",
    "\n",
    "**Muster:**\n",
    "1. Dynamische Programmierung\n",
    "2. Backtracking\n",
    "3. Greedy-Algorithmen\n",
    "4. Sortieralgorithmen\n",
    "5. Hashverfahren\n",
    "6. Bäume\n",
    "\n",
    "**Probleme:**\n",
    "\n",
    "a) Vertex Coloring (Färbung der Knoten eines Graphen)\n",
    "\n",
    "b) Identifizierung ähnlicher Webdokumente\n",
    "\n",
    "c) Sudoku\n",
    "\n",
    "d) Median-Berechnung\n",
    "\n",
    "e) Pfade mit GPS finden\n",
    "\n",
    "f) Auswertung algebraischer Ausdrücke (expression evaluation)\n"
   ]
  },
  {
   "cell_type": "markdown",
   "metadata": {},
   "source": [
    "### 3. Aufgabe (Hash-Funktion) <div style=\"text-align: right\">(3 Punkte)</div>\n",
    "\n",
    "\n",
    "Angenommen, wir wollen eine Hash-Funktion implementieren, um eine Liste von Strings zu hashen.\n",
    "\n",
    "a) Führen Sie die folgenden Schritte aus und schreiben Sie die Methode in Python.\n",
    "\n",
    "Die Eingabe ist **eine Liste von Strings**.\n",
    "\n",
    "Sie sollten **einen Hash-Code** für die gegebene Liste zurückgeben.\n",
    "\n",
    "Zu Beginn ist der hash_code Null (0). Führen Sie für jeden String die folgenden Schritte durch:\\\n",
    "Addieren Sie den Unicode jedes Characters in dem String und multiplizieren Sie die Summe mit der Länge des Strings. Dann addieren Sie diese Zahl zum hash_code. Sie müssen die Python-Funktion ord() verwenden, um den Integer-Wert des Unicodes für jedes Charakter zu erhalten.\\\n",
    "Schließlich sollte man einfach **den Divisionsrest zum Hash_code geteilt durch 6** zurückgeben. \n",
    "\n",
    "**Achtung:** \n",
    "Bitte beachten Sie, dass es sich hierbei nur um ein Beispiel zum Üben handelt und nicht um einen Standard-Hash-Algorithmus.  \n",
    "\n",
    "\n",
    "b) Angenommen, wir wollen 4 Eingabelisten in einer Hash-Tabelle mit der Größe 6 speichern und dabei die obige Hash-Funktion verwenden. Berechnen Sie die Wahrscheinlichkeit einer Kollision und geben Sie den Lösungsweg an.\n",
    " \n"
   ]
  },
  {
   "cell_type": "code",
   "execution_count": 23,
   "metadata": {},
   "outputs": [],
   "source": [
    "def hash_code_generator(list_strings):\n",
    "    hash_code = 0\n",
    "    return hash_code\n"
   ]
  },
  {
   "cell_type": "code",
   "execution_count": 28,
   "metadata": {},
   "outputs": [
    {
     "name": "stdout",
     "output_type": "stream",
     "text": [
      "test 1/3: Success\n",
      "test 2/3: Success\n",
      "test 3/3: Success\n"
     ]
    }
   ],
   "source": [
    "# Test Cases\n",
    "if hash_code_generator([\"apple\", \"orange\", \"banana\", \"pineapple\", \"melon\", \"pomme grenade\"]) == 3:\n",
    "    print('test 1/3: Success')\n",
    "if hash_code_generator([\"I\", \"love\",  \"BTrees\"]) == 1:\n",
    "    print('test 2/3: Success')\n",
    "if hash_code_generator([\"2022\"]) == 0:\n",
    "    print('test 3/3: Success')"
   ]
  },
  {
   "cell_type": "markdown",
   "metadata": {},
   "source": [
    "### 4. Aufgabe (TSP) <div style=\"text-align: right\">(7 Punkte)</div>\n",
    "\n"
   ]
  },
  {
   "cell_type": "markdown",
   "metadata": {},
   "source": [
    "Gegeben ist folgender gewichteter Graph. Geben Sie einen Pfad über alle Knoten an, sodass kein Knoten mehr als ein mal besucht werden muss und die Kosten der Reise minimal bleiben. Starten Sie im Knoten A. Nutzen Sie das Verfahren der dynamischen Programmierung aus der Vorlesung für TSP:\n",
    "\n",
    "Gesucht ist $\\text{min}(\\text{cost}(i)+\\text{dist}(i,a))$ mit $\\text{cost}(i) = C(S,i)$ für $S = \\{a,b,c,d,e\\}$ und $i \\in S\\setminus\\{a\\}$ und\n",
    "\n",
    "\n",
    "1. Für $|S| = 2$ gilt $S =\\{a, i\\}$ und $C(S, i) = dist(i, a) $\n",
    "2. Für $|S| > 2$ gilt $C(S, i) = min \\{ C(S-\\{i\\}, j) + dist(j, i)\\}$, $\\forall j \\in S.$ $j \\neq i\\; \\wedge \\; j \\neq a$.\n",
    "\n",
    "\n",
    "\n",
    "a) Bitte wenden Sie den Algorithmus an und schreiben Sie die Ergebnisse **schrittweise** auf. Sie brauchen keine Codes zu schreiben. **Geben Sie schließlich die günstigste Reiseroute und die Kosten an.** \n",
    "\n",
    "\n",
    "b) Ist die Lösung eindeutig? Falls nein, geben Sie die Alternativroute an."
   ]
  },
  {
   "cell_type": "markdown",
   "metadata": {},
   "source": [
    "<img src=\"tsp.png\" alt=\"drawing\" width=\"=200\"/>"
   ]
  },
  {
   "cell_type": "code",
   "execution_count": null,
   "metadata": {},
   "outputs": [],
   "source": [
    "#|S| = 2\n",
    "...\n",
    "\n",
    "#|S| = 3\n",
    "...\n",
    "\n",
    "#|S| = 4\n",
    "...\n",
    "\n",
    "# Results\n",
    "..."
   ]
  }
 ],
 "metadata": {
  "kernelspec": {
   "display_name": "Python 3",
   "language": "python",
   "name": "python3"
  },
  "language_info": {
   "codemirror_mode": {
    "name": "ipython",
    "version": 3
   },
   "file_extension": ".py",
   "mimetype": "text/x-python",
   "name": "python",
   "nbconvert_exporter": "python",
   "pygments_lexer": "ipython3",
   "version": "3.8.8"
  }
 },
 "nbformat": 4,
 "nbformat_minor": 4
}
