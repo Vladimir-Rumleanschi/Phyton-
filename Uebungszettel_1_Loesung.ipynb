{
 "cells": [
  {
   "cell_type": "markdown",
   "metadata": {},
   "source": [
    "# Übungszettel Nr. 1 - Datenstrukturen und Algorithmen\n",
    "## WiSe2020/21"
   ]
  },
  {
   "cell_type": "markdown",
   "metadata": {},
   "source": [
    "*English Version below.* \\\n",
    "**Hinweise**: Bitte reichen Sie Ihre Lösung zum Übungszettel unter Einhaltung der\n",
    "nachfolgenden Regeln ein! Bitte beachten Sie: Nur dann wird der Übungszettel\n",
    "geprüft, ansonsten gilt er als nicht abgegeben!\n",
    "1. Sie können ihre Abgaben auch zu zweit abgeben\n",
    "2. Sie reichen genau eine Jupyter-Notebook in einem ZIP-File mit den Lösungen pro Übungszettel ein. Bennenen Sie diese mit Ihrer LUH-ID (z.B. bsp-123). Verwenden Sie bei der Bennenung der Dateien keine Umlaute. Sollten Sie zu zweit abgeben, dann muss nur ein Teilnehmender die Datei hochladen. Tragen Sie auf Ihrer Abgabe beide Namen ein. Bitte beachten Sie, dass bei dem ersten Übungsblatt beide Teilnehmende die selbe Lösung hochladen. (Lesen Sie sich die Hinweise zur Abgabe im Stud.IP durch!)\n",
    "3. Tragen Sie sich im HCI-Abgabetool in die entsprechende Übungsgruppe, die sie besuchen möchten, ein.\n",
    "4. Sie laden Ihre Lösung bis zum nächsten Donnerstag Abend nach Ausgabe des Übungszettels, 23:59 Uhr, in dem HCI-Abgabetool unter der Veranstaltung Datenstrukturen und Algorithmen hoch.\n",
    "5. Erreichen Sie mehr als 66% der zu erreichenden Gesamtpunkte aller Übungszettel, so erhalten Sie einen 10% Bonus auf die erreichten Punkte in der Klausur.\n",
    "\n",
    "Link zum HCI-Abgabetool: https://assignments.hci.uni-hannover.de"
   ]
  },
  {
   "cell_type": "markdown",
   "metadata": {},
   "source": [
    "<red>20 Punkte</red>"
   ]
  },
  {
   "cell_type": "markdown",
   "metadata": {},
   "source": [
    "### 1. Aufgabe ($\\mathcal{O}$-Notation) <div style=\"text-align: right\">(5 Punkte)</div>\n",
    "\n",
    "Widerlegen oder beweisen Sie folgende Aussagen anhand der Definitionen aus der Vorlesung.\n",
    "1. $17n \\in \\mathcal{O} (n)$\n",
    "2. $n^3 ∈ 2^{\\mathcal{O} (n)}$\n",
    "3. $3^n ∈ 2^{\\mathcal{O} (n)}$\n",
    "4. $n · log_2 (n) ∈ \\mathcal{O} (n^2 )$\n",
    "5. $n^4 ∈ \\mathcal{O} (n^3 · log_2 (n))$"
   ]
  },
  {
   "cell_type": "markdown",
   "metadata": {},
   "source": [
    "<font color='red'>Lösungsskizze:</font>\n"
   ]
  },
  {
   "cell_type": "markdown",
   "metadata": {},
   "source": [
    "1. $c=17$\n",
    "2. Setze die Definition $c \\cdot n$ als exponenten ein und löse die Gleichung $n^3\\leq (2^c)^n$.\n",
    "3. Setze die Definition $c \\cdot n$ als exponenten ein und löse die Gleichung $3^n\\leq (2^c)^n$.\n",
    "4. Definition formulieren. Einmal druch $n$ dividieren. Zeigen, das $n$ schneller wächst als sein Logarithmus.\n",
    "5. Definition formulieren. Beide Funktionen durch $n^3$ dividieren. Zeigen dass $\\lim_{n \\to \\infty}\\frac{n}{\\log n}=\\infty$\n"
   ]
  },
  {
   "cell_type": "markdown",
   "metadata": {},
   "source": [
    "### 2. Aufgabe(Laufzeitkomplexität) <div style=\"text-align: right\">(3 Punkte)</div>\n",
    "\n",
    "Widerlegen oder beweisen Sie folgende Aussagen anhand der Definitionen aus der Vorlesung.\n",
    "1. Für $f(n) = 8n^4 + 7n^3 + 12$ gilt: $f(n) ∈ \\mathcal{O}(n^5)$\n",
    "2. Für $f(n) = 2^n + 8n$ gilt: $f(n) ∈ \\mathcal{O}(2^n)$\n",
    "3. Für $f(n) = n · log_2 (n) + n^2 ·\\sqrt{n}$ gilt: $f(n) ∈ \\mathcal{O} (n^4 )$"
   ]
  },
  {
   "cell_type": "markdown",
   "metadata": {},
   "source": [
    "<font color='red'>Lösungsskizze:</font>\n"
   ]
  },
  {
   "cell_type": "markdown",
   "metadata": {},
   "source": [
    "1. $8n^4 + 7n^3 + 12<27n^4<27n^5$ d.h. c= 27\n",
    "2. $\\lim_{n \\to \\infty}\\frac{2^n + 8n}{2^n}=1+\\lim_{n \\to \\infty}\\frac{8n}{2^n}=1+0<\\infty$\n",
    "3. $n · log_2 (n) + n^2 ·\\sqrt{n}\\leq n^3+n^3\\leq 2\\cdot n^4$ wähle c=2"
   ]
  },
  {
   "cell_type": "markdown",
   "metadata": {},
   "source": [
    "### 3. Aufgabe (Zuordnung) <div style=\"text-align: right\">(7 Punkte)</div>\n",
    "Geben Sie zu jeder der folgenden Funktionen die kleinste Komplexitätsklasse an und ordnen Sie die Funktion aufsteigend nach asymptotischem Wachstum.\n",
    "\n",
    "1. $7n(log_2 (n^2 ))$\n",
    "2. $4n · log_2 (n)$\n",
    "3. $e^{ln(n)} + 6n^3$\n",
    "4. $2n^6 + 7n^3$\n",
    "5. $\\sqrt[3]{n^3} + 8$\n",
    "\n",
    "Reihenfolge:"
   ]
  },
  {
   "cell_type": "markdown",
   "metadata": {},
   "source": [
    "<font color='red'>Lösungsskizze:</font>\n"
   ]
  },
  {
   "cell_type": "markdown",
   "metadata": {},
   "source": [
    "1. $n· (log_2 (n))$\n",
    "2. $n · (log_2 (n))$\n",
    "3. $n^3$\n",
    "4. $n^6$\n",
    "5. $n$\n",
    "\n",
    "Reihennfolge: 5.,2.,1.,3,4"
   ]
  },
  {
   "cell_type": "markdown",
   "metadata": {},
   "source": [
    "### 4. Aufgabe (Ω-Notation) <div style=\"text-align: right\">(5 Punkte)</div>\n",
    "Widerlegen oder beweisen Sie folgende Aussagen anhand der Definitionen aus der Vorlesung.\n",
    "1. $7n^3 ∈ Ω(n^4)$\n",
    "2. $5n^2 ∈ n^{Ω(n)}$\n",
    "3. $2^n ∈ Ω(3^n)$\n",
    "4. $n^4 ∈ Ω(n^3)$\n",
    "5. $\\sqrt{n} ∈ Ω(log_2 (n))$"
   ]
  },
  {
   "cell_type": "markdown",
   "metadata": {},
   "source": [
    "<font color='red'>Lösungsskizze:</font>\n"
   ]
  },
  {
   "cell_type": "markdown",
   "metadata": {},
   "source": [
    "1. Widerspruch: $\\frac{7}{n}>c$, Grenzwert ist aber 0.--> Widerspruch\n",
    "2. Ersetze exponent mit $c \\cdot n$. Zeige dass Grenzwert gegen 0 geht --> Widerspruch\n",
    "3. Limes von $(\\frac{2}{3})^n$ geht gegen Null -> Widerspruch\n",
    "4. $c=1$ wahre Aussage\n",
    "5. $\\lim_{n \\to \\infty}\\frac{\\sqrt{n}}{log_2 (n)}=\\lim_{n \\to \\infty}\\frac{\\ln(2) n}{2 \\sqrt{n}}=\\lim_{n \\to \\infty}\\frac{\\ln(2) \\sqrt{n}}{2}=\\infty >0$"
   ]
  },
  {
   "cell_type": "markdown",
   "metadata": {},
   "source": []
  }
 ],
 "metadata": {
  "kernelspec": {
   "display_name": "Python 3",
   "language": "python",
   "name": "python3"
  },
  "language_info": {
   "codemirror_mode": {
    "name": "ipython",
    "version": 3
   },
   "file_extension": ".py",
   "mimetype": "text/x-python",
   "name": "python",
   "nbconvert_exporter": "python",
   "pygments_lexer": "ipython3",
   "version": "3.8.8"
  }
 },
 "nbformat": 4,
 "nbformat_minor": 4
}
